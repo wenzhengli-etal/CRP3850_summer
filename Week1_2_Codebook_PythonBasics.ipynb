{
 "cells": [
  {
   "cell_type": "markdown",
   "metadata": {
    "slideshow": {
     "slide_type": "-"
    }
   },
   "source": [
    "# Week1_2 Python Basics \n",
    "\n",
    "\n",
    "In this week, we will experimment with Python coding using Jupyter Notebook. We will go further to introduce the Python basic syntax, variables, statements, loops, and probably functions. The purpose is to introduce you to common python operations. We do *not* expect you to commit to memory that various lines of code. It is only through repetition that you will begin to internalize code syntax.\n",
    "\n",
    "<p><a id=\"table\"> </a></p>\n",
    "<h3 id=\"Table-of-Contents\">Table of Contents<a class=\"anchor-link\" href=\"#Table-of-Contents\">¶</a></h3>\n",
    "\n",
    "<ol>\n",
    "<h3>1.1 <a href=\"#variablesanddatatype\">Variables and data type</a><br/></h3>\n",
    "1.1.1 <a href=\"#createvariable\">Creating a variable</a><br/>\n",
    "1.1.2 <a href=\"#datatypes\">Data types</a><br/>\n",
    "</ol>\n",
    "\n",
    "<ol>\n",
    "<h3>1.2 <a href=\"#operators\">Operators</a><br/></h3>\n",
    "1.2.1 <a href=\"#arithmeticoperators\">Arithmetic operators</a><br/>\n",
    "1.2.2 <a href=\"#comparisonoperators\">Comparison operators</a><br/>\n",
    "1.2.3 <a href=\"#logicaloperators\">Logical operators</a><br/>\n",
    "</ol>\n",
    "\n",
    "<ol>\n",
    "<h3>1.3 <a href=\"#list\">List</a><br/></h3>\n",
    "1.3.1 <a href=\"#definingalist\">Defining a list</a><br/>\n",
    "1.3.2 <a href=\"#listconcatenation\">List concatenation</a><br/>\n",
    "1.3.3 <a href=\"#subscriptindicesandslices\">Subscript indices and slices (IMPORTANT)</a><br/>\n",
    "</ol>\n",
    "\n",
    "<ol>\n",
    "<h3>1.4 <a href=\"#string\">String</a><br/></h3>\n",
    "</ol>\n",
    "\n",
    "<ol>\n",
    "<h3>1.6 <a href=\"#ifstatement\">if statement</a><br/></h3>\n",
    "</ol>\n",
    "\n",
    "<ol>\n",
    "<h3>1.7 <a href=\"#loop(forstatement)\">for-loop</a><br/></h3>\n",
    "1.7.1 <a href=\"#loopcontrolstatements:continueandbreak\">Control statements of a loop: continue and break (Optional)</a><br/>\n",
    "1.7.2 <a href=\"#thenestedloop(loopinsideanotherloop)\">The nested loop (loop inside another loop)</a><br/>   \n",
    "</ol>\n",
    "\n",
    "<ol>\n",
    "<h3>1.8 <a href=\"#definingfunctions)\">Defining functions (Optional) </a><br/></h3>  \n",
    "</ol>\n"
   ]
  },
  {
   "cell_type": "markdown",
   "metadata": {},
   "source": [
    "<p><a id=\"variablesanddatatype\"> </a></p>\n",
    "<h2 id=\"1.1-Variables-and-data-type\">1.1 <a href=\"#table\">Variables and data type</a><a class=\"anchor-link\" href=\"#1.1-Variables-and-data-type\">¶</a></h2>\n",
    "\n",
    "<p><a id=\"createvariable\"> </a></p>\n",
    "<h3 id=\"1.1.1-Creating-a-variable\">1.1.1 <a href=\"#table\">Creating a variable</a><a class=\"anchor-link\" href=\"#1.1.1-Creating-a-variable\">¶</a></h3>"
   ]
  },
  {
   "cell_type": "markdown",
   "metadata": {},
   "source": [
    "- Creating a variable using \"=\"\n",
    "    - e.g., var_0=15\n",
    "\n",
    "- Rules of variable name\n",
    "    - Can be any length\n",
    "    - Can consist of letters ( A Z , a z ), digits ( 0 9 ), and the underscore character ( _ )\n",
    "    - CANNOT start with a digit \n",
    "    - Never name a variable using built-in function names, e.g., print, len, list <br> *built-in functions are shown in green in code cell by default*\n"
   ]
  },
  {
   "cell_type": "code",
   "execution_count": 3,
   "metadata": {},
   "outputs": [],
   "source": [
    "# cannot start with digits\n",
    "9_var = 1"
   ]
  },
  {
   "cell_type": "code",
   "execution_count": 9,
   "metadata": {},
   "outputs": [],
   "source": [
    "# cannot use built-in functions\n",
    "print = 3"
   ]
  },
  {
   "cell_type": "code",
   "execution_count": 1,
   "metadata": {},
   "outputs": [
    {
     "name": "stdout",
     "output_type": "stream",
     "text": [
      "hello world\n"
     ]
    }
   ],
   "source": [
    "print(\"hello world\")"
   ]
  },
  {
   "cell_type": "markdown",
   "metadata": {},
   "source": [
    "<p><a id=\"datatypes\"> </a></p>\n",
    "<h3 id=\"1.1.2-Data-types\">1.1.2 <a href=\"#table\">Data types</a><a class=\"anchor-link\" href=\"#1.1.2-Data-types\">¶</a></h3>"
   ]
  },
  {
   "cell_type": "markdown",
   "metadata": {},
   "source": [
    "   - Numeric: integer (int), decimal number (float)\n",
    " \n",
    "   - String: text (str)\n",
    "\n",
    "   - Boolean: True or False (bool)\n",
    "\n",
    "   - List: collection of numerics, strings, or booleans:\n"
   ]
  },
  {
   "cell_type": "code",
   "execution_count": 12,
   "metadata": {},
   "outputs": [],
   "source": [
    "# define an integer\n",
    "a,b = 10, 12.43242"
   ]
  },
  {
   "cell_type": "code",
   "execution_count": 14,
   "metadata": {},
   "outputs": [
    {
     "name": "stdout",
     "output_type": "stream",
     "text": [
      "<class 'int'>\n",
      "<class 'float'>\n"
     ]
    }
   ],
   "source": [
    "# check the data type\n",
    "print(type(a))\n",
    "print(type(b))"
   ]
  },
  {
   "cell_type": "code",
   "execution_count": 10,
   "metadata": {},
   "outputs": [],
   "source": [
    "# define a string variable\n",
    "a = \"hello world\""
   ]
  },
  {
   "cell_type": "code",
   "execution_count": 11,
   "metadata": {},
   "outputs": [
    {
     "data": {
      "text/plain": [
       "str"
      ]
     },
     "execution_count": 11,
     "metadata": {},
     "output_type": "execute_result"
    }
   ],
   "source": [
    "type(a)"
   ]
  },
  {
   "cell_type": "code",
   "execution_count": 22,
   "metadata": {},
   "outputs": [
    {
     "data": {
      "text/plain": [
       "True"
      ]
     },
     "execution_count": 22,
     "metadata": {},
     "output_type": "execute_result"
    }
   ],
   "source": [
    "# check the Boolean type data\n",
    "b = 3 != 4\n",
    "b"
   ]
  },
  {
   "cell_type": "code",
   "execution_count": 23,
   "metadata": {},
   "outputs": [
    {
     "data": {
      "text/plain": [
       "bool"
      ]
     },
     "execution_count": 23,
     "metadata": {},
     "output_type": "execute_result"
    }
   ],
   "source": [
    "type(b)"
   ]
  },
  {
   "cell_type": "code",
   "execution_count": 24,
   "metadata": {},
   "outputs": [
    {
     "data": {
      "text/plain": [
       "[1, 'hello', True]"
      ]
     },
     "execution_count": 24,
     "metadata": {},
     "output_type": "execute_result"
    }
   ],
   "source": [
    "# define a list\n",
    "lst1 = [1, \"hello\", 3!=4]\n",
    "lst1"
   ]
  },
  {
   "cell_type": "code",
   "execution_count": 25,
   "metadata": {},
   "outputs": [
    {
     "data": {
      "text/plain": [
       "True"
      ]
     },
     "execution_count": 25,
     "metadata": {},
     "output_type": "execute_result"
    }
   ],
   "source": [
    "# check if 1 is in the lst1\n",
    "1 in lst1"
   ]
  },
  {
   "cell_type": "markdown",
   "metadata": {},
   "source": [
    "---\n",
    "##### Python built-in functions/methods\n",
    "- Python interpreter has various pre-defined functions that are readily available to use. We don’t have to define these functions to use them; we can directly call them. These functions are called built-in functions.    \n",
    "\n",
    "- Built-in Functions:\n",
    "    - *type( )*: check a variable type (integer, string, etc.）\n",
    "    - *print( )*: Print a specified message to the screen\n",
    "    - *int( )*:  convert a variable into an integer: int(var1)\n",
    "    - *round()*: round to the nearest integer\n",
    "---"
   ]
  },
  {
   "cell_type": "code",
   "execution_count": 28,
   "metadata": {
    "scrolled": true
   },
   "outputs": [
    {
     "data": {
      "text/plain": [
       "1"
      ]
     },
     "execution_count": 28,
     "metadata": {},
     "output_type": "execute_result"
    }
   ],
   "source": [
    "# convert a float variable to intger\n",
    "a = 1.9\n",
    "int(a) # round down the variable "
   ]
  },
  {
   "cell_type": "code",
   "execution_count": 29,
   "metadata": {},
   "outputs": [
    {
     "data": {
      "text/plain": [
       "2"
      ]
     },
     "execution_count": 29,
     "metadata": {},
     "output_type": "execute_result"
    }
   ],
   "source": [
    "# round to the nearest integer\n",
    "a = 1.9\n",
    "round(a)"
   ]
  },
  {
   "cell_type": "code",
   "execution_count": null,
   "metadata": {},
   "outputs": [],
   "source": []
  },
  {
   "cell_type": "code",
   "execution_count": null,
   "metadata": {},
   "outputs": [],
   "source": []
  },
  {
   "cell_type": "markdown",
   "metadata": {},
   "source": [
    "---\n",
    "##### Python built-in functions/methods"
   ]
  },
  {
   "cell_type": "markdown",
   "metadata": {},
   "source": [
    "---\n",
    "##### Data type conversion\n",
    "\n",
    "   - Convert a variable into an integer: int(var1)\n",
    "   - Convert a variable into a string: str(var1)\n",
    "   - Convert a variable into a float: float(var1)\n",
    "---"
   ]
  },
  {
   "cell_type": "code",
   "execution_count": null,
   "metadata": {},
   "outputs": [],
   "source": []
  },
  {
   "cell_type": "markdown",
   "metadata": {},
   "source": [
    "---   \n",
    "##### Built-in function\n",
    "- **round(var)**: \n",
    "  - round to the nearest integer\n",
    "---"
   ]
  },
  {
   "cell_type": "markdown",
   "metadata": {},
   "source": [
    "<p><a id=\"operators\"> </a></p>\n",
    "<h2 id=\"1.2-Operators\">1.2 <a href=\"#table\">Operators</a><a class=\"anchor-link\" href=\"#1.2-Operators\">¶</a></h2>\n",
    "\n",
    "<p><a id=\"arithmeticoperators\"> </a></p>\n",
    "<h3 id=\"1.2.1-Arithmetic-operators\">1.2.1 <a href=\"#table\">Arithmetic operators</a><a class=\"anchor-link\" href=\"#1.2.1-Arithmetic-operators\">¶</a></h3>"
   ]
  },
  {
   "cell_type": "markdown",
   "metadata": {},
   "source": [
    "- +, -, *, /\n",
    "- %: mod, get the remainder of a division.\n",
    "- //: get the integer part of a quotient. e.g., 7//3=2 \n",
    "- **: power. "
   ]
  },
  {
   "cell_type": "code",
   "execution_count": null,
   "metadata": {},
   "outputs": [],
   "source": []
  },
  {
   "cell_type": "code",
   "execution_count": 35,
   "metadata": {},
   "outputs": [
    {
     "data": {
      "text/plain": [
       "1"
      ]
     },
     "execution_count": 35,
     "metadata": {},
     "output_type": "execute_result"
    }
   ],
   "source": [
    "# remainder of 3 divided by 2\n",
    "7%2"
   ]
  },
  {
   "cell_type": "code",
   "execution_count": 36,
   "metadata": {},
   "outputs": [
    {
     "data": {
      "text/plain": [
       "3"
      ]
     },
     "execution_count": 36,
     "metadata": {},
     "output_type": "execute_result"
    }
   ],
   "source": [
    "# if we want the integer part\n",
    "7//2"
   ]
  },
  {
   "cell_type": "code",
   "execution_count": 32,
   "metadata": {},
   "outputs": [
    {
     "data": {
      "text/plain": [
       "1000"
      ]
     },
     "execution_count": 32,
     "metadata": {},
     "output_type": "execute_result"
    }
   ],
   "source": [
    "# 10 to the power of 3\n",
    "c = 10**3\n",
    "c"
   ]
  },
  {
   "cell_type": "code",
   "execution_count": null,
   "metadata": {},
   "outputs": [],
   "source": []
  },
  {
   "cell_type": "markdown",
   "metadata": {},
   "source": [
    "<p><a id=\"comparisonoperators\"> </a></p>\n",
    "<h3 id=\"1.2.2-comparison-operators\">1.2.2 <a href=\"#table\">Comparison operators</a><a class=\"anchor-link\" href=\"#1.2.2-Comparison-operators\">¶</a></h3>"
   ]
  },
  {
   "cell_type": "markdown",
   "metadata": {},
   "source": [
    "- <,  >,  <=,  >=\n",
    "- ==: if the values of two operands are equal, \"==\" returns True, otherwise, it returns False\n",
    "- !=: if the values of two operands are **NOT** equal, \"!=\" returns True, otherwise, it returns False"
   ]
  },
  {
   "cell_type": "code",
   "execution_count": null,
   "metadata": {},
   "outputs": [],
   "source": [
    "a, b = 21, 10\n",
    "print(a == b) \n",
    "print(a != b) \n",
    "print(a >= 21) "
   ]
  },
  {
   "cell_type": "code",
   "execution_count": 62,
   "metadata": {},
   "outputs": [],
   "source": [
    "a, b = 21, 10"
   ]
  },
  {
   "cell_type": "code",
   "execution_count": 63,
   "metadata": {},
   "outputs": [
    {
     "data": {
      "text/plain": [
       "False"
      ]
     },
     "execution_count": 63,
     "metadata": {},
     "output_type": "execute_result"
    }
   ],
   "source": [
    "a == b"
   ]
  },
  {
   "cell_type": "code",
   "execution_count": 64,
   "metadata": {},
   "outputs": [
    {
     "data": {
      "text/plain": [
       "True"
      ]
     },
     "execution_count": 64,
     "metadata": {},
     "output_type": "execute_result"
    }
   ],
   "source": [
    "a != b"
   ]
  },
  {
   "cell_type": "code",
   "execution_count": 65,
   "metadata": {},
   "outputs": [
    {
     "data": {
      "text/plain": [
       "True"
      ]
     },
     "execution_count": 65,
     "metadata": {},
     "output_type": "execute_result"
    }
   ],
   "source": [
    "a >= 21"
   ]
  },
  {
   "cell_type": "markdown",
   "metadata": {},
   "source": [
    "<p><a id=\"logicaloperators\"> </a></p>\n",
    "<h3 id=\"1.2.3-logical-operators\">1.2.3 <a href=\"#table\">Logical operators</a><a class=\"anchor-link\" href=\"#1.2.3-Logical-operators\">¶</a></h3>"
   ]
  },
  {
   "cell_type": "markdown",
   "metadata": {},
   "source": [
    "- and: If both the operands are true then condition becomes true.\n",
    "- or: If any of the two operands are true then condition becomes true.\n",
    "- not: Get the reversed output. "
   ]
  },
  {
   "cell_type": "code",
   "execution_count": 43,
   "metadata": {},
   "outputs": [
    {
     "data": {
      "text/plain": [
       "False"
      ]
     },
     "execution_count": 43,
     "metadata": {},
     "output_type": "execute_result"
    }
   ],
   "source": [
    "3>4 and 3<4"
   ]
  },
  {
   "cell_type": "code",
   "execution_count": 44,
   "metadata": {},
   "outputs": [
    {
     "data": {
      "text/plain": [
       "True"
      ]
     },
     "execution_count": 44,
     "metadata": {},
     "output_type": "execute_result"
    }
   ],
   "source": [
    "3>4 or 3<4"
   ]
  },
  {
   "cell_type": "markdown",
   "metadata": {},
   "source": [
    "**In class exercise**:\n",
    "- Judge the result:\n",
    "    - (2>1) and (3>18) or (5>4)\n",
    "    - not(2>1 or (3<2)) "
   ]
  },
  {
   "cell_type": "code",
   "execution_count": null,
   "metadata": {},
   "outputs": [],
   "source": []
  },
  {
   "cell_type": "markdown",
   "metadata": {},
   "source": [
    "<p><a id=\"list\"> </a></p>\n",
    "<h2 id=\"1.3-list\">1.3 <a href=\"#table\">List</a><a class=\"anchor-link\" href=\"#1.3-List\">¶</a></h2>\n",
    "\n",
    "A list is created by placing all the items (elements) inside square brackets `[]`, separated by commas. It can have any number of items and they may be of different types (integer, float, string etc.).\n",
    "\n",
    "<p><a id=\"definingalist\"> </a></p>\n",
    "<h3 id=\"1.3.1-defining-a-list\">1.3.1 <a href=\"#table\">Defining a list</a><a class=\"anchor-link\" href=\"#1.3.1-Defining-a-list\">¶</a></h3>"
   ]
  },
  {
   "cell_type": "code",
   "execution_count": 46,
   "metadata": {},
   "outputs": [
    {
     "data": {
      "text/plain": [
       "True"
      ]
     },
     "execution_count": 46,
     "metadata": {},
     "output_type": "execute_result"
    }
   ],
   "source": [
    "(2>1) and (3>18) or (5>4)"
   ]
  },
  {
   "cell_type": "markdown",
   "metadata": {},
   "source": [
    "- two ways to define a list:\n",
    "    - using `[]`. For example, `my_list = [1, \"Hello\", 3.4]`\n",
    "    - using `list(range( ))` \n",
    "        - two functions: `list( )` and `range( )`\n",
    "        \n",
    "- range():\n",
    "    - start (optional): The starting number of the sequence. The default value is 0.\n",
    "    - stop: The end of the sequence. This value is not included in the sequence.\n",
    "    - step (optional): The difference between each number in the sequence. The default value is 1."
   ]
  },
  {
   "cell_type": "code",
   "execution_count": 47,
   "metadata": {},
   "outputs": [
    {
     "data": {
      "text/plain": [
       "False"
      ]
     },
     "execution_count": 47,
     "metadata": {},
     "output_type": "execute_result"
    }
   ],
   "source": [
    "not(2>1 or (3<2))"
   ]
  },
  {
   "cell_type": "code",
   "execution_count": 70,
   "metadata": {
    "scrolled": true
   },
   "outputs": [
    {
     "name": "stdout",
     "output_type": "stream",
     "text": [
      "[1, 2, 3, 4, 5]\n"
     ]
    },
    {
     "data": {
      "text/plain": [
       "[1, 2, 3, 4, 5]"
      ]
     },
     "execution_count": 70,
     "metadata": {},
     "output_type": "execute_result"
    }
   ],
   "source": [
    "# Defining a list from 0 to 5\n",
    "\n",
    "# method 1: using [] \n",
    "lst1 = [1,2,3,4,5]\n",
    "print(lst1)\n",
    "\n",
    "# method 2: using list() + range(): generate numbers up to, but not including this number \n",
    "temp = range(1,6)\n",
    "list(temp)\n",
    "\n",
    "list(range(1,6))\n"
   ]
  },
  {
   "cell_type": "code",
   "execution_count": 69,
   "metadata": {},
   "outputs": [
    {
     "data": {
      "text/plain": [
       "range"
      ]
     },
     "execution_count": 69,
     "metadata": {},
     "output_type": "execute_result"
    }
   ],
   "source": [
    "type(temp)"
   ]
  },
  {
   "cell_type": "code",
   "execution_count": 59,
   "metadata": {},
   "outputs": [
    {
     "data": {
      "text/plain": [
       "[1, 3, 5, 7, 9]"
      ]
     },
     "execution_count": 59,
     "metadata": {},
     "output_type": "execute_result"
    }
   ],
   "source": [
    "# create a list of 1,3,5,7,9 - odd numbers\n",
    "lst2 = list(range(1, 10, 2))\n",
    "lst2"
   ]
  },
  {
   "cell_type": "code",
   "execution_count": 58,
   "metadata": {},
   "outputs": [
    {
     "name": "stdout",
     "output_type": "stream",
     "text": [
      "5 5\n"
     ]
    }
   ],
   "source": [
    "# using len(object)\n",
    "print(len(lst1), len(lst2))"
   ]
  },
  {
   "cell_type": "markdown",
   "metadata": {},
   "source": [
    "<p><a id=\"listconcatenation\"> </a></p>\n",
    "<h3 id=\"1.3.2-list-concatenation\">1.3.2 <a href=\"#table\">List concatenation</a><a class=\"anchor-link\" href=\"#1.3.2-List-concatenation\">¶</a></h3>\n",
    "\n",
    "Let’s see how to concatenate (or join) two lists and how to append elements to a list\n",
    "\n",
    "The most conventional method to perform the list concatenation is the use of “+” operator which easily add the whole of one list behind the other list and hence perform the concatenation.\n"
   ]
  },
  {
   "cell_type": "code",
   "execution_count": 74,
   "metadata": {
    "scrolled": false
   },
   "outputs": [],
   "source": [
    "# join two lists\n",
    "lst1=[1,2,3]\n",
    "lst2=[\"20240604\", \"20240605\"]"
   ]
  },
  {
   "cell_type": "code",
   "execution_count": 75,
   "metadata": {},
   "outputs": [
    {
     "data": {
      "text/plain": [
       "[1, 2, 3, '20240604', '20240605']"
      ]
     },
     "execution_count": 75,
     "metadata": {},
     "output_type": "execute_result"
    }
   ],
   "source": [
    "lst1+lst2"
   ]
  },
  {
   "cell_type": "code",
   "execution_count": 77,
   "metadata": {},
   "outputs": [
    {
     "name": "stdout",
     "output_type": "stream",
     "text": [
      "[1, 2, 3, 1, 2, 3, '20240604', '20240605', '20240604', '20240605', '20240604', '20240605']\n"
     ]
    }
   ],
   "source": [
    "print(lst1*2+lst2*3)"
   ]
  },
  {
   "cell_type": "markdown",
   "metadata": {},
   "source": [
    "- **my_list.append(*item*)**\n",
    "    - adds an item to the end of the list\n",
    "    - Argument: *item*: the item to be added at the end of the list. The item can be numbers, strings, dictionaries, another list, and so on.\n",
    "        "
   ]
  },
  {
   "cell_type": "code",
   "execution_count": 78,
   "metadata": {},
   "outputs": [
    {
     "data": {
      "text/plain": [
       "[1, 2, 3, '202001']"
      ]
     },
     "execution_count": 78,
     "metadata": {},
     "output_type": "execute_result"
    }
   ],
   "source": [
    "# append an element to a list\n",
    "lst1=[1,2,3]\n",
    "lst1.append(\"202001\")\n",
    "lst1"
   ]
  },
  {
   "cell_type": "markdown",
   "metadata": {},
   "source": [
    "<p><a id=\"subscriptindicesandslices\"> </a></p>\n",
    "<h3 id=\"1.3.3-Subscript-indices-and-slices-(IMPORTANT)\">1.3.3 <a href=\"#table\">Subscript indices and slices (IMPORTANT)</a><a class=\"anchor-link\" href=\"#1.3.3-Subscript-indices-and-slices-(IMPORTANT)\">¶</a></h3>"
   ]
  },
  {
   "cell_type": "markdown",
   "metadata": {},
   "source": [
    "**how to select an element or a subset of elements from a list?**\n",
    "\n",
    "\n",
    "- **indexing** means selecting an individual element in a sequence(list) using an index. \n",
    "    - An **index** denotes the position of an element in a sequence (list).\n",
    "    - To select an element of the list, we use the index operator [ ]. e.g., **my_list[*index*]**\n",
    "    - Always remember **Python index counts from 0**. See the figure in slide to understand what is an index. \n",
    "        \n",
    "        \n",
    "- **slicing** means selecting a **subset** of elements from a sequence (list) based on the indexes.\n",
    "    - To select an subset of elements, we can use **my_list[*start* : *stop*]**, \n",
    "    - The arguments *start* and *stop* denote the corresponding index. \n",
    "    - Note that the *start* bound is included in the output. The *stop* bound is not included."
   ]
  },
  {
   "cell_type": "code",
   "execution_count": 84,
   "metadata": {
    "scrolled": true
   },
   "outputs": [
    {
     "name": "stdout",
     "output_type": "stream",
     "text": [
      "15\n",
      "a\n",
      "1000\n",
      "1000\n",
      "110\n"
     ]
    }
   ],
   "source": [
    "# indexing\n",
    "lst=[15,\"a\",14,64,75,100,110,1000] \n",
    "\n",
    "#print the first element of lst \n",
    "print(lst[0])\n",
    "\n",
    "#print the second element of lst \n",
    "print(lst[1])\n",
    "    \n",
    "#print the last element of lst \n",
    "print(lst[7])\n",
    "print(lst[-1])\n",
    "\n",
    "#print the second to last element of lst\n",
    "print(lst[-2])"
   ]
  },
  {
   "cell_type": "markdown",
   "metadata": {},
   "source": [
    "---\n",
    "**In class exercise**: how to select the element \"hello\" from the following list? <br>\n",
    "```python\n",
    "lst=[1,2,\"a\",3,4,5,[1,2,\"hello\"],10,11,100]\n",
    "```\n",
    "---"
   ]
  },
  {
   "cell_type": "code",
   "execution_count": 90,
   "metadata": {},
   "outputs": [
    {
     "name": "stdout",
     "output_type": "stream",
     "text": [
      "[14, 64, 75, 100]\n",
      "[14, 64, 75, 100]\n",
      "[110, 1000]\n"
     ]
    }
   ],
   "source": [
    "# slicing\n",
    "lst=[15,\"a\",14,64,75,100,110,1000]\n",
    "\n",
    "# [14, 64, 75]\n",
    "print(lst[2:6])\n",
    "print(lst[2:-2])\n",
    "\n",
    "# select the last two elements\n",
    "print(lst[-2:])"
   ]
  },
  {
   "cell_type": "markdown",
   "metadata": {},
   "source": [
    "---\n",
    "**In class exercise**: \n",
    "```python\n",
    "lst = [15,\"a\",14,64,75,100,110,1000]\n",
    "```\n",
    "select a subset [15,\"a\",14,64,75,100,110] and named it `lst_subset`\n",
    "\n",
    "\n",
    "---"
   ]
  },
  {
   "cell_type": "code",
   "execution_count": null,
   "metadata": {},
   "outputs": [],
   "source": []
  },
  {
   "cell_type": "markdown",
   "metadata": {},
   "source": [
    "---\n",
    "##### built-in functions of list\n",
    "- **len(*my_list*)**, **max(*my_list*)**, **min(*my_list*)**, **sum(*my_list*)**\n",
    "\n",
    "\n",
    "- **my_list.index(*element*)**\n",
    "    - returns the first index of the given element in the list \n",
    "\n",
    "- **my_list.insert(*i*, *elem*)**\n",
    "    -  elem is inserted to the list at the ith index\n",
    "    \n",
    "- **my_list.sort(*reverse=True/False*)**\n",
    "    - sort the list with ascending/descending order.\n",
    "\n",
    "\n",
    "- There are many other useful built-in functions such as `.pop()` and `del`. We are unable to cover all of them here. When doing your homework and final project, google the specific functions you want to achieve and you will find the answer. Do not expect to memorize all these functions.\n",
    "\n",
    "---"
   ]
  },
  {
   "cell_type": "code",
   "execution_count": null,
   "metadata": {},
   "outputs": [],
   "source": [
    "# built-in functions of list\n",
    "lst=list(range(1, 11)) # list from 1-10 "
   ]
  },
  {
   "cell_type": "code",
   "execution_count": 97,
   "metadata": {},
   "outputs": [
    {
     "name": "stdout",
     "output_type": "stream",
     "text": [
      "10 10 1 55\n"
     ]
    }
   ],
   "source": [
    "# len(), max(), min(), sum()\n",
    "print(len(lst), max(lst), min(lst), sum(lst))"
   ]
  },
  {
   "cell_type": "code",
   "execution_count": 94,
   "metadata": {},
   "outputs": [
    {
     "name": "stdout",
     "output_type": "stream",
     "text": [
      "0\n"
     ]
    }
   ],
   "source": [
    "# find the index of the element with value 1\n",
    "print(lst.index(1))"
   ]
  },
  {
   "cell_type": "code",
   "execution_count": 98,
   "metadata": {},
   "outputs": [
    {
     "name": "stdout",
     "output_type": "stream",
     "text": [
      "[1, 1000, 2, 3, 4, 5, 6, 7, 8, 9, 10]\n"
     ]
    }
   ],
   "source": [
    "# insert 1000 at the 1th index\n",
    "lst.insert(1,1000)\n",
    "print(lst)"
   ]
  },
  {
   "cell_type": "code",
   "execution_count": 99,
   "metadata": {},
   "outputs": [
    {
     "name": "stdout",
     "output_type": "stream",
     "text": [
      "None\n"
     ]
    }
   ],
   "source": [
    "# removing the value 1000 (note: only the first occurrence of element)\n",
    "lst.remove(1000)\n",
    "print(lst)"
   ]
  },
  {
   "cell_type": "code",
   "execution_count": 100,
   "metadata": {},
   "outputs": [
    {
     "data": {
      "text/plain": [
       "[1, 2, 3, 4, 5, 6, 7, 8, 9, 10]"
      ]
     },
     "execution_count": 100,
     "metadata": {},
     "output_type": "execute_result"
    }
   ],
   "source": [
    "lst"
   ]
  },
  {
   "cell_type": "code",
   "execution_count": 103,
   "metadata": {},
   "outputs": [
    {
     "data": {
      "text/plain": [
       "[10, 9, 8, 7, 6, 5, 4, 3, 2, 1]"
      ]
     },
     "execution_count": 103,
     "metadata": {},
     "output_type": "execute_result"
    }
   ],
   "source": [
    "lst.sort(reverse=True)\n",
    "lst"
   ]
  },
  {
   "cell_type": "code",
   "execution_count": 104,
   "metadata": {},
   "outputs": [
    {
     "data": {
      "text/plain": [
       "[10, 9, 8, 7, 6, 5, 4, 3, 2, 1]"
      ]
     },
     "execution_count": 104,
     "metadata": {},
     "output_type": "execute_result"
    }
   ],
   "source": [
    "# sort the list by descending order\n",
    "lst.sort(reverse=True)\n",
    "lst"
   ]
  },
  {
   "cell_type": "markdown",
   "metadata": {},
   "source": [
    "<p><a id=\"string\"> </a></p>\n",
    "<h2 id=\"1.4-string\">1.4 <a href=\"#table\">String</a><a class=\"anchor-link\" href=\"#1.4-String\">¶</a></h2>"
   ]
  },
  {
   "cell_type": "markdown",
   "metadata": {},
   "source": [
    "- A sequence of characters, for example, \"hello world\" and \"Way2go\". \n",
    "- Can be created with single quotes ('') or double quotes (\"\")--used interchangeably (e.g., “a” and ‘a’ are the same). However, we cannot create a Python string without quotes. \n",
    "- Quote all non-numeric texts, such as \"123ab\", \"853v94\", except for the date object (We may cover this part later)\n",
    "\n",
    "To get access to one character or a subset of characters of a string variable. We use **indexing and slicing**"
   ]
  },
  {
   "cell_type": "code",
   "execution_count": null,
   "metadata": {},
   "outputs": [],
   "source": [
    "st = 'abcdefg'"
   ]
  },
  {
   "cell_type": "code",
   "execution_count": 106,
   "metadata": {
    "scrolled": false
   },
   "outputs": [
    {
     "data": {
      "text/plain": [
       "'g'"
      ]
     },
     "execution_count": 106,
     "metadata": {},
     "output_type": "execute_result"
    }
   ],
   "source": [
    "# indexing: select element \"c\"\n",
    "st[2]\n",
    "\n",
    "# select the last element\n",
    "st[-1]"
   ]
  },
  {
   "cell_type": "code",
   "execution_count": 108,
   "metadata": {},
   "outputs": [
    {
     "data": {
      "text/plain": [
       "'abc'"
      ]
     },
     "execution_count": 108,
     "metadata": {},
     "output_type": "execute_result"
    }
   ],
   "source": [
    "# slicing: efg\n",
    "st[4:]\n",
    "\n",
    "# abc\n",
    "st[:3]"
   ]
  },
  {
   "cell_type": "code",
   "execution_count": 2,
   "metadata": {},
   "outputs": [
    {
     "data": {
      "text/plain": [
       "'Hello World'"
      ]
     },
     "execution_count": 2,
     "metadata": {},
     "output_type": "execute_result"
    }
   ],
   "source": [
    "#  Concatenate two strings \n",
    "str1 = \"Hello\"\n",
    "str2 = \"World\"\n",
    "str1 + \" \" + str2"
   ]
  },
  {
   "cell_type": "markdown",
   "metadata": {},
   "source": [
    "---\n",
    "**In class exercise**: \n",
    "```python\n",
    "str1 = 'abcdefg'\n",
    "```\n",
    "select a subset named `str2 = 'cde'`\n",
    "\n",
    "---"
   ]
  },
  {
   "cell_type": "code",
   "execution_count": null,
   "metadata": {},
   "outputs": [],
   "source": []
  },
  {
   "cell_type": "markdown",
   "metadata": {},
   "source": [
    "---\n",
    "##### Built-in functions of string\n",
    "   - string shares some of the functions that we have covered in the previous sessions&mdash;**str.index()** and **len(*str*)** \n",
    "   \n",
    "   \n",
    "   - **str.replace(*old_str*,*new_str*)**\n",
    "       - replace the old substring with the new substring\n",
    "       - the function returns a copy of the string, meaning that str_1.replace(*old_str*,*new_str*) does not change the value of the original string variable *str_1*. Assign the returned copy of string to a newly-defined string variable if necessary\n",
    "\n",
    "   \n",
    "   - **str.startswith(*string*)** and **str.endswith(*string*)**\n",
    "        - str.startswith( )&mdash;returns True if a string starts with the specified prefix. If not, it returns False.\n",
    "        - str.endswith( )&mdash;returns True if a string ends with a specified suffix, if else, it returns False\n",
    "   \n",
    "   \n",
    "   - **str.isnumeric( )** and **str.isalpha( )** \n",
    "        - str.isnumeric()&mdash;checks whether the string consists of only numeric characters. It returns True/False\n",
    "        - str.isalpha()&mdash;check if all the characters are alphabet letters (a-z)\n",
    "---"
   ]
  },
  {
   "cell_type": "code",
   "execution_count": 111,
   "metadata": {},
   "outputs": [],
   "source": [
    "str1 = \"1231242523\""
   ]
  },
  {
   "cell_type": "code",
   "execution_count": 112,
   "metadata": {},
   "outputs": [
    {
     "data": {
      "text/plain": [
       "1"
      ]
     },
     "execution_count": 112,
     "metadata": {},
     "output_type": "execute_result"
    }
   ],
   "source": [
    "# .index(): The index of the value 2 is\n",
    "str1.index(\"2\")"
   ]
  },
  {
   "cell_type": "code",
   "execution_count": 113,
   "metadata": {},
   "outputs": [],
   "source": [
    "str2 = \"  December 30th, 2020  \""
   ]
  },
  {
   "cell_type": "code",
   "execution_count": 115,
   "metadata": {
    "scrolled": true
   },
   "outputs": [
    {
     "data": {
      "text/plain": [
       "'  December 30th, 2020  '"
      ]
     },
     "execution_count": 115,
     "metadata": {},
     "output_type": "execute_result"
    }
   ],
   "source": [
    "# str.replace(old,new): replace 2020 with 2024\n",
    "str2.replace(\"2020\", \"2019\")\n",
    "str2 # str.replace() does not change the value of the original string variable (str2)"
   ]
  },
  {
   "cell_type": "code",
   "execution_count": 117,
   "metadata": {},
   "outputs": [
    {
     "data": {
      "text/plain": [
       "'  December 30th, 2024  '"
      ]
     },
     "execution_count": 117,
     "metadata": {},
     "output_type": "execute_result"
    }
   ],
   "source": [
    "str3 = str2.replace(\"2020\", \"2024\") # we assign the replaced value to a new variable (str3) \n",
    "str3"
   ]
  },
  {
   "cell_type": "code",
   "execution_count": 118,
   "metadata": {},
   "outputs": [
    {
     "data": {
      "text/plain": [
       "'December30th,2024'"
      ]
     },
     "execution_count": 118,
     "metadata": {},
     "output_type": "execute_result"
    }
   ],
   "source": [
    "str4 = str3.replace(\" \", \"\")\n",
    "str4"
   ]
  },
  {
   "cell_type": "code",
   "execution_count": 120,
   "metadata": {},
   "outputs": [
    {
     "data": {
      "text/plain": [
       "'December30th,2019'"
      ]
     },
     "execution_count": 120,
     "metadata": {},
     "output_type": "execute_result"
    }
   ],
   "source": [
    "# integrate these steps\n",
    "str2 = str2.replace(\"2020\", \"2024\").replace(\" \", \"\")\n",
    "str2"
   ]
  },
  {
   "cell_type": "markdown",
   "metadata": {},
   "source": [
    "**In class exercise:**\n",
    "\n",
    "`str1 = \"      PM25_20141205     \"` <br>\n",
    "get rid of the prefix \"PM25_\" and whitespace for str1, and name the new string variable str2"
   ]
  },
  {
   "cell_type": "code",
   "execution_count": null,
   "metadata": {},
   "outputs": [],
   "source": []
  },
  {
   "cell_type": "markdown",
   "metadata": {},
   "source": [
    "<p><a id=\"ifstatement\"> </a></p>\n",
    "<h2 id=\"1.6-if-statement\">1.6 <a href=\"#table\">if statement</a><a class=\"anchor-link\" href=\"#1.6-if-statement\"></a></h2>"
   ]
  },
  {
   "cell_type": "markdown",
   "metadata": {},
   "source": [
    "The if statement is frequently used when we want to execute a part of code (or make certain decision) only if a certain condition is satisfied. \n",
    "\n",
    "Three common structures of if statement: \n",
    "\n",
    "#### 1. if statement:<br>\n",
    "\n",
    "\n",
    "    if CS:\n",
    "        DM that satisfies the CS\n",
    "    \n",
    "- Conditional statement (CS); Decision Making (DM)\n",
    "- Will execute the DM only if the CS is True; otherwise, DM will not be executed.\n",
    "- DM starts with an indentation. The first un-indented line marks the end of a DM.\n",
    "- **Press TAB for an indentation, Press Shift+TAB to remove an indentation**. An indentation equals to 4 whitespace.\n",
    "  \n",
    "#### 2. if...else statement\n",
    "\n",
    "\n",
    "    if CS1:\n",
    "        DM1 that satisfies the CS1\n",
    "    else: \n",
    "        DM2 that satisfies the else condition\n",
    "\n",
    "\n",
    "- If the CS1 is true, DM1 will be executed only. \n",
    "- If the CS1 is False, DM2 will be executed. \n",
    "- Each DM is indicated by an indentation. \n",
    "\n",
    "\n",
    "\n",
    "#### 3. The if...elif...(elif)...else statement \n",
    "\n",
    "\n",
    "    if CS1:\n",
    "        DM1 that satisfies the CS1\n",
    "    elif CS2:\n",
    "        DM2 that satisfies the CS2\n",
    "    elif CS3:\n",
    "        DM3 that satisfies the CS3\n",
    "    else: \n",
    "        DM4 that satisfies the else condition\n",
    "        \n",
    "- You can make many \"elif CS\" depending on how many DMs you have. \n",
    "- However, in if...elif...(elif)...else statement, there must be only **one** if as the start statement and only **one** else as the end statement  "
   ]
  },
  {
   "cell_type": "code",
   "execution_count": 121,
   "metadata": {
    "scrolled": true
   },
   "outputs": [
    {
     "name": "stdout",
     "output_type": "stream",
     "text": [
      "The list does not have 10 elements\n"
     ]
    }
   ],
   "source": [
    "# if...else: lst = list(range(0,11)), check if the lst has 10 elements\n",
    "\n",
    "if len(lst) == 10: \n",
    "    print(\"The list has 10 elements\")\n",
    "else: \n",
    "    print(\"The list does not have 10 elements\")"
   ]
  },
  {
   "cell_type": "markdown",
   "metadata": {},
   "source": [
    "---\n",
    "**In class exercise:**\n",
    "Classify anyone's age into the following three groups: G1: 0-18, G2: 19-64, G3: 65 and above.\n",
    "\n",
    "To center age: \n",
    "`Age = int(input(\"please enter your age: \"))`\n",
    "\n",
    "---"
   ]
  },
  {
   "cell_type": "code",
   "execution_count": 126,
   "metadata": {},
   "outputs": [
    {
     "name": "stdout",
     "output_type": "stream",
     "text": [
      "please enter your age: 54\n",
      "this person is categorized into G2\n"
     ]
    }
   ],
   "source": [
    "Age = int(input(\"please enter your age: \"))\n",
    "\n",
    "if Age <= 18 and Age >= 0: \n",
    "    print(\"this person is categorized into G1\")\n",
    "elif Age >= 19 and Age <=64:\n",
    "    print(\"this person is categorized into G2\")\n",
    "else: \n",
    "    print(\"this person is categorized into G3\")"
   ]
  },
  {
   "cell_type": "markdown",
   "metadata": {
    "slideshow": {
     "slide_type": "-"
    }
   },
   "source": [
    "<p><a id=\"loop(forstatement)\"> </a></p>\n",
    "<h2 id=\"1.7-loop-(for-statement)\">1.7 <a href=\"#table\">for-loop</a><a class=\"anchor-link\" href=\"#1.7-loop-(for-statement)\"></a></h2>"
   ]
  },
  {
   "cell_type": "markdown",
   "metadata": {},
   "source": [
    "- A for-loop structure is used for iterating over a sequence (either a list or a string)."
   ]
  },
  {
   "cell_type": "markdown",
   "metadata": {},
   "source": [
    "##### Example 1: print out all the numbers from 10-20\n",
    "   - Method 1: loop over each element in the list\n",
    "   - Method 2: loop over the **index** of each element using `len()` and `range()`\n"
   ]
  },
  {
   "cell_type": "code",
   "execution_count": 128,
   "metadata": {},
   "outputs": [
    {
     "name": "stdout",
     "output_type": "stream",
     "text": [
      "10\n",
      "11\n",
      "12\n",
      "13\n",
      "14\n",
      "15\n",
      "16\n",
      "17\n",
      "18\n",
      "19\n",
      "20\n"
     ]
    }
   ],
   "source": [
    "# Method 1: loop over each element in the list\n",
    "\n",
    "a = list(range(10,21))\n",
    "\n",
    "for i in a: \n",
    "    print(i)"
   ]
  },
  {
   "cell_type": "code",
   "execution_count": 131,
   "metadata": {},
   "outputs": [
    {
     "name": "stdout",
     "output_type": "stream",
     "text": [
      "10\n",
      "11\n",
      "12\n",
      "13\n",
      "14\n",
      "15\n",
      "16\n",
      "17\n",
      "18\n",
      "19\n",
      "20\n"
     ]
    }
   ],
   "source": [
    "# Method 2: loop over the index of each element using len() and range()\n",
    "\n",
    "a = list(range(10,21))\n",
    "\n",
    "for i in range(len(a)): # this is range(10), and it returns 0,1,2,...,10\n",
    "    print(a[i])"
   ]
  },
  {
   "cell_type": "markdown",
   "metadata": {},
   "source": [
    "##### Example 2: print all the odd numbers between 10 to 20"
   ]
  },
  {
   "cell_type": "code",
   "execution_count": 18,
   "metadata": {},
   "outputs": [
    {
     "name": "stdout",
     "output_type": "stream",
     "text": [
      "odd number 11\n",
      "odd number 13\n",
      "odd number 15\n",
      "odd number 17\n",
      "odd number 19\n",
      "11, 13, 15, 17, 19, "
     ]
    }
   ],
   "source": [
    "a = list(range(10, 21))\n",
    "\n",
    "for i in a:\n",
    "    if i % 2 == 1:\n",
    "        print(\"odd number\", i)\n",
    "        \n",
    "for i in range(len(a)):\n",
    "    if a[i] % 2 == 1:\n",
    "        print(a[i], end = \", \")"
   ]
  },
  {
   "cell_type": "markdown",
   "metadata": {},
   "source": [
    "##### Example 3: sum up all the numbers between 50 to 100 using for loop"
   ]
  },
  {
   "cell_type": "code",
   "execution_count": 22,
   "metadata": {},
   "outputs": [
    {
     "name": "stdout",
     "output_type": "stream",
     "text": [
      "3825\n",
      "3825\n"
     ]
    }
   ],
   "source": [
    "# example 3: sum up all the numbers between 50 to 100 using for loop\n",
    "\n",
    "a = list(range(50, 101))\n",
    "\n",
    "sum_up = 0\n",
    "\n",
    "for i in a: \n",
    "    sum_up = i + sum_up\n",
    "print(sum_up)\n",
    "    \n",
    "    \n",
    "# round 1, i = 50, sum_up = 0\n",
    "# result: sum_up = 50\n",
    "\n",
    "# round 2, i = 51, sum_up = 50\n",
    "# result: sum_up = 101\n",
    "\n",
    "# round 3: i = 52, sum_up = 101\n",
    "# result: sum_up = 153\n",
    "\n",
    "\n",
    "sum_up = 0\n",
    "for i in range(len(a)):\n",
    "    sum_up = a[i] + sum_up\n",
    "print(sum_up)\n",
    "\n",
    "\n"
   ]
  },
  {
   "cell_type": "markdown",
   "metadata": {},
   "source": [
    "**In class exercise**\n",
    "\n",
    "You have a student list with grades attached: \n",
    "student = [\"student1\", 99, \"student2\", 72, \"student3\", 59]\n",
    "\n",
    "mark the scores greater than 80 as \"A\", <br>\n",
    "scores between 60 to 80 as \"B\", <br>\n",
    "and scores less than 60 as \"C\".<br> \n",
    "print out the new list student = ['student1', 'A', 'student2', 'B', 'student3', 'C']"
   ]
  },
  {
   "cell_type": "code",
   "execution_count": 24,
   "metadata": {},
   "outputs": [
    {
     "name": "stdout",
     "output_type": "stream",
     "text": [
      "['student1', 'A', 'student2', 'B', 'student3', 'C']\n"
     ]
    }
   ],
   "source": [
    "student = [\"student1\", 99, \"student2\", 72, \"student3\", 59]\n",
    "\n",
    "for i in range(len(student)):\n",
    "    if type(student[i]) == int:\n",
    "        if student[i] > 80: \n",
    "            student[i] = \"A\"\n",
    "        elif student[i] >= 60 and student[i] < 80:\n",
    "            student[i] = \"B\"\n",
    "        else: \n",
    "            student[i] = \"C\"\n",
    "            \n",
    "print(student)"
   ]
  },
  {
   "cell_type": "code",
   "execution_count": 132,
   "metadata": {},
   "outputs": [
    {
     "name": "stdout",
     "output_type": "stream",
     "text": [
      "['student1', 'A', 'student2', 'B', 'student3', 'C']\n"
     ]
    }
   ],
   "source": [
    "student = [\"student1\", 99, \"student2\", 72, \"student3\", 59]\n",
    "\n",
    "# Iterate through the list and replace scores with grades\n",
    "for i in range(1, len(student), 2):\n",
    "    if student[i] > 80:\n",
    "        student[i] = 'A'\n",
    "    elif 60 <= student[i] <= 80:\n",
    "        student[i] = 'B'\n",
    "    else:\n",
    "        student[i] = 'C'\n",
    "\n",
    "print(student)"
   ]
  },
  {
   "cell_type": "markdown",
   "metadata": {},
   "source": [
    "<p><a id=\"thenestedloop(loopinsideanotherloop)\"> </a></p>\n",
    "<h3 id=\"1.7.1-The-nested-loop-(loop-inside-another-loop)\">1.7.1 <a href=\"#table\">The nested loop (loop inside another loop)</a><a class=\"anchor-link\" href=\"#1.7.1-The-nested-loop-(loop-inside-another-loop)\">¶</a></h3>"
   ]
  },
  {
   "cell_type": "markdown",
   "metadata": {},
   "source": [
    "- a nested loop with 2 levels is very common;\n",
    "\n",
    "```python\n",
    "for i in range(2):        -level 1\n",
    "    for j in range(3):    -level 2\n",
    "```\n",
    "\n",
    "- using more than 2 levels is not recommended. That kind of structure will make the code very hard to read and debug.\n",
    "\n",
    "```python\n",
    "for x in range(2):          -level 1\n",
    "    for y in range(3):      -level 2\n",
    "        for z in range(4):  -level 3\n",
    "```"
   ]
  },
  {
   "cell_type": "code",
   "execution_count": 134,
   "metadata": {},
   "outputs": [
    {
     "name": "stdout",
     "output_type": "stream",
     "text": [
      "0 0\n",
      "0 1\n",
      "0 2\n",
      "1 0\n",
      "1 1\n",
      "1 2\n"
     ]
    }
   ],
   "source": [
    "# a simple example of nested for loop\n",
    "for i in range(2): # i = 0,1\n",
    "    for j in range(3): # j = 0,1,2\n",
    "        print(i,j) # print out all the combination of i,j"
   ]
  },
  {
   "cell_type": "markdown",
   "metadata": {},
   "source": [
    "<p><a id=\"loopcontrolstatements:continueandbreak\"> </a></p>\n",
    "<h3 id=\"1.7.2-Loop-control-statements:-continue-and-break (Optional)\">1.7.2 <a href=\"#table\">Control statements of a loop: continue and break</a><a class=\"anchor-link\" href=\"#1.7.2-Loop-control-statements:-continue-and-break (Optional)\">¶</a></h3>"
   ]
  },
  {
   "cell_type": "markdown",
   "metadata": {},
   "source": [
    "- break statement \n",
    "    - it terminates the current loop containing it and resumes execution at the next statement.\n",
    "\n",
    "    - if the break statement is inside a nested loop, the break statement will terminate the innermost loop.\n",
    "\n",
    "- continue statement\n",
    "    - it rejects all the remaining code in the current iteration of the loop and moves the control back to the top of the current loop. \n",
    "    \n",
    "- In sum, break statement **terminates the whole for-loop and jump into the next statement** even if the current loop is not over yet. continue statement **terminates the current iteration of a loop, and starts the next iteration in the same loop**.  \n"
   ]
  },
  {
   "cell_type": "code",
   "execution_count": 28,
   "metadata": {},
   "outputs": [
    {
     "name": "stdout",
     "output_type": "stream",
     "text": [
      "0\n",
      "1\n",
      "2\n"
     ]
    }
   ],
   "source": [
    "# example of break: j = 0-5, the loop ends when j == 3\n",
    "j = list(range(0, 6))\n",
    "\n",
    "for i in j: \n",
    "    if i == 3:\n",
    "        break\n",
    "    print(i)"
   ]
  },
  {
   "cell_type": "code",
   "execution_count": 29,
   "metadata": {},
   "outputs": [
    {
     "name": "stdout",
     "output_type": "stream",
     "text": [
      "0\n",
      "1\n",
      "2\n",
      "4\n",
      "5\n"
     ]
    }
   ],
   "source": [
    "# example of continue: \n",
    "\n",
    "j = list(range(0, 6))\n",
    "\n",
    "for i in j: \n",
    "    if i == 3:\n",
    "        continue\n",
    "    print(i)"
   ]
  },
  {
   "cell_type": "markdown",
   "metadata": {},
   "source": [
    "<p><a id=\"definingfunctions\"> </a></p>\n",
    "<h2 id=\"1.8definingfunctions\">1.8 <a href=\"#table\">Defining functions</a><a class=\"anchor-link\" href=\"#1.8definingfunctions\"></a></h2>\n",
    "\n",
    "You have introduced many built-in functions (e.g., print, len, int, etc.) that can be used directly. However, sometimes we also want to define a customized function that realize a function that meet our specific demand. In this section, we will take two examples to briefly introduce the self-defined functions in Python. "
   ]
  },
  {
   "cell_type": "code",
   "execution_count": 152,
   "metadata": {},
   "outputs": [
    {
     "name": "stdout",
     "output_type": "stream",
     "text": [
      "Enter temperature in fahrenheit: 83\n",
      "28.333333333333332\n"
     ]
    }
   ],
   "source": [
    "# example 1: transform fahrenheit degree to celsius degree\n",
    "def fah2cel(fahrenheit):\n",
    "    celsius = (fahrenheit - 32) * 5/9\n",
    "    print(celsius)\n",
    "\n",
    "fah2cel(float(input(\"Enter temperature in fahrenheit: \")))"
   ]
  },
  {
   "cell_type": "code",
   "execution_count": 154,
   "metadata": {
    "scrolled": true
   },
   "outputs": [
    {
     "data": {
      "text/plain": [
       "45.6"
      ]
     },
     "execution_count": 154,
     "metadata": {},
     "output_type": "execute_result"
    }
   ],
   "source": [
    "# example 2: Return the maximum of three values\n",
    "def maximum(value1, value2, value3):\n",
    "    \"\"\"Return the maximum of three values\"\"\"\n",
    "    max_value = value1\n",
    "    if value2 > max_value:\n",
    "        max_value = value2\n",
    "    if value3 > max_value:\n",
    "        max_value = value3\n",
    "    return max_value\n",
    "\n",
    "maximum(12.3, 45.6, 9.7)"
   ]
  }
 ],
 "metadata": {
  "kernelspec": {
   "display_name": "Python 3",
   "language": "python",
   "name": "python3"
  },
  "language_info": {
   "codemirror_mode": {
    "name": "ipython",
    "version": 3
   },
   "file_extension": ".py",
   "mimetype": "text/x-python",
   "name": "python",
   "nbconvert_exporter": "python",
   "pygments_lexer": "ipython3",
   "version": "3.7.9"
  }
 },
 "nbformat": 4,
 "nbformat_minor": 4
}
