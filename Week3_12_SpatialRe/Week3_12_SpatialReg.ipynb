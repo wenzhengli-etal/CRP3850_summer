{
 "cells": [
  {
   "cell_type": "markdown",
   "id": "9916475a-b7a4-407e-b0ca-97f5e247b642",
   "metadata": {},
   "source": [
    "# Week 3 Day 2 \n",
    "\n",
    "## Spatial Regression\n",
    "\n",
    "Now that we know how to run linear regressions, let's go into spatial regressions. "
   ]
  },
  {
   "cell_type": "code",
   "execution_count": 1,
   "id": "7d4a02a2-ad25-46be-a9c9-aba7c5c9c96c",
   "metadata": {},
   "outputs": [],
   "source": [
    "from pysal.lib import weights\n",
    "import esda\n",
    "import numpy as np\n",
    "import pandas as pd\n",
    "import geopandas as gpd\n",
    "import matplotlib.pyplot as plt\n",
    "import seaborn\n",
    "import contextily as ctx\n",
    "\n",
    "import params\n",
    "import statsmodels.api as sm\n",
    "import statsmodels.formula.api as smf\n",
    "import warnings\n",
    "\n",
    "warnings.filterwarnings(\"ignore\")"
   ]
  },
  {
   "cell_type": "code",
   "execution_count": 2,
   "id": "2e2c03f9-71f7-487c-bcca-8e49943be128",
   "metadata": {},
   "outputs": [],
   "source": [
    "import os\n",
    "path = os.getcwd()"
   ]
  },
  {
   "cell_type": "code",
   "execution_count": 3,
   "id": "7c9b6886-bd45-4a0b-8b70-89680e65f329",
   "metadata": {},
   "outputs": [],
   "source": [
    "## Bring in the same data sets from yesterday \n",
    "\n",
    "cali = pd.read_excel(path + '/cali.xlsx')\n",
    "zip = gpd.read_file(path + '/ZipCodes.zip')\n",
    "risk = pd.read_excel(path + '/Wildfire_2021.xlsx', sheet_name = '2021HO')\n",
    "insurance = pd.read_excel(path + '/insurance.xlsx')"
   ]
  },
  {
   "cell_type": "code",
   "execution_count": 4,
   "id": "5630436c-2bd5-47df-93d9-0479b3b11b32",
   "metadata": {},
   "outputs": [],
   "source": [
    "zip['ZIP_CODE'] = zip['ZIP_CODE'].astype(int)\n",
    "cali = cali[['ZIP', 'Education', 'Poverty', 'Unemployment',  'Housing Burden', 'Linguistic Isolation', 'Ozone', 'PM2.5']]\n",
    "cali= cali.groupby(by ='ZIP').mean()\n",
    "zip_cali = zip.merge(cali, left_on = 'ZIP_CODE', right_on = 'ZIP')\n",
    "\n",
    "\n",
    "risk = risk[['ZIP Code', 'Avg Fire Risk Score', 'Number of Negligible Fire Risk Exposure',\n",
    "       'Number of Low Fire Risk Exposure',\n",
    "       'Number of Moderate Fire Risk Exposure',\n",
    "       'Number of High Fire Risk Exposure',\n",
    "       'Number of Very High Fire Risk Exposure', 'Earned Premium']]\n",
    "calirisk = zip_cali.merge(risk, left_on = 'ZIP_CODE', right_on = 'ZIP Code')\n",
    "\n",
    "insurance = insurance[insurance['Year']==2020]\n",
    "df_f = pd.merge(calirisk, insurance, left_on = 'ZIP Code', right_on = 'ZIP Code')"
   ]
  },
  {
   "cell_type": "code",
   "execution_count": 5,
   "id": "2c500fa5-a277-4cc5-8166-54e3bdb71cf6",
   "metadata": {},
   "outputs": [],
   "source": [
    "df = gpd.GeoDataFrame(\n",
    "    df_f, \n",
    "    geometry = 'geometry',\n",
    "    crs = \"EPSG:3857\")"
   ]
  },
  {
   "cell_type": "code",
   "execution_count": 6,
   "id": "ea72a6cd-452d-40cd-903c-5edb258f1240",
   "metadata": {},
   "outputs": [
    {
     "data": {
      "text/html": [
       "<div>\n",
       "<style scoped>\n",
       "    .dataframe tbody tr th:only-of-type {\n",
       "        vertical-align: middle;\n",
       "    }\n",
       "\n",
       "    .dataframe tbody tr th {\n",
       "        vertical-align: top;\n",
       "    }\n",
       "\n",
       "    .dataframe thead th {\n",
       "        text-align: right;\n",
       "    }\n",
       "</style>\n",
       "<table border=\"1\" class=\"dataframe\">\n",
       "  <thead>\n",
       "    <tr style=\"text-align: right;\">\n",
       "      <th></th>\n",
       "      <th>urban</th>\n",
       "    </tr>\n",
       "  </thead>\n",
       "  <tbody>\n",
       "    <tr>\n",
       "      <th>0</th>\n",
       "      <td>1</td>\n",
       "    </tr>\n",
       "    <tr>\n",
       "      <th>1</th>\n",
       "      <td>1</td>\n",
       "    </tr>\n",
       "    <tr>\n",
       "      <th>2</th>\n",
       "      <td>1</td>\n",
       "    </tr>\n",
       "    <tr>\n",
       "      <th>3</th>\n",
       "      <td>1</td>\n",
       "    </tr>\n",
       "    <tr>\n",
       "      <th>4</th>\n",
       "      <td>1</td>\n",
       "    </tr>\n",
       "    <tr>\n",
       "      <th>...</th>\n",
       "      <td>...</td>\n",
       "    </tr>\n",
       "    <tr>\n",
       "      <th>1334</th>\n",
       "      <td>0</td>\n",
       "    </tr>\n",
       "    <tr>\n",
       "      <th>1335</th>\n",
       "      <td>0</td>\n",
       "    </tr>\n",
       "    <tr>\n",
       "      <th>1336</th>\n",
       "      <td>0</td>\n",
       "    </tr>\n",
       "    <tr>\n",
       "      <th>1337</th>\n",
       "      <td>0</td>\n",
       "    </tr>\n",
       "    <tr>\n",
       "      <th>1338</th>\n",
       "      <td>0</td>\n",
       "    </tr>\n",
       "  </tbody>\n",
       "</table>\n",
       "<p>1339 rows × 1 columns</p>\n",
       "</div>"
      ],
      "text/plain": [
       "      urban\n",
       "0         1\n",
       "1         1\n",
       "2         1\n",
       "3         1\n",
       "4         1\n",
       "...     ...\n",
       "1334      0\n",
       "1335      0\n",
       "1336      0\n",
       "1337      0\n",
       "1338      0\n",
       "\n",
       "[1339 rows x 1 columns]"
      ]
     },
     "execution_count": 6,
     "metadata": {},
     "output_type": "execute_result"
    }
   ],
   "source": [
    "df['urban'] = 1*(df['POP_SQMI']>1000)\n",
    "df[['urban']]"
   ]
  },
  {
   "cell_type": "markdown",
   "id": "52dd301c-dd7d-4fcb-9082-118021a4a1c1",
   "metadata": {},
   "source": [
    "### Brief Review of Linear Regressions"
   ]
  },
  {
   "cell_type": "code",
   "execution_count": 7,
   "id": "e8f42c41-135d-476b-b07b-4656ee4d2abc",
   "metadata": {},
   "outputs": [],
   "source": [
    "## let's rename some variables again \n",
    "\n",
    "df= df.rename(columns = {\n",
    "    'Number of Very High Fire Risk Exposure': 'Very_High', \n",
    "    'Avg Fire Risk Score': 'Avg_Risk',\n",
    "    'Earned Premium': 'Earned_Prem',\n",
    "    'Housing Burden': 'Hous_Burd',\n",
    "    'Insurer-Initiated Nonrenewed' : 'Insurer_Nonrenewed',\n",
    "    'Insured-Initiated Nonrenewed': 'Insured_Nonrenewed',\n",
    "    'PM2.5' : 'PM25',\n",
    "    'Linguistic Isolation': 'Ling_Iso'\n",
    "})"
   ]
  },
  {
   "cell_type": "code",
   "execution_count": 8,
   "id": "96f5022f-33ad-4595-92df-35d416979291",
   "metadata": {},
   "outputs": [
    {
     "data": {
      "text/plain": [
       "(1339, 29)"
      ]
     },
     "execution_count": 8,
     "metadata": {},
     "output_type": "execute_result"
    }
   ],
   "source": [
    "df.shape"
   ]
  },
  {
   "cell_type": "code",
   "execution_count": 9,
   "id": "062b626f-0c49-4606-9eb3-d2e0e98d9b55",
   "metadata": {},
   "outputs": [],
   "source": [
    "df= df.dropna()"
   ]
  },
  {
   "cell_type": "code",
   "execution_count": 27,
   "id": "09f372d7-18ec-4d4e-80dc-8359cfaf726f",
   "metadata": {},
   "outputs": [
    {
     "data": {
      "text/plain": [
       "(1282, 29)"
      ]
     },
     "execution_count": 27,
     "metadata": {},
     "output_type": "execute_result"
    }
   ],
   "source": [
    "df.reset_index()"
   ]
  },
  {
   "cell_type": "code",
   "execution_count": 11,
   "id": "920f7ec9-994e-4054-bbb0-fe3feaf4cee3",
   "metadata": {},
   "outputs": [
    {
     "data": {
      "text/html": [
       "<table class=\"simpletable\">\n",
       "<caption>OLS Regression Results</caption>\n",
       "<tr>\n",
       "  <th>Dep. Variable:</th>    <td>Insurer_Nonrenewed</td> <th>  R-squared:         </th> <td>   0.031</td> \n",
       "</tr>\n",
       "<tr>\n",
       "  <th>Model:</th>                    <td>OLS</td>        <th>  Adj. R-squared:    </th> <td>   0.027</td> \n",
       "</tr>\n",
       "<tr>\n",
       "  <th>Method:</th>              <td>Least Squares</td>   <th>  F-statistic:       </th> <td>   8.061</td> \n",
       "</tr>\n",
       "<tr>\n",
       "  <th>Date:</th>              <td>Tue, 18 Jun 2024</td>  <th>  Prob (F-statistic):</th> <td>1.69e-07</td> \n",
       "</tr>\n",
       "<tr>\n",
       "  <th>Time:</th>                  <td>07:32:29</td>      <th>  Log-Likelihood:    </th> <td> -8052.0</td> \n",
       "</tr>\n",
       "<tr>\n",
       "  <th>No. Observations:</th>       <td>  1282</td>       <th>  AIC:               </th> <td>1.612e+04</td>\n",
       "</tr>\n",
       "<tr>\n",
       "  <th>Df Residuals:</th>           <td>  1276</td>       <th>  BIC:               </th> <td>1.615e+04</td>\n",
       "</tr>\n",
       "<tr>\n",
       "  <th>Df Model:</th>               <td>     5</td>       <th>                     </th>     <td> </td>    \n",
       "</tr>\n",
       "<tr>\n",
       "  <th>Covariance Type:</th>       <td>nonrobust</td>     <th>                     </th>     <td> </td>    \n",
       "</tr>\n",
       "</table>\n",
       "<table class=\"simpletable\">\n",
       "<tr>\n",
       "      <td></td>         <th>coef</th>     <th>std err</th>      <th>t</th>      <th>P>|t|</th>  <th>[0.025</th>    <th>0.975]</th>  \n",
       "</tr>\n",
       "<tr>\n",
       "  <th>Intercept</th> <td>  125.0501</td> <td>   13.649</td> <td>    9.162</td> <td> 0.000</td> <td>   98.272</td> <td>  151.828</td>\n",
       "</tr>\n",
       "<tr>\n",
       "  <th>Avg_Risk</th>  <td>   17.4425</td> <td>    6.400</td> <td>    2.725</td> <td> 0.007</td> <td>    4.886</td> <td>   29.998</td>\n",
       "</tr>\n",
       "<tr>\n",
       "  <th>POP_SQMI</th>  <td>   -0.0032</td> <td>    0.001</td> <td>   -4.609</td> <td> 0.000</td> <td>   -0.005</td> <td>   -0.002</td>\n",
       "</tr>\n",
       "<tr>\n",
       "  <th>Hous_Burd</th> <td>    2.1375</td> <td>    0.868</td> <td>    2.464</td> <td> 0.014</td> <td>    0.435</td> <td>    3.840</td>\n",
       "</tr>\n",
       "<tr>\n",
       "  <th>Education</th> <td>    1.4960</td> <td>    0.497</td> <td>    3.008</td> <td> 0.003</td> <td>    0.520</td> <td>    2.472</td>\n",
       "</tr>\n",
       "<tr>\n",
       "  <th>Poverty</th>   <td>   -1.5465</td> <td>    0.449</td> <td>   -3.444</td> <td> 0.001</td> <td>   -2.428</td> <td>   -0.665</td>\n",
       "</tr>\n",
       "</table>\n",
       "<table class=\"simpletable\">\n",
       "<tr>\n",
       "  <th>Omnibus:</th>       <td>713.402</td> <th>  Durbin-Watson:     </th> <td>   1.432</td>\n",
       "</tr>\n",
       "<tr>\n",
       "  <th>Prob(Omnibus):</th> <td> 0.000</td>  <th>  Jarque-Bera (JB):  </th> <td>6844.460</td>\n",
       "</tr>\n",
       "<tr>\n",
       "  <th>Skew:</th>          <td> 2.424</td>  <th>  Prob(JB):          </th> <td>    0.00</td>\n",
       "</tr>\n",
       "<tr>\n",
       "  <th>Kurtosis:</th>      <td>13.229</td>  <th>  Cond. No.          </th> <td>2.96e+04</td>\n",
       "</tr>\n",
       "</table><br/><br/>Notes:<br/>[1] Standard Errors assume that the covariance matrix of the errors is correctly specified.<br/>[2] The condition number is large, 2.96e+04. This might indicate that there are<br/>strong multicollinearity or other numerical problems."
      ],
      "text/latex": [
       "\\begin{center}\n",
       "\\begin{tabular}{lclc}\n",
       "\\toprule\n",
       "\\textbf{Dep. Variable:}    & Insurer\\_Nonrenewed & \\textbf{  R-squared:         } &     0.031   \\\\\n",
       "\\textbf{Model:}            &         OLS         & \\textbf{  Adj. R-squared:    } &     0.027   \\\\\n",
       "\\textbf{Method:}           &    Least Squares    & \\textbf{  F-statistic:       } &     8.061   \\\\\n",
       "\\textbf{Date:}             &   Tue, 18 Jun 2024  & \\textbf{  Prob (F-statistic):} &  1.69e-07   \\\\\n",
       "\\textbf{Time:}             &       07:32:29      & \\textbf{  Log-Likelihood:    } &   -8052.0   \\\\\n",
       "\\textbf{No. Observations:} &          1282       & \\textbf{  AIC:               } & 1.612e+04   \\\\\n",
       "\\textbf{Df Residuals:}     &          1276       & \\textbf{  BIC:               } & 1.615e+04   \\\\\n",
       "\\textbf{Df Model:}         &             5       & \\textbf{                     } &             \\\\\n",
       "\\textbf{Covariance Type:}  &      nonrobust      & \\textbf{                     } &             \\\\\n",
       "\\bottomrule\n",
       "\\end{tabular}\n",
       "\\begin{tabular}{lcccccc}\n",
       "                    & \\textbf{coef} & \\textbf{std err} & \\textbf{t} & \\textbf{P$> |$t$|$} & \\textbf{[0.025} & \\textbf{0.975]}  \\\\\n",
       "\\midrule\n",
       "\\textbf{Intercept}  &     125.0501  &       13.649     &     9.162  &         0.000        &       98.272    &      151.828     \\\\\n",
       "\\textbf{Avg\\_Risk}  &      17.4425  &        6.400     &     2.725  &         0.007        &        4.886    &       29.998     \\\\\n",
       "\\textbf{POP\\_SQMI}  &      -0.0032  &        0.001     &    -4.609  &         0.000        &       -0.005    &       -0.002     \\\\\n",
       "\\textbf{Hous\\_Burd} &       2.1375  &        0.868     &     2.464  &         0.014        &        0.435    &        3.840     \\\\\n",
       "\\textbf{Education}  &       1.4960  &        0.497     &     3.008  &         0.003        &        0.520    &        2.472     \\\\\n",
       "\\textbf{Poverty}    &      -1.5465  &        0.449     &    -3.444  &         0.001        &       -2.428    &       -0.665     \\\\\n",
       "\\bottomrule\n",
       "\\end{tabular}\n",
       "\\begin{tabular}{lclc}\n",
       "\\textbf{Omnibus:}       & 713.402 & \\textbf{  Durbin-Watson:     } &    1.432  \\\\\n",
       "\\textbf{Prob(Omnibus):} &   0.000 & \\textbf{  Jarque-Bera (JB):  } & 6844.460  \\\\\n",
       "\\textbf{Skew:}          &   2.424 & \\textbf{  Prob(JB):          } &     0.00  \\\\\n",
       "\\textbf{Kurtosis:}      &  13.229 & \\textbf{  Cond. No.          } & 2.96e+04  \\\\\n",
       "\\bottomrule\n",
       "\\end{tabular}\n",
       "%\\caption{OLS Regression Results}\n",
       "\\end{center}\n",
       "\n",
       "Notes: \\newline\n",
       " [1] Standard Errors assume that the covariance matrix of the errors is correctly specified. \\newline\n",
       " [2] The condition number is large, 2.96e+04. This might indicate that there are \\newline\n",
       " strong multicollinearity or other numerical problems."
      ],
      "text/plain": [
       "<class 'statsmodels.iolib.summary.Summary'>\n",
       "\"\"\"\n",
       "                            OLS Regression Results                            \n",
       "==============================================================================\n",
       "Dep. Variable:     Insurer_Nonrenewed   R-squared:                       0.031\n",
       "Model:                            OLS   Adj. R-squared:                  0.027\n",
       "Method:                 Least Squares   F-statistic:                     8.061\n",
       "Date:                Tue, 18 Jun 2024   Prob (F-statistic):           1.69e-07\n",
       "Time:                        07:32:29   Log-Likelihood:                -8052.0\n",
       "No. Observations:                1282   AIC:                         1.612e+04\n",
       "Df Residuals:                    1276   BIC:                         1.615e+04\n",
       "Df Model:                           5                                         \n",
       "Covariance Type:            nonrobust                                         \n",
       "==============================================================================\n",
       "                 coef    std err          t      P>|t|      [0.025      0.975]\n",
       "------------------------------------------------------------------------------\n",
       "Intercept    125.0501     13.649      9.162      0.000      98.272     151.828\n",
       "Avg_Risk      17.4425      6.400      2.725      0.007       4.886      29.998\n",
       "POP_SQMI      -0.0032      0.001     -4.609      0.000      -0.005      -0.002\n",
       "Hous_Burd      2.1375      0.868      2.464      0.014       0.435       3.840\n",
       "Education      1.4960      0.497      3.008      0.003       0.520       2.472\n",
       "Poverty       -1.5465      0.449     -3.444      0.001      -2.428      -0.665\n",
       "==============================================================================\n",
       "Omnibus:                      713.402   Durbin-Watson:                   1.432\n",
       "Prob(Omnibus):                  0.000   Jarque-Bera (JB):             6844.460\n",
       "Skew:                           2.424   Prob(JB):                         0.00\n",
       "Kurtosis:                      13.229   Cond. No.                     2.96e+04\n",
       "==============================================================================\n",
       "\n",
       "Notes:\n",
       "[1] Standard Errors assume that the covariance matrix of the errors is correctly specified.\n",
       "[2] The condition number is large, 2.96e+04. This might indicate that there are\n",
       "strong multicollinearity or other numerical problems.\n",
       "\"\"\""
      ]
     },
     "execution_count": 11,
     "metadata": {},
     "output_type": "execute_result"
    }
   ],
   "source": [
    "## type a multivariate regression like the one we learned yesterday \n",
    "\n",
    "mvr = smf.ols(formula = 'Insurer_Nonrenewed ~ Avg_Risk + POP_SQMI + Hous_Burd + Education + Poverty', \n",
    "              data =df).fit()\n",
    "\n",
    "mvr.summary()"
   ]
  },
  {
   "cell_type": "markdown",
   "id": "77da07ed-c141-47af-bea6-c084c45cb99e",
   "metadata": {},
   "source": [
    "### Other Ways to Run Linear Regressions"
   ]
  },
  {
   "cell_type": "code",
   "execution_count": 12,
   "id": "8bb76212-4fb7-462f-bed7-8a19c0965bcc",
   "metadata": {},
   "outputs": [],
   "source": [
    "var_main = ['Avg_Risk', 'POP_SQMI', 'Hous_Burd']\n",
    "var_con = [\"Avg_Risk\", \"POP_SQMI\", \"Hous_Burd\", \"Education\", \"Poverty\", \"Unemployment\"]\n",
    "var_extend =[\"Avg_Risk\", \"POP_SQMI\", \"Hous_Burd\", \"Education\", \"Poverty\", \"Unemployment\", 'Ling_Iso', 'Ozone', 'PM25']\n",
    "\n",
    "var_dep = ['Insurer_Nonrenewed']\n",
    "\n",
    "## create your own varialbe list so that you can use it through out the class exercises \n",
    "## include 6 variables in the list: 3 main variables of interest and 3 controls \n"
   ]
  },
  {
   "cell_type": "code",
   "execution_count": 21,
   "id": "6a14e6f4-ab7b-409a-978f-cab34ebc0f03",
   "metadata": {},
   "outputs": [],
   "source": [
    "## other ways to run regressions?\n",
    "from pysal.model import spreg\n",
    "\n",
    "#Basic regression with only the main independent variables\n",
    "ols_main = spreg.OLS(\n",
    "    #Dependent Variable:\n",
    "    df[['Insurer_Nonrenewed']].values,\n",
    "    #Independent Variable:\n",
    "    df[var_main].values,\n",
    "    #Dependent Variable Names\n",
    "    name_y= 'Insurer Initiated Nonrenewals',\n",
    "    #Independent Variable Names\n",
    "    name_x = var_main,\n",
    "    #specify robust standard errors\n",
    "    robust = 'white',\n",
    ")"
   ]
  },
  {
   "cell_type": "code",
   "execution_count": 22,
   "id": "f9579221-627a-4d5a-8c32-e43f182237bc",
   "metadata": {},
   "outputs": [
    {
     "data": {
      "text/plain": [
       "<spreg.ols.OLS at 0x179cb3370>"
      ]
     },
     "execution_count": 22,
     "metadata": {},
     "output_type": "execute_result"
    }
   ],
   "source": [
    "ols_main"
   ]
  },
  {
   "cell_type": "code",
   "execution_count": 23,
   "id": "fcd4ac34-d91e-47df-9d1e-164c28f5388f",
   "metadata": {},
   "outputs": [
    {
     "name": "stdout",
     "output_type": "stream",
     "text": [
      "REGRESSION RESULTS\n",
      "------------------\n",
      "\n",
      "SUMMARY OF OUTPUT: ORDINARY LEAST SQUARES\n",
      "-----------------------------------------\n",
      "Data set            :     unknown\n",
      "Weights matrix      :        None\n",
      "Dependent Variable  :Insurer Initiated Nonrenewals                Number of Observations:        1282\n",
      "Mean dependent var  :    137.9072                Number of Variables   :           4\n",
      "S.D. dependent var  :    131.3436                Degrees of Freedom    :        1278\n",
      "R-squared           :      0.0213\n",
      "Adjusted R-squared  :      0.0190\n",
      "Sum squared residual: 2.16289e+07                F-statistic           :      9.2527\n",
      "Sigma-square        :   16924.042                Prob(F-statistic)     :   4.689e-06\n",
      "S.E. of regression  :     130.092                Log likelihood        :   -8058.166\n",
      "Sigma-square ML     :   16871.236                Akaike info criterion :   16124.333\n",
      "S.E of regression ML:    129.8893                Schwarz criterion     :   16144.958\n",
      "\n",
      "White Standard Errors\n",
      "------------------------------------------------------------------------------------\n",
      "            Variable     Coefficient       Std.Error     t-Statistic     Probability\n",
      "------------------------------------------------------------------------------------\n",
      "            CONSTANT       125.63987        12.77527         9.83462         0.00000\n",
      "            Avg_Risk        12.56384         8.27737         1.51785         0.12930\n",
      "            POP_SQMI        -0.00270         0.00043        -6.22103         0.00000\n",
      "           Hous_Burd         0.82153         0.61767         1.33003         0.18374\n",
      "------------------------------------------------------------------------------------\n",
      "\n",
      "REGRESSION DIAGNOSTICS\n",
      "MULTICOLLINEARITY CONDITION NUMBER            8.564\n",
      "\n",
      "TEST ON NORMALITY OF ERRORS\n",
      "TEST                             DF        VALUE           PROB\n",
      "Jarque-Bera                       2        6567.381           0.0000\n",
      "\n",
      "DIAGNOSTICS FOR HETEROSKEDASTICITY\n",
      "RANDOM COEFFICIENTS\n",
      "TEST                             DF        VALUE           PROB\n",
      "Breusch-Pagan test                3         244.636           0.0000\n",
      "Koenker-Bassett test              3          40.747           0.0000\n",
      "================================ END OF REPORT =====================================\n"
     ]
    }
   ],
   "source": [
    "print(ols_main.summary)"
   ]
  },
  {
   "cell_type": "code",
   "execution_count": null,
   "id": "075f4cfb-6d29-4af4-9dde-7c7ae3d2863f",
   "metadata": {},
   "outputs": [],
   "source": [
    "## What if we wanted to run the extended list of independent variables?\n",
    "\n",
    "#Basic regression with only the main independent variables\n",
    "ols_ext = spreg.OLS(\n",
    "    #Dependent Variable:\n",
    "\n",
    "    #Independent Variable:\n",
    "\n",
    "    #Dependent Variable Names\n",
    "\n",
    "    #Independent Variable Names\n",
    "\n",
    "    #specify robust standard errors\n",
    "\n",
    ")"
   ]
  },
  {
   "cell_type": "code",
   "execution_count": null,
   "id": "462825e1-b5b4-4ecc-9bb3-977df9134d45",
   "metadata": {},
   "outputs": [],
   "source": [
    "print(ols_ext.summary)"
   ]
  },
  {
   "cell_type": "code",
   "execution_count": null,
   "id": "daa3c5fd-fd6a-402c-8de8-bcd92c141e75",
   "metadata": {},
   "outputs": [],
   "source": [
    "## 'spreg' package has a slightly different code to figure out the r-squared\n",
    "\n",
    "ols_ext.r2"
   ]
  },
  {
   "cell_type": "code",
   "execution_count": null,
   "id": "54093c63-f401-496e-8e21-5cd9dd2b4ff8",
   "metadata": {},
   "outputs": [],
   "source": [
    "## the 'spreg' function from pysal allows us to get the results of the error term very easily. \n",
    "## let's save the residuals in a separate column in the data frame\n",
    "\n",
    "df['resid_ols'] = ols_ext.u\n",
    "df[['resid_ols']]"
   ]
  },
  {
   "cell_type": "code",
   "execution_count": null,
   "id": "dd33e1f3-36ef-44ac-a5b3-aab5a805ce53",
   "metadata": {},
   "outputs": [],
   "source": [
    "## Try running a regressoin with the variable list that you created \n",
    "\n"
   ]
  },
  {
   "cell_type": "code",
   "execution_count": null,
   "id": "d871be26-4c57-4147-8eaf-4d6e4c916c3d",
   "metadata": {},
   "outputs": [],
   "source": [
    "df.crs"
   ]
  },
  {
   "cell_type": "code",
   "execution_count": null,
   "id": "de4eb10a-e8c8-4fe1-9cfb-742eaf9b1ce0",
   "metadata": {},
   "outputs": [],
   "source": [
    "## what happens when we plot the residual results onto a map\n",
    "\n",
    "fig = plt.figure(figsize=(16,9))\n",
    "ax=plt.subplot()\n",
    "\n",
    "df.plot(\n",
    "    column = 'resid_ols',\n",
    "    cmap = 'coolwarm',\n",
    "    edgecolor = 'k',\n",
    "    linewidth = 0.2,\n",
    "    ax=ax\n",
    ")\n",
    "\n",
    "zip.plot(\n",
    "    ax=ax,\n",
    "    alpha = 0.5,\n",
    "    color = 'none',\n",
    "    edgecolor = 'k',\n",
    "    linewidth = 0.2\n",
    ")"
   ]
  },
  {
   "cell_type": "code",
   "execution_count": null,
   "id": "e869dfd8-25e9-4204-824a-53c5755acba0",
   "metadata": {},
   "outputs": [],
   "source": [
    "## let's create some weights \n",
    "\n",
    "w6 = weights.KNN.from_dataframe(df, k=6)\n",
    "w6.transform = \"R\"\n",
    "w8 = weights.KNN.from_dataframe(df, k=8)\n",
    "w8.transform = \"R\""
   ]
  },
  {
   "cell_type": "code",
   "execution_count": null,
   "id": "238ef068-4b42-4e76-8c06-58b1d4cdb64c",
   "metadata": {},
   "outputs": [],
   "source": [
    "## what if we were to lag the residuals to see any patterns of clustering among the error terms \n",
    "\n",
    "resid_lag = weights.spatial_lag.lag_spatial(w6, ols_ext.u)\n",
    "\n",
    "ax = seaborn.regplot(\n",
    "    x= ols_ext.u.flatten(),\n",
    "    y = resid_lag.flatten(),\n",
    "    line_kws = dict(color = \"orangered\"),\n",
    "    scatter_kws={'alpha' : 0.3, 's' : 10},\n",
    "    ci = None,\n",
    ")\n",
    "\n",
    "ax.set_xlabel('OLS Residuals - $u$')\n",
    "ax.set_ylabel('Spatial Lag OLS Residuals - $Wu$')"
   ]
  },
  {
   "cell_type": "code",
   "execution_count": null,
   "id": "7f782e29-d0cb-4c83-ae3d-e406ae3b66af",
   "metadata": {},
   "outputs": [],
   "source": [
    "## let's look at the Moran's I value and the p-value \n",
    "\n",
    "moran_ols_resid = esda.moran.Moran(df['resid_ols'], w6)\n",
    "print(moran_ols_resid.I)\n",
    "print(moran_ols_resid.p_sim)"
   ]
  },
  {
   "cell_type": "code",
   "execution_count": null,
   "id": "7722c26b-bdb9-4332-a24e-0c6c1271ebb3",
   "metadata": {},
   "outputs": [],
   "source": [
    "## what if we wanted to make a LISA map for insurance companies pulling out and also the residuals?\n",
    "\n",
    "## make the lagged version for residuals\n",
    "df['resid_ols_lag'] = (df['resid_ols']- df['resid_ols'].mean())/ df['resid_ols'].std()\n"
   ]
  },
  {
   "cell_type": "code",
   "execution_count": null,
   "id": "7d7b1820-4cef-46cd-a4f2-01203ab446bf",
   "metadata": {},
   "outputs": [],
   "source": [
    "## create the lisa variables for Insurer_Nonrenewed and the residuals\n",
    "\n",
    "lisa_ins = esda.moran.Moran_Local(df[\"Insurer_Nonrenewed\"], w6)\n",
    "lisa_res = esda.moran.Moran_Local(df['resid_ols'], w6)"
   ]
  },
  {
   "cell_type": "code",
   "execution_count": null,
   "id": "8ce461bb-632e-4084-b50d-3609747bcd83",
   "metadata": {},
   "outputs": [],
   "source": [
    "## plot the LISA map \n",
    "from splot import esda as esdaplot\n",
    "\n",
    "fig, ax = plt.subplots(1, 2, figsize=(12,12,))\n",
    "\n",
    "## first plotting the Insurer Nonrenewed\n",
    "esdaplot.lisa_cluster(lisa_ins, df, p=0.05, ax=ax[0])\n",
    "zip.plot(alpha =0.5, color = 'none', edgecolor = 'k', linewidth = 0.4, ax=ax[0])\n",
    "\n",
    "## next, plotting the residuals \n",
    "esdaplot.lisa_cluster(lisa_res, df, p=0.05, ax=ax[1])\n",
    "zip.plot(alpha =0.5, color = 'none', edgecolor = 'k', linewidth = 0.4, ax=ax[1])\n",
    "\n",
    "## naming the maps \n",
    "ax[0].set_title('LISA Map for Insurer-Initiated Nonrenewals')\n",
    "ax[1].set_title('LISA Map for OLS Residuals')\n",
    "\n"
   ]
  },
  {
   "cell_type": "markdown",
   "id": "28d093ef-80dc-4d06-826d-edd69fb0649d",
   "metadata": {},
   "source": [
    "A low Moran's I value among the residual terms would indicate that a lot of the variance within the regression is captured by the explanatory variables. If we included all the necessary variables, but still see a high Moran's I in the residuals, that would indicate that there are other phenomena going on that are affecting the dependent variable. In spatial analysis, we suggest that high Moran's I implies spatial patterns that are not captured by the linear regression "
   ]
  },
  {
   "cell_type": "markdown",
   "id": "5e754da3-1eda-4880-8b24-733c63d61ad5",
   "metadata": {},
   "source": [
    "## Diagnostics for Spatial Regressions"
   ]
  },
  {
   "cell_type": "code",
   "execution_count": null,
   "id": "3b24020a-2a72-4082-b992-ae5a71bbd5d6",
   "metadata": {},
   "outputs": [],
   "source": [
    "ols_ext_sp = spreg.OLS(\n",
    "    #Dependent Variable:\n",
    "    df[['Insurer_Nonrenewed']].values,\n",
    "    #Independent Variable:\n",
    "    df[[\"Avg_Risk\", \"POP_SQMI\", \"Hous_Burd\", \"Education\", \"Poverty\", \"Unemployment\", 'Ling_Iso', 'Ozone', 'PM25']].values,\n",
    "    #Dependent Variable Names\n",
    "    name_y = 'Insurer Nonrenewals',\n",
    "    #Independent Variable Names\n",
    "    name_x = var_extend,\n",
    "    #specify robust standard errors\n",
    "    robust = 'white',\n",
    "    #specify weights\n",
    "    w= w8,\n",
    "    #print out spatial diagnostics\n",
    "    spat_diag = True\n",
    ")"
   ]
  },
  {
   "cell_type": "code",
   "execution_count": null,
   "id": "438821fb-63fd-405f-966d-7819dc23aa76",
   "metadata": {
    "scrolled": true
   },
   "outputs": [],
   "source": [
    "print(ols_ext_sp.summary)"
   ]
  },
  {
   "cell_type": "code",
   "execution_count": null,
   "id": "780c90be-26ae-45c8-9db8-342f523e1c7d",
   "metadata": {},
   "outputs": [],
   "source": [
    "## VIF test\n",
    "\n",
    "testresult = spreg.diagnostics.vif(ols_ext)"
   ]
  },
  {
   "cell_type": "code",
   "execution_count": null,
   "id": "9bb3f40a-d37d-4462-833c-c78f89df4c7d",
   "metadata": {},
   "outputs": [],
   "source": [
    "avgrisk_vif = testresult[1]\n",
    "print(\"%8.8f\"%avgrisk_vif[0])"
   ]
  },
  {
   "cell_type": "markdown",
   "id": "8c130b5b-adc5-4e65-b128-ed21886aefab",
   "metadata": {},
   "source": [
    "Based on the diagnostics test that we saw as below, what can we say about the model of best fit?\n",
    "</figure>\n",
    "<img src=\"data:image/jpeg;base64,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\" alt=\"drawing\" width=\"600\" style=\"display: block; margin: 0 auto\"/>"
   ]
  },
  {
   "cell_type": "markdown",
   "id": "f813accd-4640-4a2f-b478-eb47ad7907ee",
   "metadata": {},
   "source": [
    "### Spatial Fixed Effects\n",
    "Just like in the case where we would run linear fixed effect regressions, we could also do that spatially. The spatial fixed effect is particularly useful when we have a linear regression with a categorical variable. \n",
    "Fixed effects allows us to account for different neighborhoods/ regions/ spatial clusters, and basically run different regressions for each geographic area.\n",
    "By holding all other variables constant, the spatial fixed effect allows for greater degrees of isolation. In otherwords, instead of assuming the dependent variable behaves uniformly over space, there are systematic effects following a geographical pattern that affect its behavior. \n"
   ]
  },
  {
   "cell_type": "code",
   "execution_count": null,
   "id": "df8ac5ad-9e73-46cb-b786-d81e5f5c6cac",
   "metadata": {},
   "outputs": [],
   "source": [
    "sfe = spreg.OLS_Regimes(\n",
    "    #Dependent Variable\n",
    "    df[[\"Insurer_Nonrenewed\"]].values,\n",
    "    # Independent Variable\n",
    "    df[var_extend].values,\n",
    "    # Variable specifying neighborhood membership\n",
    "    df['urban'].tolist(),\n",
    "    # Allow constant term to vary by group/regime \n",
    "    constant_regi = \"many\",\n",
    "    # Variables to be allowed to vary (True), or kept constant (False)\n",
    "    cols2regi= [True] * len(var_extend),\n",
    "    # Allow separate sigma coefficients to be estimated by regime\n",
    "    regime_err_sep = False,\n",
    "    # Dependent Variable Name\\\n",
    "    name_y = \"Insurer Nonrenewals\",\n",
    "    # Independent variable names\n",
    "    name_x = var_extend,\n",
    ")"
   ]
  },
  {
   "cell_type": "code",
   "execution_count": null,
   "id": "179811f5-6f1d-498d-b8a2-7c6d48cd4485",
   "metadata": {},
   "outputs": [],
   "source": [
    "print(sfe.summary)"
   ]
  },
  {
   "cell_type": "code",
   "execution_count": null,
   "id": "4f2299b2-b56c-4dea-b448-adc75cfe6db6",
   "metadata": {},
   "outputs": [],
   "source": []
  },
  {
   "cell_type": "code",
   "execution_count": null,
   "id": "d30a26bb-fe88-4282-8e1c-30515cde8fe0",
   "metadata": {},
   "outputs": [],
   "source": [
    "ols = smf.ols(formula = 'Insurer_Nonrenewed ~ Avg_Risk + POP_SQMI + Hous_Burd + Education + Poverty + Unemployment + Ling_Iso + Ozone + PM25', \n",
    "              data =df).fit()\n"
   ]
  },
  {
   "cell_type": "markdown",
   "id": "0aafad4c-0716-4459-93b9-53690a054304",
   "metadata": {},
   "source": [
    "### SLX Model - Spatially Lagged X Model - Spatially Lagged Exogenous Variable\n",
    "\n",
    "\n",
    "$$\n",
    "(InsurerNonrenewals_i) = \\alpha + \\mathbf{X}\\beta + \\mathbf{WX}\\gamma + \\epsilon\n",
    "$$\n",
    "\n",
    "This is basically adding lagged X variables into the regression"
   ]
  },
  {
   "cell_type": "code",
   "execution_count": null,
   "id": "b07ce1ad-7d76-4c6b-86ee-bdf4e94b2272",
   "metadata": {},
   "outputs": [],
   "source": [
    "df.head()"
   ]
  },
  {
   "cell_type": "code",
   "execution_count": null,
   "id": "d743867f-662d-4902-861b-a05a8ba145f7",
   "metadata": {},
   "outputs": [],
   "source": [
    "## make a loop to create spatially weighted varaibles \n",
    "var_lag = df[var_extend].apply(lambda y: weights.spatial_lag.lag_spatial(w6, y))\n",
    "\n",
    "var_lag = var_lag.rename(columns = lambda c: \"W_\"+c)"
   ]
  },
  {
   "cell_type": "code",
   "execution_count": null,
   "id": "13a4259a-1697-4e22-a69d-1517c3799484",
   "metadata": {},
   "outputs": [],
   "source": [
    "## join the two variable lists together \n",
    "\n",
    "var_slx = df[var_extend].join(var_lag)"
   ]
  },
  {
   "cell_type": "code",
   "execution_count": null,
   "id": "5a407f4c-32b3-4d81-9575-9b7e8f4d61e4",
   "metadata": {},
   "outputs": [],
   "source": [
    "## write out the equation for the SLX regression\n",
    "\n",
    "slx = spreg.OLS(\n",
    "    # Dependent Variable\n",
    "    df[['Insurer_Nonrenewed']].values,\n",
    "    # Independent Variable\n",
    "    var_slx.values,\n",
    "    # Dependent Variable Name \n",
    "    name_y= \"Insurer Nonrenewals\",\n",
    "    # Independent Variable Names\n",
    "    name_x= var_slx.columns.tolist(),\n",
    ")"
   ]
  },
  {
   "cell_type": "code",
   "execution_count": null,
   "id": "ce789e79-6f08-4bf3-a280-6f7993a3a7ec",
   "metadata": {},
   "outputs": [],
   "source": [
    "slx.betas"
   ]
  },
  {
   "cell_type": "code",
   "execution_count": null,
   "id": "3057b391-a39f-405b-a8cb-ba7003edc13d",
   "metadata": {},
   "outputs": [],
   "source": [
    "slx.std_err"
   ]
  },
  {
   "cell_type": "code",
   "execution_count": null,
   "id": "48b63381-3d99-4f2b-81ae-48e929521b68",
   "metadata": {},
   "outputs": [],
   "source": [
    "print(slx.summary)"
   ]
  },
  {
   "cell_type": "code",
   "execution_count": null,
   "id": "bb44f41e-13f2-4177-a265-be798775d89c",
   "metadata": {},
   "outputs": [],
   "source": [
    "## can we make that into a data frame?\n",
    "\n",
    "pd.DataFrame(\n",
    "    {\n",
    "        ## Pull out regression coefficients and standard errors and flatten to NX1 array \n",
    "        \"Coeff\": slx.betas.flatten(),\n",
    "        \"Std. Error\": slx.std_err.flatten(),\n",
    "        \"P-Value\": [i[1] for i in slx.t_stat],\n",
    "    },\n",
    "    index=slx.name_x\n",
    ")"
   ]
  },
  {
   "cell_type": "code",
   "execution_count": null,
   "id": "5be5a654-fc45-4efd-a20e-95f753261b65",
   "metadata": {},
   "outputs": [],
   "source": [
    "### with the variables that you are interested in, try creating dataframe for the SLX results \n",
    "\n"
   ]
  },
  {
   "cell_type": "markdown",
   "id": "1fc76773-0242-40f7-af22-052be2fe3558",
   "metadata": {},
   "source": [
    "### SLM (Spatial Lag Model) - Lagged Y variable - Spatially Lagged Exogenous Variable\n",
    "\n",
    "$$\n",
    "{InsurerNonrenewals_i} = \\alpha + \\rho {InsurerNonrenewals_{lag-i}} + \\sum_k \\beta_k X_{ki} + \\epsilon_i\n",
    "$$"
   ]
  },
  {
   "cell_type": "code",
   "execution_count": null,
   "id": "bafb3bfb-8474-4ec4-9dd4-49a9778c0150",
   "metadata": {},
   "outputs": [],
   "source": [
    "## write the equation for the SLM \n",
    "\n",
    "slm = spreg.GM_Lag(\n",
    "    df[['Insurer_Nonrenewed']].values,\n",
    "    df[var_extend].values,\n",
    "    w= w6,\n",
    "    name_y = \"Insurer Initiated Nonrenewals\",\n",
    "    name_x= var_extend,\n",
    ")"
   ]
  },
  {
   "cell_type": "code",
   "execution_count": null,
   "id": "8832905d-f0e3-4c28-92fc-d83f09cbf3a6",
   "metadata": {},
   "outputs": [],
   "source": [
    "## print out the summary statistic\n",
    "\n",
    "print(slm.summary)"
   ]
  },
  {
   "cell_type": "code",
   "execution_count": null,
   "id": "8ecce8e9-f456-4f17-b1e5-8ff2e3b14c87",
   "metadata": {},
   "outputs": [],
   "source": [
    "## what if we wanted to create a dataframe with the information on coeff, std error and p-value?\n",
    "\n",
    "pd.DataFrame(\n",
    "    {\n",
    "    \"Coeff.\": slm.betas.flatten(),\n",
    "    \"Std. Error\": slm.std_err.flatten(),\n",
    "    \"p-value\": [i[1] for i in slm.z_stat],\n",
    "    },\n",
    "    index = slm.name_z,\n",
    "\n",
    ").round(4)\n"
   ]
  },
  {
   "cell_type": "code",
   "execution_count": null,
   "id": "c47debed-1474-4d8a-b60a-9cff0358b8be",
   "metadata": {},
   "outputs": [],
   "source": [
    "## With the list of variables that you are interested in, try creating a SLM model result dataframe"
   ]
  },
  {
   "cell_type": "markdown",
   "id": "f72f6c3a-f1db-41be-afd6-e30c83e80788",
   "metadata": {},
   "source": [
    "### SEM (Spatial Error Model) - Lagged $u$ variable\n",
    "\n",
    "$$\n",
    "{InsurerNonrenewals_i} = \\alpha + \\sum_k \\beta_k X_{ki} + u_i\n",
    "$$\n",
    "\n",
    "$$\n",
    "u_i = \\lambda u_{lag-i} + \\epsilon_i\n",
    "$$\n",
    "\n",
    "where $u_{lag-i} = \\sum_j w_{i,j} u_j$. "
   ]
  },
  {
   "cell_type": "code",
   "execution_count": null,
   "id": "d7e4e28e-11fa-4e77-8d7f-331ca14c9f33",
   "metadata": {},
   "outputs": [],
   "source": [
    "## write codes for SEM \n",
    "\n",
    "sem = spreg.GM_Error_Het(\n",
    "    df[['Insurer_Nonrenewed']].values,\n",
    "    df[var_extend].values,\n",
    "    w=w6,\n",
    "    name_y = \"Insurer Initiated Nonrenewals\",\n",
    "    name_x = var_extend\n",
    ")\n"
   ]
  },
  {
   "cell_type": "code",
   "execution_count": null,
   "id": "3b48d1f6-0107-4fcc-abed-39759a3e6957",
   "metadata": {},
   "outputs": [],
   "source": [
    "## print out the results\n",
    "\n",
    "print(sem.summary)"
   ]
  },
  {
   "cell_type": "code",
   "execution_count": null,
   "id": "4953cb88-03da-4fd8-aaa8-08ce3502fb24",
   "metadata": {},
   "outputs": [],
   "source": [
    "## what if we wanted to create a dataframe with the information on coeff, std error and p-value?\n",
    "\n",
    "pd.DataFrame(\n",
    "    {\n",
    "    \"Coeff.\": sem.betas.flatten(),\n",
    "    \"Std. Error\": sem.std_err.flatten(),\n",
    "    \"p-value\": [i[1] for i in sem.z_stat],\n",
    "    },\n",
    "    index = sem.name_x,\n",
    "\n",
    ").reindex(['lambda']).round(4)\n"
   ]
  },
  {
   "cell_type": "markdown",
   "id": "13509537-d775-40e5-9a51-103d83e01d92",
   "metadata": {},
   "source": [
    "### Diagnostics "
   ]
  },
  {
   "cell_type": "code",
   "execution_count": null,
   "id": "c533bf5d-582e-4740-96ef-c87e805f1d41",
   "metadata": {},
   "outputs": [],
   "source": [
    "## Lower Values for the Bayesian Information Criteria is better \n",
    "\n",
    "slx_res = spreg.schwarz(slx)\n",
    "slm_res = spreg.schwarz(slm)\n",
    "\n",
    "print( slx_res, slm_res)"
   ]
  },
  {
   "cell_type": "code",
   "execution_count": null,
   "id": "9ae13d0b-4cef-4a54-9fc5-3e37026c9971",
   "metadata": {},
   "outputs": [],
   "source": []
  }
 ],
 "metadata": {
  "kernelspec": {
   "display_name": "Python 3 (ipykernel)",
   "language": "python",
   "name": "python3"
  },
  "language_info": {
   "codemirror_mode": {
    "name": "ipython",
    "version": 3
   },
   "file_extension": ".py",
   "mimetype": "text/x-python",
   "name": "python",
   "nbconvert_exporter": "python",
   "pygments_lexer": "ipython3",
   "version": "3.9.18"
  }
 },
 "nbformat": 4,
 "nbformat_minor": 5
}
