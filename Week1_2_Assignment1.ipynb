{
 "cells": [
  {
   "cell_type": "markdown",
   "metadata": {},
   "source": [
    "Homework will be submitted using Notebook and the resulting .html file. The Notebook files (.ipynb) are used to write and integrate text with code (i.e., literate programming), whereas the .html file will present the final analysis. You will be asked to submit both the .ipynb file and the .html file. Name your homework NETID_lab#.\n",
    "\n",
    "**Assignment due: June 6th** <br>\n",
    "**Total points: 65**"
   ]
  },
  {
   "cell_type": "markdown",
   "metadata": {},
   "source": [
    "**Question 1 (5 pt)**<br> \n",
    "Discuss the similarities and differences between the list `[1,2,3.14]` and list `[1,\"2\",\"3.14\"]`"
   ]
  },
  {
   "cell_type": "markdown",
   "metadata": {},
   "source": [
    "**Question 2 (10 pt)**<br>\n",
    "\n",
    "Print out the results based on the following requirements: \n",
    "- (1) the result and data type of 15 divided by 4.\n",
    "- (2) round the result of (1) to the nearest integer.\n",
    "- (3) print out the remainder of 15/4\n",
    "- (4) convert the result of 15/4 to integer\n",
    "- (5) convert the result of 15/4 to string"
   ]
  },
  {
   "cell_type": "markdown",
   "metadata": {},
   "source": [
    "**Question 3 (15 pt)**<br>\n",
    "\n",
    "```python\n",
    "lst_1 = [2, 3, 56, \"73\", 84, \"a\", [34, \"b\"], [23, [89, \"c\", 23]], 82]\n",
    "lst_2 = [2, 3, 56, 73, 84, 34, 9, 23, 82]\n",
    "```\n",
    "\n",
    "Select an element or a subset of elements in the above lists based on the following requirements: \n",
    "\n",
    "- (1) the 4th element (\"73\") of the lst_1 and the corresponding data type \n",
    "- (2) the first 5 elements of the lst_1\n",
    "- (3) the last 2 elements of the lst_1\n",
    "- (4) the element \"c\" in the lst_1\n",
    "- (5) get the index of element \"a\" in the lst_1\n",
    "- (6) insert a new element 80 at the position between \"73\" and 84 in the lst_1. **hint:** using the method .insert( )\n",
    "- (7) sort the lst_2 in the descending order. Can you sort the lst_1? If not, Why?\n",
    "- (8) **(Optional)** sort the lst_2 using **.sort( )** and **sorted( )**. Note that we do not discuss the sorted( ) function in class, so google it and learn how to use it by yourself. \n",
    "- (9) **(Optional)** remove the same element from the lst_2 using **lst_2.remove( )**,  **del lst_2[ ]**, **lst_2.pop( )**, respectively. Discuss the differences between them. \n"
   ]
  },
  {
   "cell_type": "markdown",
   "metadata": {},
   "source": [
    "**Question 4 (10 pt)**<br>\n",
    "\n",
    "- (1) defining a list with values ranges from 500 to 1000\n",
    "- (2) sum up all the elements in the list using for-loop\n",
    "- (3) print out all the even numbers and sum them up using for loop.\n"
   ]
  },
  {
   "cell_type": "markdown",
   "metadata": {},
   "source": [
    "**Question 5 (10 pt)**<br>\n",
    "\n",
    "Let us assume you are exploring the effects of air pollution on the spread of COVID-19. You measure the air pollution through two ways&mdash;the daily PM2.5 concentration obtained from the ground monitoring stations, and the daily aerosol optical depth (AOD) retrieved from satellite imagery. Now you have the following list that stores the ways of measure and the corresponding date（YearMonthDay). However, the different measures of air quality are mixed up.\n",
    "\n",
    "```python\n",
    "lst_mixed = [\"PM25_20141205\", \"AOD_20141205\", \"AOD_20140101\", \"AOD_20140218\", \"PM25_20140101\", \"PM25_20140218\"]\n",
    "```\n",
    "\n",
    "- (1) create two lists &mdash; lst_PM25 and lst_AOD that store the strings of PM2.5 and AOD, respectively. Think about which function can be used here? You should use some built-in functions of string and for loop, instead of typing the elements one by one. (**hint**: you can use *.startswith()* and *.append()*)\n",
    "\n",
    "- (2) get rid of the prefix \"PM25_\" and \"AOD_\" for each element in both lists."
   ]
  },
  {
   "cell_type": "markdown",
   "metadata": {},
   "source": [
    "**Question 6 (15 pt)**\n",
    "\n",
    "Let us assume you have two lists that store the name of students and their grade in final exam. \n",
    "\n",
    "```python\n",
    "lst_1 = [\"student1\", 73, \"student2\", 84, \"student3\", 65]\n",
    "lst_2 = [\"student4\", 92, \"student5\", 89, \"student6\", 25]\n",
    "```\n",
    "- (1) Combine the two lists into one list. The new list should adopt the same structure, namely [\"student1\", grade1, ..., \"student6\", grade6].\n",
    "\n",
    "\n",
    "- (2) After you finishing the task, you suddenly find there is a student left out becasue he/she handed in the final exam late. You deicide to append his/her name and grade to the combined list. Please print out the new combined list with the new student included. \n",
    "    - the name of the student is \"Bill\" and the grade is 59\n",
    "    \n",
    "\n",
    "- (3) Now you have to convert the numeric grade to the letter grade based on the following criterion: \n",
    "\n",
    "    A = [100,90] <br>\n",
    "    B = [89,80]  <br>\n",
    "    C = [79,70]  <br>\n",
    "    D = [69,60]  <br>\n",
    "    F = [<60]    <br>\n",
    "    \n",
    "    your final list should look something like: [\"student1\", \"C\", \"student2\", \"B\", ..., ]. Please do this change, and print out the new list <br> "
   ]
  }
 ],
 "metadata": {
  "kernelspec": {
   "display_name": "Python 3",
   "language": "python",
   "name": "python3"
  },
  "language_info": {
   "codemirror_mode": {
    "name": "ipython",
    "version": 3
   },
   "file_extension": ".py",
   "mimetype": "text/x-python",
   "name": "python",
   "nbconvert_exporter": "python",
   "pygments_lexer": "ipython3",
   "version": "3.7.9"
  }
 },
 "nbformat": 4,
 "nbformat_minor": 4
}
