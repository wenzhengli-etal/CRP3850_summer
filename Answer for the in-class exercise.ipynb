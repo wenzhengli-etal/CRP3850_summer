{
 "cells": [
  {
   "cell_type": "markdown",
   "metadata": {},
   "source": [
    "In class exercise"
   ]
  },
  {
   "cell_type": "markdown",
   "metadata": {},
   "source": [
    "**In class exercise**:\n",
    "- Judge the result:\n",
    "    - (2>1) and (3>18) or (5>4)\n",
    "    - not(2>1 or (3<2)) "
   ]
  },
  {
   "cell_type": "code",
   "execution_count": 3,
   "metadata": {},
   "outputs": [
    {
     "name": "stdout",
     "output_type": "stream",
     "text": [
      "True\n",
      "False\n"
     ]
    }
   ],
   "source": [
    "print((2>1) and (3>18) or (5>4))\n",
    "print(not(2>1 or (3<2)))"
   ]
  },
  {
   "cell_type": "markdown",
   "metadata": {},
   "source": [
    "---\n",
    "**In class exercise**: how to select the element \"hello\" from the following list? <br>\n",
    "```python\n",
    "lst=[1,2,\"a\",3,4,5,[1,2,\"hello\"],10,11,100]\n",
    "```\n",
    "---"
   ]
  },
  {
   "cell_type": "code",
   "execution_count": 2,
   "metadata": {},
   "outputs": [
    {
     "data": {
      "text/plain": [
       "'hello'"
      ]
     },
     "execution_count": 2,
     "metadata": {},
     "output_type": "execute_result"
    }
   ],
   "source": [
    "lst=[1,2,\"a\",3,4,5,[1,2,\"hello\"],10,11,100]\n",
    "lst[6][2]"
   ]
  },
  {
   "cell_type": "markdown",
   "metadata": {},
   "source": [
    "---\n",
    "**In class exercise**: \n",
    "```python\n",
    "lst = [15,\"a\",14,64,75,100,110,1000]\n",
    "```\n",
    "select a subset [15,\"a\",14,64,75,100,110] and named it `lst_subset`\n",
    "\n",
    "---"
   ]
  },
  {
   "cell_type": "code",
   "execution_count": 9,
   "metadata": {},
   "outputs": [
    {
     "name": "stdout",
     "output_type": "stream",
     "text": [
      "[15, 'a', 14, 64, 75, 100, 110] [15, 'a', 14, 64, 75, 100, 110] [15, 'a', 14, 64, 75, 100, 110]\n"
     ]
    }
   ],
   "source": [
    "lst = [15,\"a\",14,64,75,100,110,1000]\n",
    "\n",
    "# solution 1\n",
    "lst_subset1 = lst[:-1]\n",
    "\n",
    "# solution 2\n",
    "lst_subset2 = lst[:7]\n",
    "\n",
    "# solution 3\n",
    "lst_subset3 = lst[:lst.index(110)+1]\n",
    "\n",
    "print(lst_subset1, lst_subset2, lst_subset3)"
   ]
  },
  {
   "cell_type": "markdown",
   "metadata": {},
   "source": [
    "---\n",
    "**In class exercise**: \n",
    "```python\n",
    "str1 = 'abcdefg'\n",
    "```\n",
    "select a subset named `str2 = 'cde'`\n",
    "\n",
    "---"
   ]
  },
  {
   "cell_type": "code",
   "execution_count": 11,
   "metadata": {},
   "outputs": [
    {
     "name": "stdout",
     "output_type": "stream",
     "text": [
      "cde cde\n"
     ]
    }
   ],
   "source": [
    "# solution 1\n",
    "str1 = 'abcdefg'\n",
    "str2 = str1[2:5]\n",
    "\n",
    "# solution 2\n",
    "str3 = str1[str1.index(\"c\"): str1.index(\"e\") + 1]\n",
    "print(str2, str3)"
   ]
  },
  {
   "cell_type": "markdown",
   "metadata": {},
   "source": [
    "**In class exercise:**\n",
    "\n",
    "`str1 = \"      PM25_20141205     \"` <br>\n",
    "get rid of the prefix \"PM25_\" and whitespace for str1, and name the new string variable str2"
   ]
  },
  {
   "cell_type": "code",
   "execution_count": 12,
   "metadata": {},
   "outputs": [
    {
     "name": "stdout",
     "output_type": "stream",
     "text": [
      "20141205\n"
     ]
    }
   ],
   "source": [
    "str1 = \"      PM25_20141205     \"\n",
    "str2 = str1.replace(\" \",\"\").replace(\"PM25_\", \"\")\n",
    "print(str2)"
   ]
  },
  {
   "cell_type": "markdown",
   "metadata": {},
   "source": [
    "**In class exercise**\n",
    "\n",
    "You have a student list with grades attached: \n",
    "student = [\"student1\", 99, \"student2\", 72, \"student3\", 59]\n",
    "\n",
    "mark the scores greater than 80 as \"A\", <br>\n",
    "scores between 60 to 80 as \"B\", <br>\n",
    "and scores less than 60 as \"C\".<br> \n",
    "print out the new list student = ['student1', 'A', 'student2', 'B', 'student3', 'C']"
   ]
  },
  {
   "cell_type": "code",
   "execution_count": 1,
   "metadata": {},
   "outputs": [
    {
     "name": "stdout",
     "output_type": "stream",
     "text": [
      "['student1', 'A', 'student2', 'B', 'student3', 'C']\n"
     ]
    }
   ],
   "source": [
    "student = [\"student1\", 99, \"student2\", 72, \"student3\", 59]\n",
    "\n",
    "for i in list(range(len(student))):\n",
    "    if i%2 == 1:\n",
    "        if student[i] >= 80:\n",
    "            student[i] = \"A\"\n",
    "        elif (student[i] > 60 and student[i] < 80):\n",
    "            student[i] = \"B\"\n",
    "        else: \n",
    "            student[i] = \"C\"\n",
    "print(student)\n",
    "    "
   ]
  }
 ],
 "metadata": {
  "kernelspec": {
   "display_name": "Python 3",
   "language": "python",
   "name": "python3"
  },
  "language_info": {
   "codemirror_mode": {
    "name": "ipython",
    "version": 3
   },
   "file_extension": ".py",
   "mimetype": "text/x-python",
   "name": "python",
   "nbconvert_exporter": "python",
   "pygments_lexer": "ipython3",
   "version": "3.7.9"
  }
 },
 "nbformat": 4,
 "nbformat_minor": 4
}
