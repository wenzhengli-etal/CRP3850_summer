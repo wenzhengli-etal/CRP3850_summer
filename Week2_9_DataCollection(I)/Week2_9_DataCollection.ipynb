{
 "cells": [
  {
   "cell_type": "markdown",
   "id": "240d0247-f215-48f3-8dd2-befff5838912",
   "metadata": {},
   "source": [
    "## Week2_9_DataCollection"
   ]
  },
  {
   "cell_type": "markdown",
   "id": "c977bafd-a38d-4f7a-9b74-166d3563e135",
   "metadata": {},
   "source": [
    "Outline\n",
    "1. Introduction to Selenium\n",
    "2. Control Web Browser Using Selenium"
   ]
  },
  {
   "cell_type": "markdown",
   "id": "59a8f384-5d44-41a2-b914-22f6dd610f03",
   "metadata": {},
   "source": [
    "### 1. Introduction to Selenium"
   ]
  },
  {
   "cell_type": "markdown",
   "id": "2c19b660-a8fb-45e8-9b27-1aa4636b0ce1",
   "metadata": {},
   "source": [
    "#### 1.1 Install selenium\n",
    "We are using selenium (a library in Python) to obtain data from webpages. Launch the Jupyter Notebook and\n",
    "import selenium."
   ]
  },
  {
   "cell_type": "code",
   "execution_count": 1,
   "id": "eb874642-cbb8-4f72-ad82-f8f3db0c24dd",
   "metadata": {},
   "outputs": [],
   "source": [
    "import selenium"
   ]
  },
  {
   "cell_type": "code",
   "execution_count": null,
   "id": "839adaf8-127f-4b82-b285-47b6dcad41ae",
   "metadata": {},
   "outputs": [],
   "source": []
  },
  {
   "cell_type": "markdown",
   "id": "e3cd0306-0aba-4326-a512-716693eca3dc",
   "metadata": {},
   "source": [
    "\n",
    "You may get an error. This error indicates that the selenium is not installed in your computer. To install this module (library), To install a package into its own environment, please follow these steps:\n",
    "- (1) Open Anaconda Navigator.\n",
    "- (2) Click Connect, then click SIGN IN next to Anaconda.org.\n",
    "- (3) Select Environments from the left-hand navigation, then look for your package by name using the Search Packages field (**make sure you select within \"All\" module, but merely those \"Installed\"**). Filter packages further using the dropdown above the Name column.\n",
    "- (4) Select the checkbox of the selenium you want to install, then click the Apply.\n"
   ]
  },
  {
   "cell_type": "markdown",
   "id": "d97ab0d4-023e-4cd4-9392-fa58a30658a6",
   "metadata": {},
   "source": [
    "Now `import selenium` again. There should be no errors."
   ]
  },
  {
   "cell_type": "markdown",
   "id": "06cf498a-0117-49ea-a2b0-4f3cbffcf253",
   "metadata": {},
   "source": [
    "Then we create a brower representing the web browser."
   ]
  },
  {
   "cell_type": "code",
   "execution_count": null,
   "id": "17a9bb49-f861-4df1-b3d0-18d4b26336c7",
   "metadata": {},
   "outputs": [],
   "source": []
  },
  {
   "cell_type": "code",
   "execution_count": null,
   "id": "ef617c91-28fe-43f8-bf3e-04aab89d6d39",
   "metadata": {},
   "outputs": [],
   "source": []
  },
  {
   "cell_type": "markdown",
   "id": "b02a0f36-7ef5-4988-8a2f-d3c450056d86",
   "metadata": {},
   "source": [
    "1.2 Download webdriver\n",
    "Using selenium to control web browser requires a webdriver application, which is available from the selenium\n",
    "website.\n",
    "1. Go to the website (https://selenium.dev/ (https://selenium.dev/)) and click \"Download\";\n",
    "2. Scroll down and you can see \"Platforms Supported by Selenium\". Under \"Browser\", there is a list of web\n",
    "browsers. Click your daily choice and download it accordingly.\n",
    "3. Unzip the downloaded file and save the application file in the Notebook folder."
   ]
  },
  {
   "cell_type": "code",
   "execution_count": null,
   "id": "767b79ae-9b76-4a4f-94be-103b0dc35825",
   "metadata": {},
   "outputs": [],
   "source": []
  },
  {
   "cell_type": "code",
   "execution_count": null,
   "id": "e91f5535-4c53-4c28-8c48-6e67ec059dcf",
   "metadata": {},
   "outputs": [],
   "source": []
  },
  {
   "cell_type": "code",
   "execution_count": null,
   "id": "8e3fc1cc-a939-413f-bc3e-ac9ba2e0333f",
   "metadata": {},
   "outputs": [],
   "source": []
  },
  {
   "cell_type": "code",
   "execution_count": null,
   "id": "6e969812-e291-48b2-9752-d2027cba627e",
   "metadata": {},
   "outputs": [],
   "source": []
  }
 ],
 "metadata": {
  "kernelspec": {
   "display_name": "Python 3 (ipykernel)",
   "language": "python",
   "name": "python3"
  },
  "language_info": {
   "codemirror_mode": {
    "name": "ipython",
    "version": 3
   },
   "file_extension": ".py",
   "mimetype": "text/x-python",
   "name": "python",
   "nbconvert_exporter": "python",
   "pygments_lexer": "ipython3",
   "version": "3.9.19"
  }
 },
 "nbformat": 4,
 "nbformat_minor": 5
}
