{
 "cells": [
  {
   "cell_type": "markdown",
   "metadata": {},
   "source": [
    "### Edit and Command mode:\n",
    "<p style=\"color:green;\">Green cell outline</p> — cell is in \"edit mode\" <br>\n",
    "<p style=\"color:blue;\">Blue cell outline</p> — cell is in \"command mode\" <br>"
   ]
  },
  {
   "cell_type": "markdown",
   "metadata": {},
   "source": [
    "Here is the summary of the shortcuts that I often used under different modes: \n",
    "\n",
    "- Toggle between edit and command mode with **Esc** and **Enter**, respectively.\n",
    "- Run a cell: \"**Shift + Enter**\" (a new cell will be created below and becomes active); \"**Ctrl + Enter**\" (no new cell will be created)\n",
    "- Once in edit mode: \n",
    "    - Ctrl+c: copy the selected code;\n",
    "    - Ctrl+v: paste the selected code;\n",
    "    - Ctrl+z: undo the change.\n",
    "- Once in the command mode: \n",
    "    - B: add a cell below the highlighted cell; \n",
    "    - A: add a cell above the highlighted cell; \n",
    "    - D: Delete a cell: double click \"D\";\n",
    "    - Y: change cell to code;\n",
    "    - M: change cell to markdown.\n",
    "    - holding \"Shift\": Select multiple cells;\n",
    "    - \"Shift + m\": Merge multiple cells: after selecting all cells.\n"
   ]
  },
  {
   "cell_type": "markdown",
   "metadata": {},
   "source": [
    "### Code cell"
   ]
  },
  {
   "cell_type": "code",
   "execution_count": 9,
   "metadata": {
    "scrolled": true
   },
   "outputs": [
    {
     "name": "stdout",
     "output_type": "stream",
     "text": [
      "300\n"
     ]
    }
   ],
   "source": [
    "a, b=100, 200\n",
    "c=a+b\n",
    "print(c)"
   ]
  },
  {
   "cell_type": "markdown",
   "metadata": {},
   "source": [
    "### Markdown cell"
   ]
  },
  {
   "cell_type": "markdown",
   "metadata": {},
   "source": [
    "use ** to bold or * to italicize words\n",
    "\n",
    "This is the first lab in a series of Python tutorials for the Advanced GIS course. The tutorial series intended to teach the *Python Beginners* the **basic skills** of Python for quantitative spatial analysis under the context of urban planning and big data.\n",
    "\n",
    "\n",
    "We will begin with the basic Python syntax, followed by the web-scrapying technique for data collection, data clearning and management functions, as well as the geoprocessing and visualization."
   ]
  },
  {
   "cell_type": "markdown",
   "metadata": {},
   "source": [
    "**how to insert links?**\n",
    "\n",
    "here is the official website of Python: https://www.python.org/.\n",
    "\n",
    "Please check the User Guide of [pandas](https://pandas.pydata.org/docs/user_guide/index.html). \n",
    "\n",
    "**how to insert a picture?**\n",
    "\n",
    "![Jupyter Notebook Logo](https://upload.wikimedia.org/wikipedia/commons/c/c3/Python-logo-notext.svg)\n",
    "\n",
    "<img src=\"img/list_index.jpg\" style=\"width:400px; height:75px\"/>  \n",
    "\n"
   ]
  },
  {
   "cell_type": "markdown",
   "metadata": {},
   "source": [
    "# Header1\n",
    "some text under the header1\n",
    "\n",
    "## Header2\n",
    "some text under the header2\n",
    "\n",
    "### Header3\n",
    "\n",
    "1. New Year's Day\n",
    "    1. Christmas Day\n",
    "    2. Memorial Day\n",
    "2. Independence Day\n",
    "    1. Labor Day\n",
    "    3. Thanksgiving Day\n",
    "\n",
    "\n",
    "1. Chapter 1 <br>\n",
    "    1.1 content1 <br>\n",
    "    1.2 content2 <br>\n",
    "2. Chapter 2 <br>\n",
    "    2.1 content1 <br>\n",
    "    \n",
    "    \n",
    "\n",
    "- Chapter 1\n",
    "    - 1.1 content1\n",
    "        - 1.1.1 content2\n",
    "- Chapter 2 <br>\n",
    "    - 2.1 content1 \n",
    "        - 2.1.1 contexnt"
   ]
  }
 ],
 "metadata": {
  "kernelspec": {
   "display_name": "Python 3",
   "language": "python",
   "name": "python3"
  },
  "language_info": {
   "codemirror_mode": {
    "name": "ipython",
    "version": 3
   },
   "file_extension": ".py",
   "mimetype": "text/x-python",
   "name": "python",
   "nbconvert_exporter": "python",
   "pygments_lexer": "ipython3",
   "version": "3.7.9"
  }
 },
 "nbformat": 4,
 "nbformat_minor": 4
}
