{
 "cells": [
  {
   "cell_type": "markdown",
   "id": "f2bdaf07-9c50-46f4-89de-d630867c6fb4",
   "metadata": {},
   "source": [
    "# Using Different Data Sets\n",
    "\n",
    "### 311 Service Requests in NYC\n",
    "NYC311 can provide you access to non-emergency City services and information about City government programs. NYC311 can help with a broad range of services, including things like homeless person assistance, pothole repair, or help understanding a property tax bill.\n",
    "\n",
    "**The goal of this exercise is the count the number of noise complaints in New York City by neighborhood.**"
   ]
  },
  {
   "cell_type": "code",
   "execution_count": null,
   "id": "b17b4153-3aff-47d4-b4a2-87eb85f9d8c5",
   "metadata": {},
   "outputs": [],
   "source": [
    "# Analysis\n",
    "import geopandas as gpd\n",
    "import pandas as pd\n",
    "from numpy.random import seed\n",
    "import os\n",
    "import numpy as np\n",
    "\n",
    "# Graphics\n",
    "import matplotlib.pyplot as plt\n",
    "from matplotlib import colors\n",
    "\n",
    "import seaborn as sns\n",
    "from pysal.viz import splot\n",
    "from splot.esda import plot_moran\n",
    "import contextily as ctx\n",
    "\n",
    "sns.set_context(context='paper')\n",
    "\n",
    "## warnings is a module that allows you to filter warnings\n",
    "import warnings\n",
    "## we are going to ignore all warnings (so they won't print)\n",
    "warnings.filterwarnings(\"ignore\")"
   ]
  },
  {
   "cell_type": "code",
   "execution_count": null,
   "id": "dc9141fd-d236-4584-bc95-0388a072ebd6",
   "metadata": {},
   "outputs": [],
   "source": [
    "path = os.getcwd\n",
    "os.chdir( '/Users/yujinlee/Documents/Summer 2024/CRP3850/Week2_7')"
   ]
  },
  {
   "cell_type": "code",
   "execution_count": null,
   "id": "fe22b7d9-2222-474b-b610-cbcfc3a16869",
   "metadata": {},
   "outputs": [],
   "source": [
    "##For this exercise, we are using Application Programming Interfaces (APIs) to import information. APIs allow softwares to talk to each other. \n",
    "##That is why Python can bring in data from the NYC Open Data just with the link\n",
    "\n",
    "nyc_311_url = \"https://data.cityofnewyork.us/resource/erm2-nwe9.json\"\n",
    "nyc_311 = pd.read_json(nyc_311_url)\n",
    "\n",
    "##show the first five rows of the dataframe\n",
    "nyc_311.head()"
   ]
  },
  {
   "cell_type": "code",
   "execution_count": null,
   "id": "b217f731-2619-4fa1-ab74-e93f53481f62",
   "metadata": {},
   "outputs": [],
   "source": [
    "##we are interested in looking at the different neighborhoods (i.e. Manhattan, Bronx, Queens... etc.). \n",
    "##Identify the column that has that information and show the first five rows of that specific column\n",
    "\n",
    "nyc_311.columns\n",
    "nyc_311['park_borough'].head()"
   ]
  },
  {
   "cell_type": "code",
   "execution_count": null,
   "id": "2579be21-59f0-42d2-8cdd-dd6ad998d2a3",
   "metadata": {},
   "outputs": [],
   "source": [
    "## Now that we have identified the neighborhoods, can we find the complaint types and make a separate dataframe with only noise-complaints?\n",
    "\n",
    "noise_311 = nyc_311.loc[nyc_311['complaint_type'].apply(lambda x: 'Noise -' in x),:]\n",
    "noise_311.head()"
   ]
  },
  {
   "cell_type": "code",
   "execution_count": null,
   "id": "45c5f7d8-d43f-4e08-afed-eccd16ec93a1",
   "metadata": {
    "scrolled": true
   },
   "outputs": [],
   "source": [
    "## we are interested in the number of noise complaints in each neighborhood. Which neighborhood has the most noise complaints?\n",
    "\n",
    "noise_311.groupby('park_borough')[['complaint_type']].count()\n"
   ]
  },
  {
   "cell_type": "markdown",
   "id": "49b13f6a-17ab-42fe-8396-15a294850254",
   "metadata": {},
   "source": [
    "## Week2_6+7 Spatial Data\n",
    "### GeoDataFrame \n",
    "#### The goal of this exercise is to create a map that shows noise complaints per borough in New York City. The map should be color coded based on the borough and have a gradient scale based on the number of noise complaints. \n",
    "\n",
    "We are now going to convert the dataframe for all 311 noise complaint cases "
   ]
  },
  {
   "cell_type": "code",
   "execution_count": null,
   "id": "5daf918e-97e0-4160-9394-a3d0b6494c38",
   "metadata": {},
   "outputs": [],
   "source": [
    "# Try to identify which columns represent geographic data "
   ]
  },
  {
   "cell_type": "code",
   "execution_count": null,
   "id": "764226cc-cffe-4a97-a57a-aa3e96379594",
   "metadata": {},
   "outputs": [],
   "source": [
    "# define geometry first \n",
    "\n",
    "geometry = "
   ]
  },
  {
   "cell_type": "code",
   "execution_count": null,
   "id": "c9e9bef4-c805-474b-aaf1-7c6aa5ff2cb9",
   "metadata": {},
   "outputs": [],
   "source": [
    "# Now change the dataframe to a geodataframe\n",
    "\n",
    "noise_311_geo = gpd.GeoDataFrame( #insert code here)"
   ]
  },
  {
   "cell_type": "code",
   "execution_count": null,
   "id": "9aa0afd3-2c93-4f8c-ac8e-ee65876aac8b",
   "metadata": {},
   "outputs": [],
   "source": [
    "# Now try to plot the incidents of noise complaints on a map just to see what we made\n",
    "# color of points should be orange, with a transparency of 0.5\n",
    "\n",
    "fig, ax = plt.subplots(figsize=(6, 6))\n",
    "plt.title('Noise Complaints in NYC')\n",
    "plt.xlabel('longitude')\n",
    "plt.ylabel('latitude')\n",
    "\n",
    "noise_311_geo.plot( #insert code here)"
   ]
  },
  {
   "cell_type": "markdown",
   "id": "57347007-5a75-4711-8c55-f679c9999b65",
   "metadata": {},
   "source": [
    "#### This map doesn't have a basemap so let me bring in the basemap from yesterday's class. "
   ]
  },
  {
   "cell_type": "code",
   "execution_count": null,
   "id": "ed9d96e6-17db-4e4a-a2db-e301b43079dd",
   "metadata": {},
   "outputs": [],
   "source": [
    "#Bring in the '2020 Census Tracts.zip' from Week2_6 Lecture \n",
    "\n",
    "gdf_CT = gpd.read_file('2020 Census Tracts.zip')\n",
    "gdf_CT = gdf_CT.to_crs(epsg=4326)"
   ]
  },
  {
   "cell_type": "code",
   "execution_count": null,
   "id": "e3d2e93f-50bf-433b-8871-c4b36517a09b",
   "metadata": {},
   "outputs": [],
   "source": [
    "#Now let's plot the points with the basemap and noise complaint points\n",
    "\n",
    "## insert code here ## "
   ]
  },
  {
   "cell_type": "markdown",
   "id": "9be14f9e-5d9a-4a9b-a6e6-37f1a520ed9d",
   "metadata": {},
   "source": [
    "#### But what if we wanted to plot noise complaints by borough?\n",
    "\n",
    "We will now clean the datasets to be able to merge 311 noise complaints with census tract data\n",
    "1) First, working with census tract data, we will dissolve geometries located within the same borough\n",
    "2) Next, we will make a separate data set that only includes borough name and count of complaints\n",
    "3) We will merge the two data sets and then assign it to a geodataframe\n",
    "4) Lastly, we will plot the data! "
   ]
  },
  {
   "cell_type": "code",
   "execution_count": null,
   "id": "952ac819-0c06-41ba-87f9-3cfaad253874",
   "metadata": {},
   "outputs": [],
   "source": [
    "gdf_CT.head()"
   ]
  },
  {
   "cell_type": "code",
   "execution_count": null,
   "id": "f98ce4b7-a1de-4c84-883f-3df8da7c4261",
   "metadata": {},
   "outputs": [],
   "source": [
    "#First, separate a new data set with boroname and geometry\n",
    "#Then, we dissolve the geometry by 'boroname'\n",
    "\n",
    "nyc_CT = #insert code here\n",
    "nyc_boro = nyc_CT.dissolve(by = #insert code here) \n"
   ]
  },
  {
   "cell_type": "code",
   "execution_count": null,
   "id": "21369225-153b-4044-be6a-0c3f3185e2ec",
   "metadata": {},
   "outputs": [],
   "source": [
    "### From the question above that asked you to count the number of noise complaints per borough, create a separate data frame with the borough and counts\n",
    "### name data frame as 'noise_count'\n",
    "### rename the column from 'complaint_type' to 'complaint_count'\n",
    "\n",
    "##insert code here"
   ]
  },
  {
   "cell_type": "code",
   "execution_count": null,
   "id": "2fb29ea2-9a8f-41e5-a94f-5e1748564bb9",
   "metadata": {},
   "outputs": [],
   "source": [
    "### We're going to now merge the number of complains with the nyc_boro geo data \n",
    "\n",
    "#after identifying the common name ( which should be boroname), we will conduct a merge on the common column\n",
    "\n",
    "\n",
    "## insert code here"
   ]
  },
  {
   "cell_type": "markdown",
   "id": "e6ea8e93-bfb9-4167-a04f-d595f9e2996b",
   "metadata": {},
   "source": [
    "#### The merge didn't work. Why didn't it?"
   ]
  },
  {
   "cell_type": "code",
   "execution_count": null,
   "id": "d56588a3-4fd9-4d0b-88f6-50543318c91e",
   "metadata": {},
   "outputs": [],
   "source": [
    "### Let's recreate a new dataframe for the noise count\n",
    "\n",
    "##insert code here"
   ]
  },
  {
   "cell_type": "code",
   "execution_count": null,
   "id": "c08eee53-dc54-4b11-ad7b-3362ee07c9be",
   "metadata": {},
   "outputs": [],
   "source": [
    "### Let's try doing the merge again now\n",
    "\n",
    "## insert code here"
   ]
  },
  {
   "cell_type": "code",
   "execution_count": null,
   "id": "c2249c6f-224b-43d1-8901-df5b17077ba5",
   "metadata": {},
   "outputs": [],
   "source": [
    "### Make boro_noise into a geodataframe \n",
    "\n",
    "##insert code here"
   ]
  },
  {
   "cell_type": "code",
   "execution_count": null,
   "id": "845c3019-6159-4deb-b61b-8f47136ca600",
   "metadata": {},
   "outputs": [],
   "source": [
    "### Now what happens when we try to plot the data?\n",
    "\n",
    "## insert code here "
   ]
  }
 ],
 "metadata": {
  "kernelspec": {
   "display_name": "Python 3 (ipykernel)",
   "language": "python",
   "name": "python3"
  },
  "language_info": {
   "codemirror_mode": {
    "name": "ipython",
    "version": 3
   },
   "file_extension": ".py",
   "mimetype": "text/x-python",
   "name": "python",
   "nbconvert_exporter": "python",
   "pygments_lexer": "ipython3",
   "version": "3.9.18"
  }
 },
 "nbformat": 4,
 "nbformat_minor": 5
}
