{
 "cells": [
  {
   "cell_type": "markdown",
   "metadata": {},
   "source": [
    "## Assignment 4\n",
    "- Due date: March 22th\n",
    "- total points: 75"
   ]
  },
  {
   "cell_type": "markdown",
   "metadata": {},
   "source": [
    "**Part One (25 pts)**\n",
    "\n",
    "In this part, we will be working on a COVID-19 dataset to explore the spatial-temporal trend of the COVID cases in the United States. The state level COVID-19 dataset we are using is from UN-OCHA Humanitarian Data Exchange (HDE) (https://data.humdata.org/dataset/nyt-covid-19-data). They compiles the time series data of cumulative counts of coronavirus cases in the United States, at the state and county level, over time. The dataset was originally released by the New York Times. and has been transformed from long format to wide format. \n",
    "\n",
    "(1) (5 pts) Import the dataset as a dataframe, and check how many rows and how many columns in the dataset. Check the data type of each column in the COVID dataframe using `df.types`. Make sure you have all the Date columns with data type \"integer64\" or \"float64\" rather than \"object\". The matplotlib will treat \"object\" columns as categorical variables when plotting. So make sure you have numeric variables presenting COVID cases in this step.\n",
    "\n",
    "(2) (5 pts) We found there are 55 states and territories in the data, missing one inhabited territory American Samoa. For simplicity, we just keep the 49 contiguous states and Washington, D.C. in this exercise. So drop the rows corresponding to ['Alaska', 'Hawaii', 'Guam', 'Northern Mariana Islands', 'Puerto Rico', 'Virgin Islands']. Check the dataframe again to make sure you have 49 states left.\n",
    "\n",
    "(3) (5 pts) Make a new DataFrame only storing the COVID data in 2020. In other words, the new dataframe should include all the columns from \"2020-01-21 to \"2020-12-31\" plus the \"State\" column.\n",
    "\n",
    "(4) (10 pts) Plot the trend line of COVID cases in 2020 for the following states: \n",
    "- New York, California, Massachusetts, Illinois, and Texas\n",
    "- using Date as x-axis and confirm cases as y-axis \n",
    "- **Hint**: You can firstly set \"States\" as index, select the five states using `df.loc[]`, and assign them to a new dataframe. Then, using `.T` to transpose the new dataframe so that the Date variable can be the index and five States can be the column names. Skip the Nan Values for now.  \n",
    "    \n",
    "**Part two (20 pts)**: \n",
    "\n",
    "Now let us explore the spatial distribution of the COVID-19 cases using the COVID cases dataset we explored above and the US state boundary shapefile. Go to the homework folder, load the data (\"tl_2017_us_state.shp\") into your Jupyter notebook and print out the first five rows \n",
    "\n",
    "(1) (5 pts) Plot the state map and print out the crs. **A basic plot is good enough. you do not need to add additional artists to the map.**\n",
    "\n",
    "(2) (5 pts) This is a shapefile containing all states and territories. Keep the polygons for the 49 states we use in the part one. **Note that we can use .isin() here.**. Plot the basic map again to double check.\n",
    "\n",
    "(3) (5 pts) To make a choropleth map showing the COVID distribution, merge the COVID-19 data (the dataframe you obtained in Part One (6)) to the shapefile based on state names.\n",
    "\n",
    "(4) (5 pts) Plot the choropleth map of the COVID-19 cases in 2020-21-31. Make sure you specify the appropriate color ramp, classification scheme, legend, and all other elements that you think helpful for interpreting the map.  \n",
    "\n",
    "(5) (**Optional 0 pts**) Plot a combined map with subplots in 2X3 grid to show the trendency of COVID-19 cases. \n",
    "- the Dates to be plotted are 2020-07-01, 2020-08-01, 2020-09-01, 2020-10-01, 2020-11-01, 2020-12-01\n",
    "\n",
    "**Part three (30 pts)**\n",
    "\n",
    "In this final part, we first use a geocoded NYC property sales data set as point data (can be found here https://www.baruch.cuny.edu/confluence/display/geoportal/NYC+Geocoded+Real+Estate+Sales ). Download \"real_property_sales_nyc_2017.zip\" and unzip the file into the Jupyter Notebook folder. In addition to the point data, we use the polygon data for census tracts on Manhattan (another shapefiles). Find it here: https://catalog.data.gov/dataset/tiger-line-shapefile-2013-state-new-york-current-census-tract-state-based. After unzipping it, we can import the shapefile into Python using GeoPandas.\n",
    "\n",
    "(1) (5 pts) filter the Manhattan data out for both the dataset. **hint: for point data, the Manhatten sales have \"borough\" values equal to 1; for polygon data, the Manhatten have COUNTYFP == 061.**\n",
    "\n",
    "(2) (5 pts) Now the census tract data's coordinates are in WGS-84, the true coordinates on the spheroid. Project them into projected coordinates (on a flat x-y plane, in meter), same as the point data. Check the crs of the point data (manha_sale_17) and then project the polygon (census tract) data to it.\n",
    "\n",
    "(3) Now we want to show visualize the number of housing transactions and the average housing price in each tract. \n",
    "- (5 pts) First, find the corresponding tract for each point by spatially joining the sale points and the census tracts. The resulting spatial joined dataframe should keep the geometric object (geometry column) of the housing point dataset. Print out your dataframe\n",
    "\n",
    "- (5 pts) Second, get the count and the average price for each tract by groupby('TRACTCE') and .count() and .mean().\n",
    "\n",
    "- (5 pts) Next, merge the count and the price information back to the census tract basemap (\"manha_proj\") using .merge.\n",
    "\n",
    "- (5 pts) Finally, create choropleth maps with two subplots to show the number of housing transactions and the average price in each tract. **hint: you may choose to skip those NaN census tracts using .notna() or plot the NaN with hatching lines ///**"
   ]
  }
 ],
 "metadata": {
  "kernelspec": {
   "display_name": "Python [conda env:urban_analytics] *",
   "language": "python",
   "name": "conda-env-urban_analytics-py"
  },
  "language_info": {
   "codemirror_mode": {
    "name": "ipython",
    "version": 3
   },
   "file_extension": ".py",
   "mimetype": "text/x-python",
   "name": "python",
   "nbconvert_exporter": "python",
   "pygments_lexer": "ipython3",
   "version": "3.7.8"
  }
 },
 "nbformat": 4,
 "nbformat_minor": 4
}
