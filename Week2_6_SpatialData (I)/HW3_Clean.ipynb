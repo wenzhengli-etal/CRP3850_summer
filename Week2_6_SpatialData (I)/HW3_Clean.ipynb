{
 "cells": [
  {
   "cell_type": "markdown",
   "id": "84a2ed0e",
   "metadata": {},
   "source": [
    "# Homework 2 (66 pts)\n",
    "\n",
    "## Overview\n",
    "This homework will focus on checking the global and local spatial autocorrelation and point pattern analysis based on the Airbnb listing in New York City and the underlying socioeconomics. Through this practice, you will review the process of retrieving data from API, building spatial weights from georeferenced data, checking global and local spatial autocorrelation, and conducting point pattern analysis. \n",
    "\n",
    "## Grading\n",
    "Each exercise will be graded based on the following rubrics:\n",
    "- 2 points. Completed the task, presented the expected results, and codes were well documented and explained.\n",
    "- 1 point. Completed the task with some disparity from the expected results.\n",
    "- 0 point. Did not complete the excercise.\n",
    "\n",
    "## Late submission policy\n",
    "For late submission, every extra day after the due date will lead to 20% off of your points. Less than a day will be counted as one day. All submissions after the TA team posts the answers will not be accepted."
   ]
  },
  {
   "cell_type": "markdown",
   "id": "c4d7183e",
   "metadata": {},
   "source": [
    "## 1. Read and Clean Data\n",
    "### 1.1 Read and Clean Census Tract Data (4 pts)\n",
    "Homework 1 presented detailed steps of downloading and cleaning census tract data while here you can try Socrata to retrieve the same dataset. Use the following link: https://data.cityofnewyork.us/City-Government/2020-Census-Tracts-Tabular/63ge-mke6 and find the API Endpoint. \n",
    "- Specify the BoroName as Manhattan in the url. (2 pts)\n",
    "- Transform the downloaded dataframe into a geodataframe and set the crs as 4326. (2 pts)\n",
    "\n",
    "Present the geodataframe (name it as **ct**)."
   ]
  },
  {
   "cell_type": "code",
   "execution_count": null,
   "id": "b9a2b85a",
   "metadata": {
    "scrolled": true
   },
   "outputs": [],
   "source": [
    "# enter your codes here\n",
    "\n",
    "ct"
   ]
  },
  {
   "cell_type": "markdown",
   "id": "4eaaac5b",
   "metadata": {},
   "source": [
    "### 1.2 Read and Clean Airbnb Listing Data (2 pts)\n",
    "Similar to homework 1, you are required to download and clean the Airbnb listing data and wrap all of them into one cell. Use the same link in homework 1 to download the listing data in New York City.\n",
    "- Change *price* column type as float.\n",
    "- Transform the dataframe into geodataframe using the latitude-longitude pairs.\n",
    "- Spatial join **ct** with only *geoid*, *boroname* and *the_geom* columns to the listing geodataframe.\n",
    "\n",
    "You should only have the listings in Manhattan. Present your geodataframe **listing** below."
   ]
  },
  {
   "cell_type": "code",
   "execution_count": null,
   "id": "da850a3f",
   "metadata": {
    "scrolled": true
   },
   "outputs": [],
   "source": [
    "# enter your codes here\n",
    "\n",
    "listing.info()"
   ]
  },
  {
   "cell_type": "markdown",
   "id": "67203053",
   "metadata": {},
   "source": [
    "### 1.3 Retrieve American Community Survey (ACS) Data (6 pts)\n",
    "The 3rd dataset is from American Community Survey. You can first check with \"2019 ACS Table List\" from [ACS table](https://www.census.gov/programs-surveys/acs/technical-documentation/table-shells.2019.html#list-tab-LO1F1MU1CQP3YOHD2T) and find the median household income code as **B19013_001**. Use *cenpy* module to download the household income information in New York City and use census tract level as the geographic unit. Save the data as **acs_data** and name the column for household income as *median_hh_inc*. Present the information of **acs_data**. (2 pts)"
   ]
  },
  {
   "cell_type": "code",
   "execution_count": null,
   "id": "6c708032",
   "metadata": {},
   "outputs": [],
   "source": [
    "# enter your codes here"
   ]
  },
  {
   "cell_type": "code",
   "execution_count": null,
   "id": "c986d1ec",
   "metadata": {},
   "outputs": [],
   "source": [
    "# enter your codes here\n",
    "\n",
    "acs_data.info()"
   ]
  },
  {
   "cell_type": "markdown",
   "id": "4b7b1294",
   "metadata": {},
   "source": [
    "Notice that *median_hh_inc* column includes null values. Replace all null values with the mean of the median household income. (2 pts)"
   ]
  },
  {
   "cell_type": "code",
   "execution_count": null,
   "id": "0f3b2ed8",
   "metadata": {},
   "outputs": [],
   "source": [
    "# enter your codes here"
   ]
  },
  {
   "cell_type": "markdown",
   "id": "e988f052",
   "metadata": {},
   "source": [
    "Plot the median household income by census tract. Five quantiles are used here with *GnBu* color ramp. Remember to add:\n",
    "- Title\n",
    "- Legend\n",
    "- X-Y axis names\n",
    "\n",
    "properly to the map. (2 pts)"
   ]
  },
  {
   "cell_type": "code",
   "execution_count": null,
   "id": "0f45d2a2",
   "metadata": {
    "scrolled": false
   },
   "outputs": [],
   "source": [
    "# enter your codes here"
   ]
  },
  {
   "cell_type": "markdown",
   "id": "5d0fe721",
   "metadata": {},
   "source": [
    "## 2. Data Analysis & Visualization\n",
    "### 2.1 Create Spatial Weights (12 pts)\n",
    "ACS data is firstly analyzed. Create a spatial weight, *wq*, with *Queen* method and standardize the spatial weight. (2 pts)"
   ]
  },
  {
   "cell_type": "code",
   "execution_count": null,
   "id": "917c1f73",
   "metadata": {},
   "outputs": [],
   "source": [
    "# enter your codes here"
   ]
  },
  {
   "cell_type": "markdown",
   "id": "9647241e",
   "metadata": {},
   "source": [
    "Since *median_hh_inc* column will be used repetitively, store this column in variable *y*. Therefore, *ylag* is generated from *y* to store the spatial lags of *median_hh_inc*. (2 pts)"
   ]
  },
  {
   "cell_type": "code",
   "execution_count": null,
   "id": "9818551a",
   "metadata": {},
   "outputs": [],
   "source": [
    "# enter your codes here"
   ]
  },
  {
   "cell_type": "markdown",
   "id": "643738e6",
   "metadata": {},
   "source": [
    "To compare *y* with *ylag* visually, you can create two plots side by side. \n",
    "- Both maps should have 5 quantiles of *y* and *ylag* respectively with your choice of color ramp. (2 pts)\n",
    "- Both maps should have proper titles and legends. (2 pts)\n",
    "- Remove axis for both maps. (2 pts)"
   ]
  },
  {
   "cell_type": "code",
   "execution_count": null,
   "id": "44fdc72a",
   "metadata": {},
   "outputs": [],
   "source": [
    "# enter your codes here\n",
    "\n",
    "plt.show()"
   ]
  },
  {
   "cell_type": "markdown",
   "id": "4a0681b8",
   "metadata": {},
   "source": [
    "Why do the two maps look different? How do you interpret the difference? (2 pts)"
   ]
  },
  {
   "cell_type": "markdown",
   "id": "3c6364b5",
   "metadata": {},
   "source": [
    "### 2.2 Global Spatial Correlation (8 pts)\n",
    "By plotting median household income above, you will have some ideas about where the affluent and the less affluent people live. To verify your hypothesis, you can try to find how they are correlated with their neighbors globally.\n",
    "\n",
    "Firstly, create a boolean list *yb* if the census tract's median household income (*y*) exceeds the median median household income in Manhattan (median of *y*). (2 pts)"
   ]
  },
  {
   "cell_type": "code",
   "execution_count": null,
   "id": "c60529cc",
   "metadata": {},
   "outputs": [],
   "source": [
    "# enter your codes here"
   ]
  },
  {
   "cell_type": "code",
   "execution_count": null,
   "id": "89bb3db6",
   "metadata": {},
   "outputs": [],
   "source": [
    "# enter your codes here"
   ]
  },
  {
   "cell_type": "markdown",
   "id": "34e2b764",
   "metadata": {},
   "source": [
    "Next, create a new column *yb* in **acs_data** where *0 low* means the census tract's median household income is below the median of *y* and *1 high* means the rest. (2 pts)"
   ]
  },
  {
   "cell_type": "code",
   "execution_count": null,
   "id": "c029ed5a",
   "metadata": {},
   "outputs": [],
   "source": [
    "# enter your codes here"
   ]
  },
  {
   "cell_type": "markdown",
   "id": "49318a54",
   "metadata": {},
   "source": [
    "Plot census tracts whose household income are above the median as black and those below as white. (2 pts)"
   ]
  },
  {
   "cell_type": "code",
   "execution_count": null,
   "id": "f7f17725",
   "metadata": {},
   "outputs": [],
   "source": [
    "# enter your codes here"
   ]
  },
  {
   "cell_type": "markdown",
   "id": "0a7c89bc",
   "metadata": {},
   "source": [
    "Do you think a binary map is better at showing spatial disparity than the quantile map in Q2.1? (2 pts)"
   ]
  },
  {
   "cell_type": "markdown",
   "id": "126627ad",
   "metadata": {},
   "source": [
    "### 2.3 Moran's I (8 pts)\n",
    "By looking at the maps, you are convinced that wealth is not distributed across NYC space evenly. Moran's I will provide you a statistical tool to further testify your hypothesis. \n",
    "\n",
    "To create a Moran Plot, you should first calculate the difference between the median household income and its mean. Then repeat the step for the spatial lags of the median household income. Add these two lists to **acs_data** as column *y_std* and *ylag_std*. (2 pts)\n",
    "Then use seaborn module to make a scatter plot using the two columns. Add x and y axis names and tiles to the plot. (2 pts)"
   ]
  },
  {
   "cell_type": "code",
   "execution_count": null,
   "id": "321c0d93",
   "metadata": {},
   "outputs": [],
   "source": [
    "# enter your codes here"
   ]
  },
  {
   "cell_type": "markdown",
   "id": "a19c2cbb",
   "metadata": {},
   "source": [
    "How do you interpret the Moran's Plot? Does it indicate a strong or weak autocorrelation? (2 pts)"
   ]
  },
  {
   "cell_type": "markdown",
   "id": "43c1bf2c",
   "metadata": {},
   "source": [
    "What is the value of your Moran's I? (2 pts)"
   ]
  },
  {
   "cell_type": "code",
   "execution_count": null,
   "id": "f7e5c1c2",
   "metadata": {},
   "outputs": [],
   "source": [
    "# enter your codes here"
   ]
  },
  {
   "cell_type": "markdown",
   "id": "a4b7f957",
   "metadata": {},
   "source": [
    "### 2.4 Local Spatial Autocorrelation (8 pts)\n",
    "The significant value of Moran's I confirms that the spatial distribution of NYC's wealth is highly uneven. But where are the richest neighborhoods and where are the poorest?\n",
    "\n",
    "Firstly you can generate local Moran's I and name this variable as *li*. (2 pts)"
   ]
  },
  {
   "cell_type": "code",
   "execution_count": null,
   "id": "314453c8",
   "metadata": {},
   "outputs": [],
   "source": [
    "# enter your codes here"
   ]
  },
  {
   "cell_type": "markdown",
   "id": "3bb2a02b",
   "metadata": {},
   "source": [
    "Based on the significance value (less than 0.05), create a new column *cl* to **acs_data** with values of *0 ns*, *1 hot pot*, *2 doughnut*, *3 cold spot*, and *4 diamond*. (2 pts)\n",
    "As the names indicate, Hot Spot is the neighborhoods with high household income and Cold Spot is the neighborhoods with low household income. Doughnut is the low-income neighborhoods surrounded by high-income neighbors while Diamond is the high-income neighborhoods surrounded by low-income neighbors."
   ]
  },
  {
   "cell_type": "code",
   "execution_count": null,
   "id": "208de125",
   "metadata": {},
   "outputs": [],
   "source": [
    "# enter your codes here"
   ]
  },
  {
   "cell_type": "code",
   "execution_count": null,
   "id": "4fd31f24",
   "metadata": {},
   "outputs": [],
   "source": [
    "# enter your codes here"
   ]
  },
  {
   "cell_type": "markdown",
   "id": "bf2394cb",
   "metadata": {},
   "source": [
    "Plot the four types of census tracts with lightgrey to *0 ns*, red to *1 hot pot*, lightblue to *2 doughnut*, blue to *3 cold spot*, and pink to *4 diamond*. Add legend and titles to the plot. (2 pts)"
   ]
  },
  {
   "cell_type": "code",
   "execution_count": null,
   "id": "db00e3b4",
   "metadata": {},
   "outputs": [],
   "source": [
    "# enter your codes here"
   ]
  },
  {
   "cell_type": "markdown",
   "id": "fc9a6aed",
   "metadata": {},
   "source": [
    "How do you interpret the four types of colored regions under the NYC context? Why do some parks apprear as \"doughnuts\"? (2 pts)"
   ]
  },
  {
   "cell_type": "markdown",
   "id": "d536152b",
   "metadata": {},
   "source": [
    "### 2.5 Point Pattern Analysis (18 pts)\n",
    "With an image of wealth distribution across NYC, now you can move to the Airbnb listing to see if locations of the short-term rental listing have any relationship with their neighborhoods.\n",
    "\n",
    "Map all the listing in Manhattan by their coordinates and show the density on latitudes and longitudes respectively. (2 pts)"
   ]
  },
  {
   "cell_type": "code",
   "execution_count": null,
   "id": "be1a63b8",
   "metadata": {},
   "outputs": [],
   "source": [
    "# enter your codes here"
   ]
  },
  {
   "cell_type": "markdown",
   "id": "db353123",
   "metadata": {},
   "source": [
    "To generate a density map for points data, you should firstly assign those points to different areal units. Hexagon is one of the most used units. For Manhattan, you can generate and add hexbin with 50 hexagons in each dimension without bordorline and with half transparency. (2 pts) Add a base map and colorbar and remove axes. (2 pts) Show your map below."
   ]
  },
  {
   "cell_type": "code",
   "execution_count": null,
   "id": "d4514fee",
   "metadata": {},
   "outputs": [],
   "source": [
    "# enter your codes here"
   ]
  },
  {
   "cell_type": "markdown",
   "id": "975a3adf",
   "metadata": {},
   "source": [
    "Find out the mean center (2 pts), median center (2 pts) and standardized ellipse of the Manhattan Airbnb listing. Legend and axis names should be added."
   ]
  },
  {
   "cell_type": "code",
   "execution_count": null,
   "id": "189045cf",
   "metadata": {},
   "outputs": [],
   "source": [
    "# enter your codes here"
   ]
  },
  {
   "cell_type": "markdown",
   "id": "79d37018",
   "metadata": {},
   "source": [
    "Why do the mean and median centers differ? (2 pts)"
   ]
  },
  {
   "cell_type": "markdown",
   "id": "e9f78b5b",
   "metadata": {},
   "source": [
    "Generate a quadrat count map based on the listing. In each quadrat, the number of listings should be shown. (2 pts)"
   ]
  },
  {
   "cell_type": "code",
   "execution_count": null,
   "id": "67d28758",
   "metadata": {},
   "outputs": [],
   "source": [
    "# enter your codes here"
   ]
  },
  {
   "cell_type": "markdown",
   "id": "837c9028",
   "metadata": {},
   "source": [
    "From the Quadrat Count figure, which areas have the densest Airbnbs? Provide some hypotheses for why this might be the case. (2 pts)"
   ]
  },
  {
   "cell_type": "markdown",
   "id": "1af940b9",
   "metadata": {},
   "source": [
    "What is the p-value of a chi-squared test? How do you interpret the value? (2 pts)"
   ]
  },
  {
   "cell_type": "code",
   "execution_count": null,
   "id": "6729b8b4",
   "metadata": {},
   "outputs": [],
   "source": [
    "# enter your codes here"
   ]
  }
 ],
 "metadata": {
  "kernelspec": {
   "display_name": "Python 3 (ipykernel)",
   "language": "python",
   "name": "python3"
  },
  "language_info": {
   "codemirror_mode": {
    "name": "ipython",
    "version": 3
   },
   "file_extension": ".py",
   "mimetype": "text/x-python",
   "name": "python",
   "nbconvert_exporter": "python",
   "pygments_lexer": "ipython3",
   "version": "3.9.16"
  }
 },
 "nbformat": 4,
 "nbformat_minor": 5
}
