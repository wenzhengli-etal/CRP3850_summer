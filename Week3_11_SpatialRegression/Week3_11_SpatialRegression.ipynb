{
 "cells": [
  {
   "cell_type": "markdown",
   "id": "db06e29e-a378-4cef-8d44-c827b01288c4",
   "metadata": {},
   "source": [
    "## Week 3_11 Linear Regressions\n",
    "\n",
    "Now that we went through spatial weights and autocorrelation, it's time to look into spatial regression. Before we do that though, let's refresh our memory on linear regressions and make sure that we know how to do regression analysis. "
   ]
  },
  {
   "cell_type": "markdown",
   "id": "e60a679f-8713-430a-bf3d-358f82754388",
   "metadata": {},
   "source": [
    "### Let's go straight into practice "
   ]
  },
  {
   "cell_type": "markdown",
   "id": "ba3139d7-4121-4867-a3e4-cfd6b2cb98a6",
   "metadata": {},
   "source": [
    "</figure>\n",
    "<img src=\"https://images.axios.com/o13A3BkhiJo0ufUjoCnVT3vQ02U=/0x625:6000x4000/1920x1080/2022/07/24/1658705447535.jpg?w=1920\" alt=\"drawing\" width=\"600\" style=\"display: block; margin: 0 auto\"/>\n",
    "<figcaption> California Wildfire and Smokey Bear </figcaption>\n"
   ]
  },
  {
   "cell_type": "markdown",
   "id": "c748fd42-fb37-4651-a4bb-67e519ad83cc",
   "metadata": {},
   "source": [
    "Recently, California has been experiencing a huge surge of wild fires, threatening families, homes and the natural environment. Even worse, insurance companies have started to increase their premiumns, or even decided to move out of California because they were incurring high costs to operate. "
   ]
  },
  {
   "cell_type": "markdown",
   "id": "85adb06c-b8d7-4cb6-8f06-adb169841b40",
   "metadata": {},
   "source": [
    "### Objective \n",
    "Our goals of this exercise is to see the correlation between insurance companies pulling out and wildfire risk and socio-demographic features of zip-codes in California. In the perspective of rational agents in the market economy, insurance companies should be pulling out in areas that have higher wildfire risk. If not, there must be other patterns that are going on, incentivizing insurance companies to move out of the area. \n"
   ]
  },
  {
   "cell_type": "code",
   "execution_count": null,
   "id": "660e25a9-2565-4dbf-89a9-6f3e92e69b32",
   "metadata": {},
   "outputs": [],
   "source": [
    "## Bring in the california enviroscreen data\n",
    "gpd.read_file("
   ]
  }
 ],
 "metadata": {
  "kernelspec": {
   "display_name": "Python 3 (ipykernel)",
   "language": "python",
   "name": "python3"
  },
  "language_info": {
   "codemirror_mode": {
    "name": "ipython",
    "version": 3
   },
   "file_extension": ".py",
   "mimetype": "text/x-python",
   "name": "python",
   "nbconvert_exporter": "python",
   "pygments_lexer": "ipython3",
   "version": "3.11.5"
  }
 },
 "nbformat": 4,
 "nbformat_minor": 5
}
