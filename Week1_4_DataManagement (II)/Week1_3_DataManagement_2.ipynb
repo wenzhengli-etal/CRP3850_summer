{
 "cells": [
  {
   "cell_type": "markdown",
   "metadata": {},
   "source": [
    "# Week1_3_Data Management_2"
   ]
  },
  {
   "cell_type": "markdown",
   "metadata": {},
   "source": [
    "Not all datasets are well-cleaned and ready-to-be used. Actually, the perfect situation is very rare. In data analysis of real-world data, we will meet a range of issues, such as missing data and data type inconsistency. Today, we will take a look at several common issues we will meet in data management, and we will learn how to deal with it. \n",
    "\n",
    "We will continue to use the Beijing resale housing dataset in 2012 as an example. "
   ]
  },
  {
   "cell_type": "code",
   "execution_count": 10,
   "metadata": {},
   "outputs": [],
   "source": [
    "# We are going to start importing the libraries we need\n",
    "# In the future, it is a good practice to keep all the imports in one cell so that\n",
    "# we can easily see what libraries we are using in the notebook.\n",
    "\n",
    "import pandas as pd"
   ]
  },
  {
   "cell_type": "markdown",
   "metadata": {},
   "source": [
    "# 1. Data cleaning\n",
    "As you might have already seen, when we work with data, the initial dataset is not always in a shape where we can use it as is. \n",
    "\n",
    "Sometimes column names are misspelled or unclear, there may be missing values, or the format of each column is incorrect. Moreoever you may also have noticed that often we can extract information from columns that might make them easier to work with. All these steps can be considered part of a data cleaning process, where we get the dataset ready to be used more effectively for our analysis purposes. \n"
   ]
  },
  {
   "cell_type": "markdown",
   "metadata": {},
   "source": [
    "## 1.1 Getting the data"
   ]
  },
  {
   "cell_type": "code",
   "execution_count": 51,
   "metadata": {},
   "outputs": [],
   "source": [
    "# load the housing dataset using relative path\n",
    "df_2012 = pd.read_excel(\"HouseBeijing2012.xlsx\")"
   ]
  },
  {
   "cell_type": "code",
   "execution_count": 52,
   "metadata": {},
   "outputs": [
    {
     "data": {
      "text/plain": [
       "Index(['HouseID', 'CommunityID', 'TotalPrice', 'TransYear', 'Bedroom',\n",
       "       'Livingroom', 'Bathroom', 'Size', 'FloorLevel', 'WinSouth',\n",
       "       'WinSouthNorth', 'Decoration', 'TotalFloor', 'BuiltYear', 'Elevation',\n",
       "       'Heating', 'TransMonth', 'TransDay', 'District', 'DistName',\n",
       "       'CensusTract', 'XIAOQUWEB', 'SchQuality', 'NumSubway1km', 'Dist2Subway',\n",
       "       'HospQuality', 'Dist2Hosp', 'NumHosp1km', 'NumBus200m', 'Dist2CBD',\n",
       "       'Dist2Center'],\n",
       "      dtype='object')"
      ]
     },
     "execution_count": 52,
     "metadata": {},
     "output_type": "execute_result"
    }
   ],
   "source": [
    "# check the column names\n",
    "df_2012.columns"
   ]
  },
  {
   "cell_type": "markdown",
   "metadata": {},
   "source": [
    "An interesting question asked by city planners and urban economists is the preference of homebuyers for the relative height of floors. \n",
    "   - High-floor dwelling units offer many benefits, such as reduced exposure to traffic pollution and noise, decreased security risks, scenic views, and emotional superiority for being higher up relative to others\n",
    "   - However, the disadvantages are also apparent, including the vertical commuting costs and the potential hazards of top floors in case of rain leakages, fire, or other emergencies. \n",
    "   \n",
    "So, now we want to explore the relationship between the relative floor level and unit housing price.\n",
    "\n",
    "In the dataset, we have a column named FloorLevel, which should have 5 levels: from 1 to 5. The meaning of these numbers are:\n",
    "- 1: the ground floor - the very first floor of a building;\n",
    "- 2: the low floor - the bottom third of a building's total number of floors\n",
    "- 3: the middle floor - the middle third of a building's total number of floors\n",
    "- 4: the high floor - the top third of a building's total number of floors\n",
    "- 5: the top floor - the highest floor\n",
    "\n",
    "Now let us check this column:"
   ]
  },
  {
   "cell_type": "code",
   "execution_count": 53,
   "metadata": {},
   "outputs": [
    {
     "data": {
      "text/html": [
       "<div>\n",
       "<style scoped>\n",
       "    .dataframe tbody tr th:only-of-type {\n",
       "        vertical-align: middle;\n",
       "    }\n",
       "\n",
       "    .dataframe tbody tr th {\n",
       "        vertical-align: top;\n",
       "    }\n",
       "\n",
       "    .dataframe thead th {\n",
       "        text-align: right;\n",
       "    }\n",
       "</style>\n",
       "<table border=\"1\" class=\"dataframe\">\n",
       "  <thead>\n",
       "    <tr style=\"text-align: right;\">\n",
       "      <th></th>\n",
       "      <th>FloorLevel</th>\n",
       "    </tr>\n",
       "  </thead>\n",
       "  <tbody>\n",
       "    <tr>\n",
       "      <th>0</th>\n",
       "      <td>bottom floor</td>\n",
       "    </tr>\n",
       "    <tr>\n",
       "      <th>1</th>\n",
       "      <td>NaN</td>\n",
       "    </tr>\n",
       "    <tr>\n",
       "      <th>2</th>\n",
       "      <td>3</td>\n",
       "    </tr>\n",
       "    <tr>\n",
       "      <th>3</th>\n",
       "      <td>3</td>\n",
       "    </tr>\n",
       "    <tr>\n",
       "      <th>4</th>\n",
       "      <td>4</td>\n",
       "    </tr>\n",
       "    <tr>\n",
       "      <th>...</th>\n",
       "      <td>...</td>\n",
       "    </tr>\n",
       "    <tr>\n",
       "      <th>4995</th>\n",
       "      <td>bottom floor</td>\n",
       "    </tr>\n",
       "    <tr>\n",
       "      <th>4996</th>\n",
       "      <td>3</td>\n",
       "    </tr>\n",
       "    <tr>\n",
       "      <th>4997</th>\n",
       "      <td>3</td>\n",
       "    </tr>\n",
       "    <tr>\n",
       "      <th>4998</th>\n",
       "      <td>2</td>\n",
       "    </tr>\n",
       "    <tr>\n",
       "      <th>4999</th>\n",
       "      <td>top floor</td>\n",
       "    </tr>\n",
       "  </tbody>\n",
       "</table>\n",
       "<p>5000 rows × 1 columns</p>\n",
       "</div>"
      ],
      "text/plain": [
       "        FloorLevel\n",
       "0     bottom floor\n",
       "1              NaN\n",
       "2                3\n",
       "3                3\n",
       "4                4\n",
       "...            ...\n",
       "4995  bottom floor\n",
       "4996             3\n",
       "4997             3\n",
       "4998             2\n",
       "4999     top floor\n",
       "\n",
       "[5000 rows x 1 columns]"
      ]
     },
     "execution_count": 53,
     "metadata": {},
     "output_type": "execute_result"
    }
   ],
   "source": [
    "df_2012[[\"FloorLevel\"]]"
   ]
  },
  {
   "cell_type": "markdown",
   "metadata": {},
   "source": [
    "Two issues in this column: \n",
    "   - Instead of numeric numbers, this column also contains `NaN` value, suggesting the value is missing \n",
    "   - The column also contains string (text) values - **top floor** and **bottom floor**, which should be given a value 5 and 1, respectively."
   ]
  },
  {
   "cell_type": "markdown",
   "metadata": {},
   "source": [
    "## 1.2 Assessing Data Types\n",
    "We have no idea about other columns. So, one of the next things we'll check is the data type for each column to make sure that they are in the right format."
   ]
  },
  {
   "cell_type": "code",
   "execution_count": 54,
   "metadata": {},
   "outputs": [
    {
     "data": {
      "text/plain": [
       "HouseID           object\n",
       "CommunityID        int64\n",
       "TotalPrice       float64\n",
       "TransYear          int64\n",
       "Bedroom            int64\n",
       "Livingroom         int64\n",
       "Bathroom           int64\n",
       "Size             float64\n",
       "FloorLevel        object\n",
       "WinSouth           int64\n",
       "WinSouthNorth      int64\n",
       "Decoration         int64\n",
       "TotalFloor         int64\n",
       "BuiltYear          int64\n",
       "Elevation          int64\n",
       "Heating            int64\n",
       "TransMonth         int64\n",
       "TransDay           int64\n",
       "District           int64\n",
       "DistName          object\n",
       "CensusTract        int64\n",
       "XIAOQUWEB         object\n",
       "SchQuality         int64\n",
       "NumSubway1km       int64\n",
       "Dist2Subway      float64\n",
       "HospQuality        int64\n",
       "Dist2Hosp        float64\n",
       "NumHosp1km         int64\n",
       "NumBus200m         int64\n",
       "Dist2CBD         float64\n",
       "Dist2Center      float64\n",
       "dtype: object"
      ]
     },
     "execution_count": 54,
     "metadata": {},
     "output_type": "execute_result"
    }
   ],
   "source": [
    "df_2012.dtypes"
   ]
  },
  {
   "cell_type": "markdown",
   "metadata": {},
   "source": [
    "Other columns looks okay. Even if there are columns that goods problematic, I would not necessarily change the data types for all columns (especially when there are a lot), **just the ones that you might potentially need**. \n",
    "\n",
    "Now, it seems the only problematic column is `FloorLevel` "
   ]
  },
  {
   "cell_type": "markdown",
   "metadata": {},
   "source": [
    "## 1.3 Replacing Data\n",
    "\n",
    "Let us first check the column in more details. \n",
    "   - `unique()`: obtain the unique values\n",
    "   - `value_counts()`: check how many times each unique value appears"
   ]
  },
  {
   "cell_type": "code",
   "execution_count": 55,
   "metadata": {},
   "outputs": [
    {
     "data": {
      "text/plain": [
       "array(['bottom floor', nan, '3', '4', '2', 'top floor'], dtype=object)"
      ]
     },
     "execution_count": 55,
     "metadata": {},
     "output_type": "execute_result"
    }
   ],
   "source": [
    "df_2012['FloorLevel'].unique()"
   ]
  },
  {
   "cell_type": "code",
   "execution_count": 56,
   "metadata": {},
   "outputs": [
    {
     "data": {
      "text/plain": [
       "3               1839\n",
       "4               1139\n",
       "2               1071\n",
       "top floor        590\n",
       "bottom floor     358\n",
       "NaN                3\n",
       "Name: FloorLevel, dtype: int64"
      ]
     },
     "execution_count": 56,
     "metadata": {},
     "output_type": "execute_result"
    }
   ],
   "source": [
    "df_2012['FloorLevel'].value_counts(dropna=False)"
   ]
  },
  {
   "cell_type": "markdown",
   "metadata": {},
   "source": [
    "As we can find, we have 590 \"top floor\" observations that need to be assigned value 5; 358 \"bottom floor\" observations that need to be assigned value 1; We have three NaN values that we can either drop them or fill them with some values. \n",
    "\n",
    "Let us deal with the string values first. \n",
    "   - replace \"top floor\" with value 5\n",
    "   - replace \"bottom floor\" with value 1\n",
    "   \n",
    "   "
   ]
  },
  {
   "cell_type": "markdown",
   "metadata": {},
   "source": [
    "We went over replacing data last week. There are actually a few ways to do this: \n",
    "   - `df.replace(to_replace=old_value, value=new_value)`"
   ]
  },
  {
   "cell_type": "code",
   "execution_count": 57,
   "metadata": {},
   "outputs": [],
   "source": [
    "## Warning: inplace=True will modify the original column!\n",
    "df_2012['FloorLevel'].replace('top floor', '5', inplace=True) \n",
    "df_2012['FloorLevel'].replace('bottom floor', '1', inplace=True) "
   ]
  },
  {
   "cell_type": "code",
   "execution_count": 58,
   "metadata": {},
   "outputs": [
    {
     "data": {
      "text/plain": [
       "array(['1', nan, '3', '4', '2', '5'], dtype=object)"
      ]
     },
     "execution_count": 58,
     "metadata": {},
     "output_type": "execute_result"
    }
   ],
   "source": [
    "# Let us check the data again: \n",
    "df_2012['FloorLevel'].unique()"
   ]
  },
  {
   "cell_type": "markdown",
   "metadata": {},
   "source": [
    "We can also use \n",
    "   - `df.loc[df['column_name'] == some_value, 'column_name'] = new_value`"
   ]
  },
  {
   "cell_type": "code",
   "execution_count": null,
   "metadata": {},
   "outputs": [],
   "source": [
    "# df_2012.loc[df_2012['FloorLevel'] == 'top floor','FloorLevel'] = 5"
   ]
  },
  {
   "cell_type": "markdown",
   "metadata": {},
   "source": [
    "### 1.4 Null values in pandas. \n",
    "\n",
    "There are two main ways to represent the absence of values in a cell in Pandas: \n",
    "- `None` means a missing entry, but it's not a numeric type. \n",
    "- `NaN` is used by Pandas for representing missing data in numeric columns.\n",
    "\n",
    "There are a few ways of handling missing data.\n"
   ]
  },
  {
   "cell_type": "markdown",
   "metadata": {},
   "source": [
    "### 1.4.1 Removing rows \n",
    "\n",
    "We can remove those rows with data missing from a column that we are planning to use in our analysis. \n",
    "\n",
    "Here we are going to use the `isna()` function to check if the `FloorLevel` column has a `NaN`\n",
    "   - `isna()` returns a boolean (True or False) for each row and we are going to use that boolean to filter the dataframe."
   ]
  },
  {
   "cell_type": "code",
   "execution_count": 59,
   "metadata": {},
   "outputs": [
    {
     "data": {
      "text/html": [
       "<div>\n",
       "<style scoped>\n",
       "    .dataframe tbody tr th:only-of-type {\n",
       "        vertical-align: middle;\n",
       "    }\n",
       "\n",
       "    .dataframe tbody tr th {\n",
       "        vertical-align: top;\n",
       "    }\n",
       "\n",
       "    .dataframe thead th {\n",
       "        text-align: right;\n",
       "    }\n",
       "</style>\n",
       "<table border=\"1\" class=\"dataframe\">\n",
       "  <thead>\n",
       "    <tr style=\"text-align: right;\">\n",
       "      <th></th>\n",
       "      <th>HouseID</th>\n",
       "      <th>CommunityID</th>\n",
       "      <th>TotalPrice</th>\n",
       "      <th>TransYear</th>\n",
       "      <th>Bedroom</th>\n",
       "      <th>Livingroom</th>\n",
       "      <th>Bathroom</th>\n",
       "      <th>Size</th>\n",
       "      <th>FloorLevel</th>\n",
       "      <th>WinSouth</th>\n",
       "      <th>...</th>\n",
       "      <th>XIAOQUWEB</th>\n",
       "      <th>SchQuality</th>\n",
       "      <th>NumSubway1km</th>\n",
       "      <th>Dist2Subway</th>\n",
       "      <th>HospQuality</th>\n",
       "      <th>Dist2Hosp</th>\n",
       "      <th>NumHosp1km</th>\n",
       "      <th>NumBus200m</th>\n",
       "      <th>Dist2CBD</th>\n",
       "      <th>Dist2Center</th>\n",
       "    </tr>\n",
       "  </thead>\n",
       "  <tbody>\n",
       "    <tr>\n",
       "      <th>1</th>\n",
       "      <td>BJCP84958845</td>\n",
       "      <td>2606</td>\n",
       "      <td>1800066.0</td>\n",
       "      <td>2012</td>\n",
       "      <td>3</td>\n",
       "      <td>2</td>\n",
       "      <td>2</td>\n",
       "      <td>129.0</td>\n",
       "      <td>NaN</td>\n",
       "      <td>0</td>\n",
       "      <td>...</td>\n",
       "      <td>https://bj.lianjia.com/xiaoqu/1111027380050/</td>\n",
       "      <td>0</td>\n",
       "      <td>0</td>\n",
       "      <td>2284.09390</td>\n",
       "      <td>9</td>\n",
       "      <td>9154.80958</td>\n",
       "      <td>0</td>\n",
       "      <td>0</td>\n",
       "      <td>18298.50637</td>\n",
       "      <td>18632.22305</td>\n",
       "    </tr>\n",
       "    <tr>\n",
       "      <th>5</th>\n",
       "      <td>BJFT85228189</td>\n",
       "      <td>2768</td>\n",
       "      <td>1280012.6</td>\n",
       "      <td>2012</td>\n",
       "      <td>1</td>\n",
       "      <td>1</td>\n",
       "      <td>1</td>\n",
       "      <td>46.1</td>\n",
       "      <td>NaN</td>\n",
       "      <td>1</td>\n",
       "      <td>...</td>\n",
       "      <td>https://bj.lianjia.com/xiaoqu/1111027380520/</td>\n",
       "      <td>0</td>\n",
       "      <td>0</td>\n",
       "      <td>1648.56576</td>\n",
       "      <td>8</td>\n",
       "      <td>1249.75505</td>\n",
       "      <td>0</td>\n",
       "      <td>1</td>\n",
       "      <td>16997.95563</td>\n",
       "      <td>11497.33703</td>\n",
       "    </tr>\n",
       "    <tr>\n",
       "      <th>14</th>\n",
       "      <td>BJHD84911905</td>\n",
       "      <td>948</td>\n",
       "      <td>1950030.0</td>\n",
       "      <td>2012</td>\n",
       "      <td>2</td>\n",
       "      <td>1</td>\n",
       "      <td>1</td>\n",
       "      <td>56.4</td>\n",
       "      <td>NaN</td>\n",
       "      <td>1</td>\n",
       "      <td>...</td>\n",
       "      <td>https://bj.lianjia.com/xiaoqu/1111027376013/</td>\n",
       "      <td>1</td>\n",
       "      <td>2</td>\n",
       "      <td>553.71836</td>\n",
       "      <td>9</td>\n",
       "      <td>606.02436</td>\n",
       "      <td>1</td>\n",
       "      <td>0</td>\n",
       "      <td>14631.09681</td>\n",
       "      <td>9240.23407</td>\n",
       "    </tr>\n",
       "  </tbody>\n",
       "</table>\n",
       "<p>3 rows × 31 columns</p>\n",
       "</div>"
      ],
      "text/plain": [
       "          HouseID  CommunityID  TotalPrice  TransYear  Bedroom  Livingroom  \\\n",
       "1   BJCP84958845          2606   1800066.0       2012        3           2   \n",
       "5   BJFT85228189          2768   1280012.6       2012        1           1   \n",
       "14  BJHD84911905           948   1950030.0       2012        2           1   \n",
       "\n",
       "    Bathroom   Size FloorLevel  WinSouth  ...  \\\n",
       "1          2  129.0        NaN         0  ...   \n",
       "5          1   46.1        NaN         1  ...   \n",
       "14         1   56.4        NaN         1  ...   \n",
       "\n",
       "                                       XIAOQUWEB  SchQuality  NumSubway1km  \\\n",
       "1   https://bj.lianjia.com/xiaoqu/1111027380050/           0             0   \n",
       "5   https://bj.lianjia.com/xiaoqu/1111027380520/           0             0   \n",
       "14  https://bj.lianjia.com/xiaoqu/1111027376013/           1             2   \n",
       "\n",
       "    Dist2Subway  HospQuality   Dist2Hosp  NumHosp1km  NumBus200m     Dist2CBD  \\\n",
       "1    2284.09390            9  9154.80958           0           0  18298.50637   \n",
       "5    1648.56576            8  1249.75505           0           1  16997.95563   \n",
       "14    553.71836            9   606.02436           1           0  14631.09681   \n",
       "\n",
       "    Dist2Center  \n",
       "1   18632.22305  \n",
       "5   11497.33703  \n",
       "14   9240.23407  \n",
       "\n",
       "[3 rows x 31 columns]"
      ]
     },
     "execution_count": 59,
     "metadata": {},
     "output_type": "execute_result"
    }
   ],
   "source": [
    "# check the rows with NaN in FloorLevel\n",
    "df_2012[df_2012['FloorLevel'].isna()==True]"
   ]
  },
  {
   "cell_type": "code",
   "execution_count": 60,
   "metadata": {},
   "outputs": [],
   "source": [
    "# We are going to keep only the rows where the data_year column is not a NaN\n",
    "df_2012 = df_2012[df_2012['FloorLevel'].isna()==False]"
   ]
  },
  {
   "cell_type": "markdown",
   "metadata": {},
   "source": [
    "### 1.4.2 Replacing missing data\n",
    "\n",
    "We can also replace the missing data with certain values: \n",
    "- We can replace the data with the mean of the non-NaN column values, for numerical values. (For instance, if our columns were something like \"adult heights\", then replacing the NaN with the mean values in the columns would allow us to leave the sample mean unchanged, which might be good for regression purposes). \n",
    "- We can also replace with the median (if you think there are outliers in the sample that might be skewing the mean)\n",
    "- Replacing with the mode (most frequent value) would make more sense if we think that there's some default value \n",
    "\n",
    "**What would you do here?**"
   ]
  },
  {
   "cell_type": "code",
   "execution_count": 61,
   "metadata": {},
   "outputs": [
    {
     "data": {
      "text/plain": [
       "0    3\n",
       "dtype: object"
      ]
     },
     "execution_count": 61,
     "metadata": {},
     "output_type": "execute_result"
    }
   ],
   "source": [
    "# This gets the mode of the data_year column\n",
    "mode_FloorLevel = df_2012['FloorLevel'].mode()\n",
    "mode_FloorLevel"
   ]
  },
  {
   "cell_type": "code",
   "execution_count": 62,
   "metadata": {},
   "outputs": [
    {
     "data": {
      "text/plain": [
       "0       1\n",
       "2       3\n",
       "3       3\n",
       "4       4\n",
       "6       2\n",
       "       ..\n",
       "4995    1\n",
       "4996    3\n",
       "4997    3\n",
       "4998    2\n",
       "4999    5\n",
       "Name: FloorLevel, Length: 4997, dtype: object"
      ]
     },
     "execution_count": 62,
     "metadata": {},
     "output_type": "execute_result"
    }
   ],
   "source": [
    "# This fills the NaNs with the mode using the fillna() function\n",
    "# fillna() is a method that fills in missing values with a value of your choice\n",
    "\n",
    "df_2012['FloorLevel'].fillna(mode_FloorLevel)"
   ]
  },
  {
   "cell_type": "code",
   "execution_count": 63,
   "metadata": {},
   "outputs": [],
   "source": [
    "# Now write over the old data_year column with the new one\n",
    "df_2012['FloorLevel'] = df_2012['FloorLevel'].fillna(mode_FloorLevel)"
   ]
  },
  {
   "cell_type": "markdown",
   "metadata": {},
   "source": [
    "Let us check the data type of the FloorLevel"
   ]
  },
  {
   "cell_type": "code",
   "execution_count": 64,
   "metadata": {},
   "outputs": [
    {
     "data": {
      "text/plain": [
       "HouseID           object\n",
       "CommunityID        int64\n",
       "TotalPrice       float64\n",
       "TransYear          int64\n",
       "Bedroom            int64\n",
       "Livingroom         int64\n",
       "Bathroom           int64\n",
       "Size             float64\n",
       "FloorLevel        object\n",
       "WinSouth           int64\n",
       "WinSouthNorth      int64\n",
       "Decoration         int64\n",
       "TotalFloor         int64\n",
       "BuiltYear          int64\n",
       "Elevation          int64\n",
       "Heating            int64\n",
       "TransMonth         int64\n",
       "TransDay           int64\n",
       "District           int64\n",
       "DistName          object\n",
       "CensusTract        int64\n",
       "XIAOQUWEB         object\n",
       "SchQuality         int64\n",
       "NumSubway1km       int64\n",
       "Dist2Subway      float64\n",
       "HospQuality        int64\n",
       "Dist2Hosp        float64\n",
       "NumHosp1km         int64\n",
       "NumBus200m         int64\n",
       "Dist2CBD         float64\n",
       "Dist2Center      float64\n",
       "dtype: object"
      ]
     },
     "execution_count": 64,
     "metadata": {},
     "output_type": "execute_result"
    }
   ],
   "source": [
    "df_2012.dtypes"
   ]
  },
  {
   "cell_type": "markdown",
   "metadata": {},
   "source": [
    "## 1.5 Changing data types\n",
    "Notice that we changed everything in \"FloorLevel\" to numbers, but it's still showing up as an `object`.  Now let's try to change the data type for `FloorLevel`. \n",
    "\n",
    "- `.astype()` changes your column types for a particular column. \n"
   ]
  },
  {
   "cell_type": "code",
   "execution_count": 65,
   "metadata": {},
   "outputs": [],
   "source": [
    "## What I've done here is replace the old `FloorLevel` column with \n",
    "## a version of it that is an int\n",
    "df_2012['FloorLevel'] = df_2012['FloorLevel'].astype(int)"
   ]
  },
  {
   "cell_type": "code",
   "execution_count": 75,
   "metadata": {},
   "outputs": [
    {
     "data": {
      "text/plain": [
       "HouseID           object\n",
       "CommunityID        int64\n",
       "TotalPrice       float64\n",
       "TransYear          int64\n",
       "Bedroom            int64\n",
       "Livingroom         int64\n",
       "Bathroom           int64\n",
       "Size             float64\n",
       "FloorLevel         int32\n",
       "WinSouth           int64\n",
       "WinSouthNorth      int64\n",
       "Decoration         int64\n",
       "TotalFloor         int64\n",
       "BuiltYear          int64\n",
       "Elevation          int64\n",
       "Heating            int64\n",
       "TransMonth         int64\n",
       "TransDay           int64\n",
       "District           int64\n",
       "DistName          object\n",
       "CensusTract        int64\n",
       "XIAOQUWEB         object\n",
       "SchQuality         int64\n",
       "NumSubway1km       int64\n",
       "Dist2Subway      float64\n",
       "HospQuality        int64\n",
       "Dist2Hosp        float64\n",
       "NumHosp1km         int64\n",
       "NumBus200m         int64\n",
       "Dist2CBD         float64\n",
       "Dist2Center      float64\n",
       "UnitPrice        float64\n",
       "dtype: object"
      ]
     },
     "execution_count": 75,
     "metadata": {},
     "output_type": "execute_result"
    }
   ],
   "source": [
    "df_2012.dtypes"
   ]
  },
  {
   "cell_type": "code",
   "execution_count": 78,
   "metadata": {},
   "outputs": [
    {
     "data": {
      "text/html": [
       "<div>\n",
       "<style scoped>\n",
       "    .dataframe tbody tr th:only-of-type {\n",
       "        vertical-align: middle;\n",
       "    }\n",
       "\n",
       "    .dataframe tbody tr th {\n",
       "        vertical-align: top;\n",
       "    }\n",
       "\n",
       "    .dataframe thead th {\n",
       "        text-align: right;\n",
       "    }\n",
       "</style>\n",
       "<table border=\"1\" class=\"dataframe\">\n",
       "  <thead>\n",
       "    <tr style=\"text-align: right;\">\n",
       "      <th></th>\n",
       "      <th>HouseID</th>\n",
       "      <th>CommunityID</th>\n",
       "      <th>TotalPrice</th>\n",
       "      <th>TransYear</th>\n",
       "      <th>Bedroom</th>\n",
       "      <th>Livingroom</th>\n",
       "      <th>Bathroom</th>\n",
       "      <th>Size</th>\n",
       "      <th>FloorLevel</th>\n",
       "      <th>WinSouth</th>\n",
       "      <th>...</th>\n",
       "      <th>SchQuality</th>\n",
       "      <th>NumSubway1km</th>\n",
       "      <th>Dist2Subway</th>\n",
       "      <th>HospQuality</th>\n",
       "      <th>Dist2Hosp</th>\n",
       "      <th>NumHosp1km</th>\n",
       "      <th>NumBus200m</th>\n",
       "      <th>Dist2CBD</th>\n",
       "      <th>Dist2Center</th>\n",
       "      <th>UnitPrice</th>\n",
       "    </tr>\n",
       "  </thead>\n",
       "  <tbody>\n",
       "    <tr>\n",
       "      <th>0</th>\n",
       "      <td>BJFT84326414</td>\n",
       "      <td>1544</td>\n",
       "      <td>1400010.56</td>\n",
       "      <td>2012</td>\n",
       "      <td>2</td>\n",
       "      <td>1</td>\n",
       "      <td>1</td>\n",
       "      <td>69.68</td>\n",
       "      <td>1</td>\n",
       "      <td>0</td>\n",
       "      <td>...</td>\n",
       "      <td>0</td>\n",
       "      <td>2</td>\n",
       "      <td>633.24007</td>\n",
       "      <td>9</td>\n",
       "      <td>1803.02071</td>\n",
       "      <td>0</td>\n",
       "      <td>1</td>\n",
       "      <td>9345.20091</td>\n",
       "      <td>7396.31505</td>\n",
       "      <td>20092.0</td>\n",
       "    </tr>\n",
       "    <tr>\n",
       "      <th>2</th>\n",
       "      <td>BJDX84905788</td>\n",
       "      <td>2264</td>\n",
       "      <td>1350038.34</td>\n",
       "      <td>2012</td>\n",
       "      <td>2</td>\n",
       "      <td>1</td>\n",
       "      <td>1</td>\n",
       "      <td>88.83</td>\n",
       "      <td>3</td>\n",
       "      <td>1</td>\n",
       "      <td>...</td>\n",
       "      <td>0</td>\n",
       "      <td>1</td>\n",
       "      <td>667.21572</td>\n",
       "      <td>8</td>\n",
       "      <td>11158.05983</td>\n",
       "      <td>0</td>\n",
       "      <td>4</td>\n",
       "      <td>22480.82065</td>\n",
       "      <td>20105.06770</td>\n",
       "      <td>15198.0</td>\n",
       "    </tr>\n",
       "    <tr>\n",
       "      <th>3</th>\n",
       "      <td>BJFT00386624</td>\n",
       "      <td>3621</td>\n",
       "      <td>1800006.91</td>\n",
       "      <td>2012</td>\n",
       "      <td>2</td>\n",
       "      <td>1</td>\n",
       "      <td>1</td>\n",
       "      <td>98.69</td>\n",
       "      <td>3</td>\n",
       "      <td>0</td>\n",
       "      <td>...</td>\n",
       "      <td>0</td>\n",
       "      <td>1</td>\n",
       "      <td>939.29061</td>\n",
       "      <td>9</td>\n",
       "      <td>1698.79101</td>\n",
       "      <td>0</td>\n",
       "      <td>10</td>\n",
       "      <td>16309.85203</td>\n",
       "      <td>11427.48851</td>\n",
       "      <td>18239.0</td>\n",
       "    </tr>\n",
       "    <tr>\n",
       "      <th>4</th>\n",
       "      <td>BJCY84713854</td>\n",
       "      <td>1127</td>\n",
       "      <td>1970019.58</td>\n",
       "      <td>2012</td>\n",
       "      <td>1</td>\n",
       "      <td>1</td>\n",
       "      <td>1</td>\n",
       "      <td>53.66</td>\n",
       "      <td>4</td>\n",
       "      <td>0</td>\n",
       "      <td>...</td>\n",
       "      <td>0</td>\n",
       "      <td>3</td>\n",
       "      <td>476.28267</td>\n",
       "      <td>9</td>\n",
       "      <td>938.35742</td>\n",
       "      <td>2</td>\n",
       "      <td>0</td>\n",
       "      <td>8105.90581</td>\n",
       "      <td>7213.87518</td>\n",
       "      <td>36713.0</td>\n",
       "    </tr>\n",
       "    <tr>\n",
       "      <th>6</th>\n",
       "      <td>BJCY84112518</td>\n",
       "      <td>2767</td>\n",
       "      <td>2730093.60</td>\n",
       "      <td>2012</td>\n",
       "      <td>3</td>\n",
       "      <td>2</td>\n",
       "      <td>2</td>\n",
       "      <td>132.08</td>\n",
       "      <td>2</td>\n",
       "      <td>1</td>\n",
       "      <td>...</td>\n",
       "      <td>0</td>\n",
       "      <td>1</td>\n",
       "      <td>692.53062</td>\n",
       "      <td>9</td>\n",
       "      <td>5122.56097</td>\n",
       "      <td>0</td>\n",
       "      <td>0</td>\n",
       "      <td>11524.68492</td>\n",
       "      <td>16967.87510</td>\n",
       "      <td>20670.0</td>\n",
       "    </tr>\n",
       "    <tr>\n",
       "      <th>...</th>\n",
       "      <td>...</td>\n",
       "      <td>...</td>\n",
       "      <td>...</td>\n",
       "      <td>...</td>\n",
       "      <td>...</td>\n",
       "      <td>...</td>\n",
       "      <td>...</td>\n",
       "      <td>...</td>\n",
       "      <td>...</td>\n",
       "      <td>...</td>\n",
       "      <td>...</td>\n",
       "      <td>...</td>\n",
       "      <td>...</td>\n",
       "      <td>...</td>\n",
       "      <td>...</td>\n",
       "      <td>...</td>\n",
       "      <td>...</td>\n",
       "      <td>...</td>\n",
       "      <td>...</td>\n",
       "      <td>...</td>\n",
       "      <td>...</td>\n",
       "    </tr>\n",
       "    <tr>\n",
       "      <th>4995</th>\n",
       "      <td>BJTJ84718789</td>\n",
       "      <td>3360</td>\n",
       "      <td>1030038.24</td>\n",
       "      <td>2012</td>\n",
       "      <td>2</td>\n",
       "      <td>1</td>\n",
       "      <td>1</td>\n",
       "      <td>81.84</td>\n",
       "      <td>1</td>\n",
       "      <td>1</td>\n",
       "      <td>...</td>\n",
       "      <td>0</td>\n",
       "      <td>0</td>\n",
       "      <td>1669.04965</td>\n",
       "      <td>9</td>\n",
       "      <td>948.21718</td>\n",
       "      <td>1</td>\n",
       "      <td>0</td>\n",
       "      <td>15849.26185</td>\n",
       "      <td>21363.35490</td>\n",
       "      <td>12586.0</td>\n",
       "    </tr>\n",
       "    <tr>\n",
       "      <th>4996</th>\n",
       "      <td>BJFT84287006</td>\n",
       "      <td>736</td>\n",
       "      <td>1300028.16</td>\n",
       "      <td>2012</td>\n",
       "      <td>1</td>\n",
       "      <td>1</td>\n",
       "      <td>1</td>\n",
       "      <td>58.12</td>\n",
       "      <td>3</td>\n",
       "      <td>1</td>\n",
       "      <td>...</td>\n",
       "      <td>0</td>\n",
       "      <td>1</td>\n",
       "      <td>770.89444</td>\n",
       "      <td>9</td>\n",
       "      <td>777.47225</td>\n",
       "      <td>1</td>\n",
       "      <td>1</td>\n",
       "      <td>6221.44255</td>\n",
       "      <td>6278.89885</td>\n",
       "      <td>22368.0</td>\n",
       "    </tr>\n",
       "    <tr>\n",
       "      <th>4997</th>\n",
       "      <td>BJDC84781079</td>\n",
       "      <td>200</td>\n",
       "      <td>2190056.96</td>\n",
       "      <td>2012</td>\n",
       "      <td>2</td>\n",
       "      <td>1</td>\n",
       "      <td>1</td>\n",
       "      <td>58.24</td>\n",
       "      <td>3</td>\n",
       "      <td>1</td>\n",
       "      <td>...</td>\n",
       "      <td>2</td>\n",
       "      <td>1</td>\n",
       "      <td>715.50723</td>\n",
       "      <td>9</td>\n",
       "      <td>2053.92372</td>\n",
       "      <td>0</td>\n",
       "      <td>0</td>\n",
       "      <td>3779.07141</td>\n",
       "      <td>3505.28158</td>\n",
       "      <td>37604.0</td>\n",
       "    </tr>\n",
       "    <tr>\n",
       "      <th>4998</th>\n",
       "      <td>BJSJ85075781</td>\n",
       "      <td>2133</td>\n",
       "      <td>1500007.54</td>\n",
       "      <td>2012</td>\n",
       "      <td>1</td>\n",
       "      <td>1</td>\n",
       "      <td>1</td>\n",
       "      <td>63.86</td>\n",
       "      <td>2</td>\n",
       "      <td>1</td>\n",
       "      <td>...</td>\n",
       "      <td>0</td>\n",
       "      <td>1</td>\n",
       "      <td>863.10517</td>\n",
       "      <td>9</td>\n",
       "      <td>413.21398</td>\n",
       "      <td>2</td>\n",
       "      <td>2</td>\n",
       "      <td>21094.05154</td>\n",
       "      <td>15576.85068</td>\n",
       "      <td>23489.0</td>\n",
       "    </tr>\n",
       "    <tr>\n",
       "      <th>4999</th>\n",
       "      <td>BJCY84949599</td>\n",
       "      <td>430</td>\n",
       "      <td>1840034.60</td>\n",
       "      <td>2012</td>\n",
       "      <td>2</td>\n",
       "      <td>1</td>\n",
       "      <td>1</td>\n",
       "      <td>55.19</td>\n",
       "      <td>5</td>\n",
       "      <td>1</td>\n",
       "      <td>...</td>\n",
       "      <td>0</td>\n",
       "      <td>2</td>\n",
       "      <td>543.00065</td>\n",
       "      <td>7</td>\n",
       "      <td>522.73335</td>\n",
       "      <td>1</td>\n",
       "      <td>2</td>\n",
       "      <td>6672.24055</td>\n",
       "      <td>7184.44822</td>\n",
       "      <td>33340.0</td>\n",
       "    </tr>\n",
       "  </tbody>\n",
       "</table>\n",
       "<p>4997 rows × 32 columns</p>\n",
       "</div>"
      ],
      "text/plain": [
       "            HouseID  CommunityID  TotalPrice  TransYear  Bedroom  Livingroom  \\\n",
       "0     BJFT84326414          1544  1400010.56       2012        2           1   \n",
       "2     BJDX84905788          2264  1350038.34       2012        2           1   \n",
       "3     BJFT00386624          3621  1800006.91       2012        2           1   \n",
       "4     BJCY84713854          1127  1970019.58       2012        1           1   \n",
       "6     BJCY84112518          2767  2730093.60       2012        3           2   \n",
       "...             ...          ...         ...        ...      ...         ...   \n",
       "4995  BJTJ84718789          3360  1030038.24       2012        2           1   \n",
       "4996  BJFT84287006           736  1300028.16       2012        1           1   \n",
       "4997  BJDC84781079           200  2190056.96       2012        2           1   \n",
       "4998  BJSJ85075781          2133  1500007.54       2012        1           1   \n",
       "4999  BJCY84949599           430  1840034.60       2012        2           1   \n",
       "\n",
       "      Bathroom    Size  FloorLevel  WinSouth  ...  SchQuality  NumSubway1km  \\\n",
       "0            1   69.68           1         0  ...           0             2   \n",
       "2            1   88.83           3         1  ...           0             1   \n",
       "3            1   98.69           3         0  ...           0             1   \n",
       "4            1   53.66           4         0  ...           0             3   \n",
       "6            2  132.08           2         1  ...           0             1   \n",
       "...        ...     ...         ...       ...  ...         ...           ...   \n",
       "4995         1   81.84           1         1  ...           0             0   \n",
       "4996         1   58.12           3         1  ...           0             1   \n",
       "4997         1   58.24           3         1  ...           2             1   \n",
       "4998         1   63.86           2         1  ...           0             1   \n",
       "4999         1   55.19           5         1  ...           0             2   \n",
       "\n",
       "      Dist2Subway  HospQuality    Dist2Hosp  NumHosp1km  NumBus200m  \\\n",
       "0       633.24007            9   1803.02071           0           1   \n",
       "2       667.21572            8  11158.05983           0           4   \n",
       "3       939.29061            9   1698.79101           0          10   \n",
       "4       476.28267            9    938.35742           2           0   \n",
       "6       692.53062            9   5122.56097           0           0   \n",
       "...           ...          ...          ...         ...         ...   \n",
       "4995   1669.04965            9    948.21718           1           0   \n",
       "4996    770.89444            9    777.47225           1           1   \n",
       "4997    715.50723            9   2053.92372           0           0   \n",
       "4998    863.10517            9    413.21398           2           2   \n",
       "4999    543.00065            7    522.73335           1           2   \n",
       "\n",
       "         Dist2CBD  Dist2Center UnitPrice  \n",
       "0      9345.20091   7396.31505   20092.0  \n",
       "2     22480.82065  20105.06770   15198.0  \n",
       "3     16309.85203  11427.48851   18239.0  \n",
       "4      8105.90581   7213.87518   36713.0  \n",
       "6     11524.68492  16967.87510   20670.0  \n",
       "...           ...          ...       ...  \n",
       "4995  15849.26185  21363.35490   12586.0  \n",
       "4996   6221.44255   6278.89885   22368.0  \n",
       "4997   3779.07141   3505.28158   37604.0  \n",
       "4998  21094.05154  15576.85068   23489.0  \n",
       "4999   6672.24055   7184.44822   33340.0  \n",
       "\n",
       "[4997 rows x 32 columns]"
      ]
     },
     "execution_count": 78,
     "metadata": {},
     "output_type": "execute_result"
    }
   ],
   "source": [
    "df_2012"
   ]
  },
  {
   "cell_type": "code",
   "execution_count": 79,
   "metadata": {},
   "outputs": [],
   "source": [
    "# Export the dataset\n",
    "df_2012.to_excel(\"E:/CRP_3850_summer2024/Week1_3_DataManagement/HouseBeijing2012_clean.xlsx\")"
   ]
  },
  {
   "cell_type": "markdown",
   "metadata": {},
   "source": [
    "## 1.6 Does relative floor level matter?"
   ]
  },
  {
   "cell_type": "code",
   "execution_count": 68,
   "metadata": {},
   "outputs": [],
   "source": [
    "# First calculate the UnitPrice. UnitPrice = TotalPrice/Size\n",
    "df_2012[\"UnitPrice\"] = df_2012[\"TotalPrice\"] / df_2012[\"Size\"]"
   ]
  },
  {
   "cell_type": "code",
   "execution_count": 69,
   "metadata": {},
   "outputs": [
    {
     "data": {
      "text/html": [
       "<div>\n",
       "<style scoped>\n",
       "    .dataframe tbody tr th:only-of-type {\n",
       "        vertical-align: middle;\n",
       "    }\n",
       "\n",
       "    .dataframe tbody tr th {\n",
       "        vertical-align: top;\n",
       "    }\n",
       "\n",
       "    .dataframe thead th {\n",
       "        text-align: right;\n",
       "    }\n",
       "</style>\n",
       "<table border=\"1\" class=\"dataframe\">\n",
       "  <thead>\n",
       "    <tr style=\"text-align: right;\">\n",
       "      <th></th>\n",
       "      <th>UnitPrice</th>\n",
       "    </tr>\n",
       "    <tr>\n",
       "      <th>FloorLevel</th>\n",
       "      <th></th>\n",
       "    </tr>\n",
       "  </thead>\n",
       "  <tbody>\n",
       "    <tr>\n",
       "      <th>1</th>\n",
       "      <td>25564.284916</td>\n",
       "    </tr>\n",
       "    <tr>\n",
       "      <th>2</th>\n",
       "      <td>25485.943044</td>\n",
       "    </tr>\n",
       "    <tr>\n",
       "      <th>3</th>\n",
       "      <td>24902.871669</td>\n",
       "    </tr>\n",
       "    <tr>\n",
       "      <th>4</th>\n",
       "      <td>24908.994732</td>\n",
       "    </tr>\n",
       "    <tr>\n",
       "      <th>5</th>\n",
       "      <td>23542.227119</td>\n",
       "    </tr>\n",
       "  </tbody>\n",
       "</table>\n",
       "</div>"
      ],
      "text/plain": [
       "               UnitPrice\n",
       "FloorLevel              \n",
       "1           25564.284916\n",
       "2           25485.943044\n",
       "3           24902.871669\n",
       "4           24908.994732\n",
       "5           23542.227119"
      ]
     },
     "execution_count": 69,
     "metadata": {},
     "output_type": "execute_result"
    }
   ],
   "source": [
    "df_2012.groupby(\"FloorLevel\").mean()[[\"UnitPrice\"]]"
   ]
  },
  {
   "cell_type": "code",
   "execution_count": 70,
   "metadata": {},
   "outputs": [
    {
     "data": {
      "text/plain": [
       "Index(['HouseID', 'CommunityID', 'TotalPrice', 'TransYear', 'Bedroom',\n",
       "       'Livingroom', 'Bathroom', 'Size', 'FloorLevel', 'WinSouth',\n",
       "       'WinSouthNorth', 'Decoration', 'TotalFloor', 'BuiltYear', 'Elevation',\n",
       "       'Heating', 'TransMonth', 'TransDay', 'District', 'DistName',\n",
       "       'CensusTract', 'XIAOQUWEB', 'SchQuality', 'NumSubway1km', 'Dist2Subway',\n",
       "       'HospQuality', 'Dist2Hosp', 'NumHosp1km', 'NumBus200m', 'Dist2CBD',\n",
       "       'Dist2Center', 'UnitPrice'],\n",
       "      dtype='object')"
      ]
     },
     "execution_count": 70,
     "metadata": {},
     "output_type": "execute_result"
    }
   ],
   "source": [
    "df_2012.columns"
   ]
  },
  {
   "cell_type": "code",
   "execution_count": 73,
   "metadata": {},
   "outputs": [
    {
     "data": {
      "text/html": [
       "<div>\n",
       "<style scoped>\n",
       "    .dataframe tbody tr th:only-of-type {\n",
       "        vertical-align: middle;\n",
       "    }\n",
       "\n",
       "    .dataframe tbody tr th {\n",
       "        vertical-align: top;\n",
       "    }\n",
       "\n",
       "    .dataframe thead th {\n",
       "        text-align: right;\n",
       "    }\n",
       "</style>\n",
       "<table border=\"1\" class=\"dataframe\">\n",
       "  <thead>\n",
       "    <tr style=\"text-align: right;\">\n",
       "      <th></th>\n",
       "      <th>UnitPrice</th>\n",
       "    </tr>\n",
       "    <tr>\n",
       "      <th>FloorLevel</th>\n",
       "      <th></th>\n",
       "    </tr>\n",
       "  </thead>\n",
       "  <tbody>\n",
       "    <tr>\n",
       "      <th>1</th>\n",
       "      <td>25564.284916</td>\n",
       "    </tr>\n",
       "    <tr>\n",
       "      <th>2</th>\n",
       "      <td>25485.943044</td>\n",
       "    </tr>\n",
       "    <tr>\n",
       "      <th>3</th>\n",
       "      <td>24902.871669</td>\n",
       "    </tr>\n",
       "    <tr>\n",
       "      <th>4</th>\n",
       "      <td>24908.994732</td>\n",
       "    </tr>\n",
       "    <tr>\n",
       "      <th>5</th>\n",
       "      <td>23542.227119</td>\n",
       "    </tr>\n",
       "  </tbody>\n",
       "</table>\n",
       "</div>"
      ],
      "text/plain": [
       "               UnitPrice\n",
       "FloorLevel              \n",
       "1           25564.284916\n",
       "2           25485.943044\n",
       "3           24902.871669\n",
       "4           24908.994732\n",
       "5           23542.227119"
      ]
     },
     "execution_count": 73,
     "metadata": {},
     "output_type": "execute_result"
    }
   ],
   "source": [
    "df_2012.groupby(\"FloorLevel\").mean()[[\"UnitPrice\"]]"
   ]
  },
  {
   "cell_type": "code",
   "execution_count": null,
   "metadata": {},
   "outputs": [],
   "source": []
  }
 ],
 "metadata": {
  "kernelspec": {
   "display_name": "Python 3",
   "language": "python",
   "name": "python3"
  },
  "language_info": {
   "codemirror_mode": {
    "name": "ipython",
    "version": 3
   },
   "file_extension": ".py",
   "mimetype": "text/x-python",
   "name": "python",
   "nbconvert_exporter": "python",
   "pygments_lexer": "ipython3",
   "version": "3.7.9"
  }
 },
 "nbformat": 4,
 "nbformat_minor": 4
}
