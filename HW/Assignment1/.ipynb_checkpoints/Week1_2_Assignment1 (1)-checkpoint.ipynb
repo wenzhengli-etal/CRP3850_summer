{
 "cells": [
  {
   "cell_type": "markdown",
   "metadata": {},
   "source": [
    "Please submit both the .ipynb file and the .html file. Name your homework NETID_lab#.\n",
    "\n",
    "**Assignment due: 11:59pm, June 6th** <br>\n",
    "**Total points: 75**"
   ]
  },
  {
   "cell_type": "markdown",
   "metadata": {},
   "source": [
    "**Question 1 (5 pt)**<br> \n",
    "Discuss the similarities and differences between the list `[1,2,3.14]` and list `[1,\"2\",\"3.14\"]`"
   ]
  },
  {
   "cell_type": "code",
   "execution_count": 2,
   "metadata": {},
   "outputs": [],
   "source": [
    "#The first list contains elements that are numerical values only, being 1, 2, and 3.14 respectively\n",
    "#The second list contains one element that is a value, 1, and the latter two are strings of characters, not numbers"
   ]
  },
  {
   "cell_type": "markdown",
   "metadata": {},
   "source": [
    "**Question 2 (10 pt)**<br>\n",
    "\n",
    "Print out the results based on the following requirements: \n",
    "- (1) the result and data type of 15 divided by 4.\n",
    "- (2) round the result of (1) to the nearest integer.\n",
    "- (3) print out the remainder of 15/4\n",
    "- (4) convert the result of 15/4 to integer\n",
    "- (5) convert the result of 15/4 to string"
   ]
  },
  {
   "cell_type": "code",
   "execution_count": 14,
   "metadata": {},
   "outputs": [
    {
     "name": "stdout",
     "output_type": "stream",
     "text": [
      "3.75\n",
      "4\n",
      "3\n",
      "3\n",
      "3.75\n"
     ]
    }
   ],
   "source": [
    "print(15/4)\n",
    "print(round(15/4))\n",
    "print(15//4)\n",
    "print(int(15/4))\n",
    "print(str(15/4))"
   ]
  },
  {
   "cell_type": "markdown",
   "metadata": {},
   "source": [
    "**Question 3 (15 pt)**<br>\n",
    "\n",
    "```python\n",
    "lst_1 = [2, 3, 56, \"73\", 84, \"a\", [34, \"b\"], [23, [89, \"c\", 23]], 82]\n",
    "lst_2 = [2, 3, 56, 73, 84, 34, 9, 23, 82]\n",
    "```\n",
    "\n",
    "Select an element or a subset of elements in the above lists based on the following requirements: \n",
    "\n",
    "- (1) the 4th element (\"73\") of the lst_1 and the corresponding data type \n",
    "- (2) the first 5 elements of the lst_1\n",
    "- (3) the last 2 elements of the lst_1\n",
    "- (4) the element \"c\" in the lst_1\n",
    "- (5) get the index of element \"a\" in the lst_1\n",
    "- (6) insert a new element 80 at the position between \"73\" and 84 in the lst_1. **hint:** using the method .insert( )\n",
    "- (7) sort the lst_2 in the descending order. Can you sort the lst_1? If not, Why?\n",
    "- (8) **(Optional)** sort the lst_2 using **.sort( )** and **sorted( )**. Note that we do not discuss the sorted( ) function in class, so google it and learn how to use it by yourself. \n",
    "- (9) **(Optional)** remove the same element from the lst_2 using **lst_2.remove( )**,  **del lst_2[ ]**, **lst_2.pop( )**, respectively. Discuss the differences between them. "
   ]
  },
  {
   "cell_type": "code",
   "execution_count": 57,
   "metadata": {},
   "outputs": [
    {
     "name": "stdout",
     "output_type": "stream",
     "text": [
      "73\n",
      "[2, 3, 56, '73', 84]\n",
      "[23, [89, 'c', 23]]\n",
      "c\n",
      "5\n",
      "[84, 82, 73, 56, 34, 23, 9, 3, 2]\n",
      "[2, 3, 56, 84, 34, 9, 23, 82]\n",
      "[2, 3, 56, 84, 34, 9, 23, 82]\n",
      "[2, 3, 56, 84, 34, 9, 23, 82]\n",
      "73\n"
     ]
    }
   ],
   "source": [
    "lst_1 = [2, 3, 56, \"73\", 84, \"a\", [34, \"b\"], [23, [89, \"c\", 23]], 82]\n",
    "lst_2 = [2, 3, 56, 73, 84, 34, 9, 23, 82]\n",
    "print(lst_1[3])\n",
    "print(lst_1[:5])\n",
    "print(lst_1[-2])\n",
    "print(lst_1[7][1][1])\n",
    "print(lst_1.index(\"a\"))\n",
    "lst_1.insert(4,80)\n",
    "lst_2.sort(reverse=True)\n",
    "# You cannot sort list 2 correctly as there are strings and lists within it\n",
    "sorted_lst2 = sorted(lst_2)\n",
    "# Sorted creates a new list while sort edits list given\n",
    "# Part 9 list removing\n",
    "print(lst_2)\n",
    "# Duplicating list to remove same item 3 times\n",
    "lst_21 = [2, 3, 56, 73, 84, 34, 9, 23, 82]\n",
    "lst_22 = [2, 3, 56, 73, 84, 34, 9, 23, 82]\n",
    "lst_23 = [2, 3, 56, 73, 84, 34, 9, 23, 82]\n",
    "# Going to remove the item 73\n",
    "# Using remove method\n",
    "lst_21.remove(73)\n",
    "print(lst_21)\n",
    "# Using delete method\n",
    "del lst_22[lst_22.index(73)]\n",
    "print(lst_22)\n",
    "#Using pop method\n",
    "a = lst_23.pop(lst_23.index(73))\n",
    "print(lst_23)\n",
    "print(a)\n",
    "# Remove method uses value to delte, delete method uses index to delete, and the pop method uses index but allows storage of popped value"
   ]
  },
  {
   "cell_type": "markdown",
   "metadata": {},
   "source": [
    "**Question 4 (10 pt)**<br>\n",
    "\n",
    "- (1) defining a list with values ranges from 500 to 1000\n",
    "- (2) sum up all the elements in the list using for-loop\n",
    "- (3) print out all the even numbers and sum them up using for loop.\n"
   ]
  },
  {
   "cell_type": "code",
   "execution_count": 63,
   "metadata": {},
   "outputs": [
    {
     "name": "stdout",
     "output_type": "stream",
     "text": [
      "375750\n"
     ]
    }
   ],
   "source": [
    "lst_1 = list(range(500, 1001))\n",
    "total = 0\n",
    "for x in lst_1:\n",
    "   total = total + x\n",
    "print(total)"
   ]
  },
  {
   "cell_type": "markdown",
   "metadata": {},
   "source": [
    "**Question 5 (10 pt)**<br>\n",
    "\n",
    "Let us assume you are exploring the effects of air pollution on the spread of COVID-19. You measure the air pollution through two ways&mdash;the daily PM2.5 concentration obtained from the ground monitoring stations, and the daily aerosol optical depth (AOD) retrieved from satellite imagery. Now you have the following list that stores the ways of measure and the corresponding date（YearMonthDay). However, the different measures of air quality are mixed up.\n",
    "\n",
    "```python\n",
    "lst_mixed = [\"PM25_20141205\", \"AOD_20141205\", \"AOD_20140101\", \"AOD_20140218\", \"PM25_20140101\", \"PM25_20140218\"]\n",
    "```\n",
    "\n",
    "- (1) create two lists &mdash; lst_PM25 and lst_AOD that store the strings of PM2.5 and AOD, respectively. Think about which function can be used here? You should use some built-in functions of string and for loop, instead of typing the elements one by one. (**hint**: you can use *.startswith()* and *.append()*)\n",
    "\n",
    "- (2) get rid of the prefix \"PM25_\" and \"AOD_\" for each element in both lists."
   ]
  },
  {
   "cell_type": "code",
   "execution_count": 81,
   "metadata": {},
   "outputs": [
    {
     "name": "stdout",
     "output_type": "stream",
     "text": [
      "['20141205', '20140101', '20140218']\n",
      "['20141205', '20140101', '20140218']\n"
     ]
    }
   ],
   "source": [
    "lst_mixed = [\"PM25_20141205\", \"AOD_20141205\", \"AOD_20140101\", \"AOD_20140218\", \"PM25_20140101\", \"PM25_20140218\"]\n",
    "lst_PM25 = []\n",
    "lst_AOD = []\n",
    "for x in lst_mixed:\n",
    "    str1 = str(x)\n",
    "    if str1.startswith(\"PM25_\"):\n",
    "        str1 = str1[5:]\n",
    "        lst_PM25.append(str1)\n",
    "    if str1.startswith(\"AOD_\"):\n",
    "        str1 = str1[4:]\n",
    "        lst_AOD.append(str1)\n",
    "print(lst_PM25)\n",
    "print(lst_AOD)"
   ]
  },
  {
   "cell_type": "markdown",
   "metadata": {},
   "source": [
    "**Question 6 (15 pt)**\n",
    "\n",
    "Let us assume you have two lists that store the name of students and their grade in final exam. \n",
    "\n",
    "```python\n",
    "lst_1 = [\"student1\", 73, \"student2\", 84, \"student3\", 65]\n",
    "lst_2 = [\"student4\", 92, \"student5\", 89, \"student6\", 25]\n",
    "```\n",
    "- (1) Combine the two lists into one list. The new list should adopt the same structure, namely [\"student1\", grade1, ..., \"student6\", grade6].\n",
    "\n",
    "\n",
    "- (2) After you finishing the task, you suddenly find there is a student left out becasue he/she handed in the final exam late. You deicide to append his/her name and grade to the combined list. Please print out the new combined list with the new student included. You can decide the student's name and the grade.\n",
    "    \n",
    "- (3) Now you have to convert the numeric grade to the letter grade based on the following criterion: \n",
    "\n",
    "    A = [100,90] <br>\n",
    "    B = [89,80]  <br>\n",
    "    C = [79,70]  <br>\n",
    "    D = [69,60]  <br>\n",
    "    F = [<60]    <br>\n",
    "    \n",
    "    your final list should look something like: [\"student1\", \"C\", \"student2\", \"B\", ..., ]. Please do this change, and print out the new list <br> "
   ]
  },
  {
   "cell_type": "code",
   "execution_count": 111,
   "metadata": {},
   "outputs": [
    {
     "name": "stdout",
     "output_type": "stream",
     "text": [
      "['student1', 'F', 'student2', 'F', 'student3', 'F', 'student4', 'A', 'student5', 'F', 'student6', 'F', 'student7', 'F']\n"
     ]
    }
   ],
   "source": [
    "lst_1 = [\"student1\", 73, \"student2\", 84, \"student3\", 65]\n",
    "lst_2 = [\"student4\", 92, \"student5\", 89, \"student6\", 25]\n",
    "lst_3 = lst_1 + lst_2\n",
    "lst_3.append(\"student7\")\n",
    "lst_3.append(88)\n",
    "for x in range(len(lst_3)):\n",
    "    if type(lst_3[x]) == int:\n",
    "        if lst_3[x] > 90:\n",
    "            lst_3[x] = 'A'\n",
    "        elif lst_3[x] < 90 and x >= 80:\n",
    "            lst_3[x] = 'B'\n",
    "        elif lst_3[x] < 80 and x >= 70:\n",
    "            lst_3[x] = 'C'\n",
    "        elif lst_3[x] < 70 and x >= 60:\n",
    "            lst_3[x] = 'D'\n",
    "        else:\n",
    "            lst_3[x] = 'F'\n",
    "print(lst_3)"
   ]
  },
  {
   "cell_type": "markdown",
   "metadata": {},
   "source": [
    "**Question 7 (10 pt)** \n",
    "\n",
    "(1) Please design a function to calculate the Body Mass Index (BMI) based on a person's weight (in kilograms) and height (in meters).\n",
    "\n",
    "(**Optional**) (2) Please design a function to calculate the Body Mass Index (BMI) and categorizes the BMI into appropriate categories.\n",
    "- function (1) calculates the Body Mass Index (BMI) based on a person's weight (in kilograms) and height (in meters).\n",
    "- function (2) takes the calculated BMI in the first step as a parameter and returns the BMI category based on the following ranges:\n",
    "    - Underweight: BMI < 18.5\n",
    "    - Normal weight: 18.5 ≤ BMI < 24.9\n",
    "    - Overweight: 25 ≤ BMI < 29.9\n",
    "    - Obesity: BMI ≥ 30\n",
    "\n",
    "The Body Mass Index (BMI) is calculated using the following formula:\n",
    "\n",
    "$\\text{BMI} = \\frac{\\text{weight}}{\\text{height}^2}$\n",
    "\n",
    "Where:\n",
    "- $\\text{weight}$ is the person's weight in kilograms.\n",
    "- $\\text{height}$ is the person's height in meters."
   ]
  },
  {
   "cell_type": "code",
   "execution_count": 1,
   "metadata": {},
   "outputs": [],
   "source": [
    "def calc(w, h):\n",
    "    bmi = w/(h*h)\n",
    "    if bmi < 18.5:\n",
    "        return \"Underweight\"\n",
    "    elif 18.5 <= bmi < 24.9:\n",
    "        return \"Normal weight\"\n",
    "    elif 25 <= bmi < 29.9:\n",
    "        return \"Overweight\"\n",
    "    else:\n",
    "        return \"Obesity\""
   ]
  }
 ],
 "metadata": {
  "kernelspec": {
   "display_name": "Python 3 (ipykernel)",
   "language": "python",
   "name": "python3"
  },
  "language_info": {
   "codemirror_mode": {
    "name": "ipython",
    "version": 3
   },
   "file_extension": ".py",
   "mimetype": "text/x-python",
   "name": "python",
   "nbconvert_exporter": "python",
   "pygments_lexer": "ipython3",
   "version": "3.9.18"
  }
 },
 "nbformat": 4,
 "nbformat_minor": 4
}
