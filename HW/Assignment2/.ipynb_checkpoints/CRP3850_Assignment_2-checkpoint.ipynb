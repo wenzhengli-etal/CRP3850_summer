{
 "cells": [
  {
   "cell_type": "markdown",
   "metadata": {},
   "source": [
    "### Assignment 2\n",
    "- Deadline: June 11th\n",
    "- total points: 80"
   ]
  },
  {
   "cell_type": "markdown",
   "metadata": {},
   "source": [
    "## Part 1\n",
    "\n",
    "Using the `housing_combined` dataset: \n",
    "\n",
    "(1) (5 pts) visualize the relationship between unit housing price (UnitPrice) and the distance to CBD.\n",
    "\n",
    "(2) (5 pts) show the transaction counts by month from Jan 2012 to Dec 2016"
   ]
  },
  {
   "cell_type": "markdown",
   "metadata": {},
   "source": [
    "## Part 2\n",
    "\n",
    "In this assignment, we will be working on the Beijing PM2.5 dataset and investigate whether the air quality Beijing has improved or not in the recent years due to a series of policies implemented for restricting emissions and faciliating the sustainable urban development. The original PM2.5 concentration dataset was collected from Beijing Municipal Ecological and Environmental Monitoring Center (http://www.bjmemc.com.cn/), and was aggregated from hourly level to daily level. \n",
    "\n",
    "Now open the data folder. There are five PM2.5 Excel files corresponding to five years, ranging from 2014 to 2018. Randomly open a file and check out the column names. The first column stores the date in the format of \"YYYYMMDD\", and the remaining columns are the names of 35 air quality monitoring stations that collect the daily PM2.5 concentration ($\\mu{}g/m^3$).\n",
    "\n",
    "Now finish the following tasks based on the requirements:\n",
    "\n",
    "(1) (10 pts) combine the five PM2.5 datasets and store them in a single dataframe. Make sure the column names for each year are the same before combining the files so that no redundant rows exist in the final dataframe. Note that after you generating a combined dataframe, run the following code to converts each columns to integer or float types.\n",
    "```python\n",
    "df_combine = df_combine.apply(pd.to_numeric)\n",
    "```\n",
    "\n",
    "(2) (10 pts) \n",
    "   - Create in the combined DataFrame a new column called \"PM25_Average\" that saves the daily average PM2.5 concentration in the 35 monitoring stations. You can use the `pd.mean(axis = 1)` to add up the each columns.   \n",
    "   - If a day with good air quality can be defined as the daily average PM2.5 concentration samller than 75 ($\\mu{}g/m^3$), then what percentage of days has a good air quality? \n",
    " \n",
    "(3) (10 pts) Create a new column called \"Year\" to store the corresponding years (YYYY only, instead of YYYYMMDD) (Notice: in case you want to convert the date to string type: `df_combine[\"date\"].astype(str)`). **Optional**: Place the new column between the column \"date\" and \"Dongsi\".    \n",
    "\n",
    "(4) (10 pts) If a day with daily average PM2.5 concentration greater than 200 ($\\mu{}g/m^3$) can be regarded as a seriously polluted day, then for the monitoring station \"Olympic Center\", \n",
    "- (1) how many days are counted as the seriously polluted day **for each year**?\n",
    "- (2) how many days are counted as good air quality day **for each year** (average PM2.5 concentration samller than 75)?\n",
    "- (3) Do you observe any improvement in air quality? You can use the function `.groupby().count()` to count the number of days. \n",
    "\n",
    "(5) (10 pts) Generate a line plot that displays the daily PM2.5 change in 2014 for the monitoring station \"Olympic Center\" which locates in the inner city area, and the station called \"The Great Wall\" in the mountainous area. What do you find? Please plot the two lines in the same Axes for easier comparison, and also make sure the x-axis is \"date\", and the y-axis are the PM2.5 values.\n",
    "\n",
    "(6) (10 pts) Generate a line plot that displays the trend of PM2.5 from 2014 to 2018 (using annual average data) for the stations \"Olympic Center\" and \"The Great Wall\". Please plot the two lines in the same Axes for easier comparison. \n",
    "\n",
    "\n",
    "(7) (10 pts) Now let us create a spatial dataset of Beijing air quality by adding the longitude and latitude columns to each station. The combined dataset now have station names as columns and a sequence as index. To join the coordinates to the dataset, we need to make the station names in the rows and date in the column names. The easiest solution is simply using `df = df.T` that transposes the index and columns in a DataFrame. But before that, make sure to import the `numpy` package (`import numpy as np`) to enable its built-in function `.T`. Also, set \"date\" column as index (Hint: `df_combineT = df_combine.set_index('date').T`）. Next, find the excel called \"lnglat.xlsx\" which stores the longitude and latitude of the stations. Merge it to the transposed dataframe.   "
   ]
  },
  {
   "cell_type": "code",
   "execution_count": null,
   "metadata": {},
   "outputs": [],
   "source": []
  }
 ],
 "metadata": {
  "kernelspec": {
   "display_name": "Python 3 (ipykernel)",
   "language": "python",
   "name": "python3"
  },
  "language_info": {
   "codemirror_mode": {
    "name": "ipython",
    "version": 3
   },
   "file_extension": ".py",
   "mimetype": "text/x-python",
   "name": "python",
   "nbconvert_exporter": "python",
   "pygments_lexer": "ipython3",
   "version": "3.11.7"
  }
 },
 "nbformat": 4,
 "nbformat_minor": 4
}
