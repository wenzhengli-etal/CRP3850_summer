{
 "cells": [
  {
   "cell_type": "markdown",
   "metadata": {},
   "source": [
    "*Download the 2016, 2017, and 2018 Manhattan Property Sales Data (Excel files) from here https://www1.nyc.gov/site/finance/taxes/property-annualized-sales-update.page.*"
   ]
  },
  {
   "cell_type": "markdown",
   "metadata": {},
   "source": [
    "### Q1. (55 Points) Combine the three years’ data using a for-loop. In the for-loop, do the following (for each year’s data set):\n",
    "\n",
    "* a.\t(10  Points) Load the data set as a Pandas DataFrame. Hint: you may want to use if-statement to treat year 2018 differently. <br>\n",
    "<span style=\"color:red\">5 pts: use if-statement for 2018</span><br>\n",
    "<span style=\"color:red\">5 pts: use str(y) for data file name</span>\n",
    "* b.\t( 5 Points) Print the current year and the shape of the DataFrame.<br>\n",
    "<span style=\"color:red\">3 pts: print year number </span><br>\n",
    "<span style=\"color:red\">2 pts: print shape</span>\n",
    "* c.\t(25 Points) Edit the DataFrame to be right (change the column names, delete the first 4 rows, and reset the index). Hint: these three years’ data sets have slightly different column names, so you may want to use 2016’s column names for the other two years (see Lecture 7 Codebook 2.3 for reference). <br>\n",
    "<span style=\"color:red\">10 pts: save 2016 column names </span><br>\n",
    "<span style=\"color:red\">10 pts: change column names to 2016's </span><br>\n",
    "<span style=\"color:red\">5 pts: keep data from 5th row</span>\n",
    "\n",
    "* d.\t(10 Points) Create a new column “YEAR” for the DataFrame with values equal to the current year. Hint: df[“YEAR”] = 2017 will create a new column “YEAR” in df with all values equal to 2017.<br>\n",
    "<span style=\"color:red\">10 pts: use df[“YEAR”] = y </span>\n",
    "\n",
    "* e.\t( 5 Points) Using “.concat()” function to combine data sets. Hint: you may want to create a blank Pandas DataFrame before the for-loop.<br>\n",
    "<span style=\"color:red\">5 pts: use concat() and update combined dataframe</span>"
   ]
  },
  {
   "cell_type": "code",
   "execution_count": 1,
   "metadata": {},
   "outputs": [],
   "source": [
    "import pandas as pd"
   ]
  },
  {
   "cell_type": "code",
   "execution_count": 2,
   "metadata": {},
   "outputs": [
    {
     "name": "stdout",
     "output_type": "stream",
     "text": [
      "2016 (21245, 21)\n",
      "2017 (18646, 21)\n",
      "2018 (17045, 21)\n"
     ]
    }
   ],
   "source": [
    "df_combine = pd.DataFrame()                     # Creata a blank dataframe\n",
    "\n",
    "for y in range(2016, 2019):\n",
    "    \n",
    "    if y == 2018:                               # a. Load the data set as a Pandas DataFrame\n",
    "        df = pd.read_excel(str(y) + '_manhattan.xlsx')\n",
    "    else:\n",
    "        df = pd.read_excel(str(y) + '_manhattan.xls')\n",
    "        \n",
    "    print(y, df.shape)                          # b. Print current year and the shape of the DataFrame\n",
    "    \n",
    "    if y == 2016:                               # c. Edit the DataFrame to be right\n",
    "        col_2016 = df.iloc[3].values                # save 2016 column name \n",
    "    df.columns = col_2016                           # rename each year's columns using col_2016\n",
    "    df = df.iloc[4:, :]                             # keep data from the 5th row\n",
    "    df.reset_index(drop = True, inplace = False)    # reset index for dataframe\n",
    "    \n",
    "    df['YEAR'] = y                              # d. Create a new column “YEAR” with values equal to the year\n",
    "    \n",
    "    df_combine = pd.concat([df_combine, df])    # e. Using “.concat()” to combine data sets"
   ]
  },
  {
   "cell_type": "markdown",
   "metadata": {},
   "source": [
    "### Q2. (15 Points) For the combined DataFrame, use “==” to check whether the number of rows equals 56924, whether the number of columns equals 22, and whether “YEAR” is in the column name list. Hint: all results should be True. \n",
    "\n",
    "* <span style=\"color:red\">5 pts for each check </span>"
   ]
  },
  {
   "cell_type": "code",
   "execution_count": 3,
   "metadata": {},
   "outputs": [
    {
     "data": {
      "text/plain": [
       "True"
      ]
     },
     "execution_count": 3,
     "metadata": {},
     "output_type": "execute_result"
    }
   ],
   "source": [
    "df_combine.shape[0] == 56924"
   ]
  },
  {
   "cell_type": "code",
   "execution_count": 4,
   "metadata": {},
   "outputs": [
    {
     "data": {
      "text/plain": [
       "True"
      ]
     },
     "execution_count": 4,
     "metadata": {},
     "output_type": "execute_result"
    }
   ],
   "source": [
    "df_combine.shape[1] == 22"
   ]
  },
  {
   "cell_type": "code",
   "execution_count": 5,
   "metadata": {},
   "outputs": [
    {
     "data": {
      "text/plain": [
       "True"
      ]
     },
     "execution_count": 5,
     "metadata": {},
     "output_type": "execute_result"
    }
   ],
   "source": [
    "'YEAR' in df_combine.columns"
   ]
  },
  {
   "cell_type": "markdown",
   "metadata": {},
   "source": [
    "### Q3. (30 Points) Use the combined DataFrame to show the number of properties sold in Chelsea neighborhood for 2016, 2017, and 2018. Hint: the answers are 947, 815, and 664. You may want to do row selection conditional on the Chelsea neighborhood and on each year. Note that the neighborhood name string may contain multiple whitespaces in some year (see Lecture 8 Codebook 2 for conditional selection).\n",
    "\n",
    "* <span style=\"color:red\">10 pts for each selection </span>\n"
   ]
  },
  {
   "cell_type": "code",
   "execution_count": 6,
   "metadata": {},
   "outputs": [
    {
     "data": {
      "text/plain": [
       "947"
      ]
     },
     "execution_count": 6,
     "metadata": {},
     "output_type": "execute_result"
    }
   ],
   "source": [
    "df_combine.loc[(df_combine['NEIGHBORHOOD\\n'] == 'CHELSEA                  ') & (df_combine['YEAR'] == 2016)].shape[0]"
   ]
  },
  {
   "cell_type": "code",
   "execution_count": 7,
   "metadata": {},
   "outputs": [
    {
     "data": {
      "text/plain": [
       "815"
      ]
     },
     "execution_count": 7,
     "metadata": {},
     "output_type": "execute_result"
    }
   ],
   "source": [
    "df_combine.loc[(df_combine['NEIGHBORHOOD\\n'] == 'CHELSEA') & (df_combine['YEAR'] == 2017)].shape[0]"
   ]
  },
  {
   "cell_type": "code",
   "execution_count": 8,
   "metadata": {
    "scrolled": true
   },
   "outputs": [
    {
     "data": {
      "text/plain": [
       "664"
      ]
     },
     "execution_count": 8,
     "metadata": {},
     "output_type": "execute_result"
    }
   ],
   "source": [
    "df_combine.loc[(df_combine['NEIGHBORHOOD\\n'] == 'CHELSEA') & (df_combine['YEAR'] == 2018)].shape[0]"
   ]
  }
 ],
 "metadata": {
  "kernelspec": {
   "display_name": "Python 3 (ipykernel)",
   "language": "python",
   "name": "python3"
  },
  "language_info": {
   "codemirror_mode": {
    "name": "ipython",
    "version": 3
   },
   "file_extension": ".py",
   "mimetype": "text/x-python",
   "name": "python",
   "nbconvert_exporter": "python",
   "pygments_lexer": "ipython3",
   "version": "3.9.19"
  }
 },
 "nbformat": 4,
 "nbformat_minor": 4
}
